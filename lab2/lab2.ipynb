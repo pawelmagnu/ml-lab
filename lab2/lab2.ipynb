{
 "cells": [
  {
   "cell_type": "code",
   "execution_count": 1,
   "id": "a550536f-fe66-4a69-b3f2-0d9ecdb5ef0c",
   "metadata": {},
   "outputs": [],
   "source": [
    "from sklearn.datasets import fetch_openml \n",
    "import numpy as np\n",
    "mnist = fetch_openml('mnist_784', version=1)"
   ]
  },
  {
   "cell_type": "code",
   "execution_count": 32,
   "id": "a12b9ba4-2881-43d3-9e56-d7fcc971ee00",
   "metadata": {},
   "outputs": [
    {
     "name": "stdout",
     "output_type": "stream",
     "text": [
      "[[0 0 0 0 0 0 0 0 0 0 0 0 0 0 0 0 0 0 0 0 0 0 0 0 0 0 0 0]\n",
      " [0 0 0 0 0 0 0 0 0 0 0 0 0 0 0 0 0 0 0 0 0 0 0 0 0 0 0 0]\n",
      " [0 0 0 0 0 0 0 0 0 0 0 0 0 0 0 0 0 0 0 0 0 0 0 0 0 0 0 0]\n",
      " [0 0 0 0 0 0 0 0 0 0 0 0 0 0 0 0 0 0 0 0 0 0 0 0 0 0 0 0]\n",
      " [0 0 0 0 0 0 0 0 0 0 0 0 0 0 0 0 0 0 0 0 0 0 0 0 0 0 0 0]\n",
      " [0 0 0 0 0 0 0 0 0 0 0 0 0 0 0 0 0 0 0 0 0 0 0 0 0 0 0 0]\n",
      " [0 0 0 0 0 0 0 0 0 0 0 0 0 0 0 0 0 0 0 0 0 0 0 0 0 0 0 0]\n",
      " [0 0 0 0 0 0 0 0 0 0 0 0 0 1 1 1 1 1 1 0 0 0 0 0 0 0 0 0]\n",
      " [0 0 0 0 0 0 0 0 0 0 0 1 1 1 1 1 1 1 1 0 0 0 0 0 0 0 0 0]\n",
      " [0 0 0 0 0 0 0 0 0 1 1 1 1 1 1 1 1 1 0 0 0 0 0 0 0 0 0 0]\n",
      " [0 0 0 0 0 0 0 1 1 1 1 1 1 1 0 1 1 1 0 0 0 0 0 0 0 0 0 0]\n",
      " [0 0 0 0 0 0 0 1 1 1 1 1 0 0 0 1 1 1 0 0 0 0 0 0 0 0 0 0]\n",
      " [0 0 0 0 0 0 0 0 0 0 0 0 0 0 0 1 1 1 0 0 0 0 0 0 0 0 0 0]\n",
      " [0 0 0 0 0 0 0 0 0 0 0 0 0 0 0 1 1 1 0 0 0 0 0 0 0 0 0 0]\n",
      " [0 0 0 0 0 0 0 0 0 0 0 0 0 0 0 1 1 1 0 0 0 0 0 0 0 0 0 0]\n",
      " [0 0 0 0 0 0 0 0 0 0 0 0 0 0 1 1 1 0 0 0 0 0 0 0 0 0 0 0]\n",
      " [0 0 0 0 0 0 0 0 0 0 0 0 0 0 1 1 1 0 0 0 0 0 0 0 0 0 0 0]\n",
      " [0 0 0 0 0 0 0 0 0 0 0 0 0 0 1 1 1 0 0 0 0 0 0 0 0 0 0 0]\n",
      " [0 0 0 0 0 0 0 0 0 0 0 0 0 0 1 1 0 0 0 0 0 0 0 0 0 0 0 0]\n",
      " [0 0 0 0 0 0 0 0 0 0 0 0 0 0 1 1 0 0 0 0 0 0 0 0 0 0 0 0]\n",
      " [0 0 0 0 0 0 0 0 0 0 0 0 0 1 1 1 0 0 0 0 0 0 0 0 0 0 0 0]\n",
      " [0 0 0 0 0 0 0 0 0 0 0 0 0 1 1 1 0 0 0 0 0 0 0 0 0 0 0 0]\n",
      " [0 0 0 0 0 0 0 0 0 0 0 0 0 1 1 1 0 0 0 0 0 0 0 0 0 0 0 0]\n",
      " [0 0 0 0 0 0 0 0 0 0 0 0 0 1 1 1 0 0 0 0 0 0 0 0 0 0 0 0]\n",
      " [0 0 0 0 0 0 0 0 0 0 0 0 0 1 1 0 0 0 0 0 0 0 0 0 0 0 0 0]\n",
      " [0 0 0 0 0 0 0 0 0 0 0 0 1 1 1 0 0 0 0 0 0 0 0 0 0 0 0 0]\n",
      " [0 0 0 0 0 0 0 0 0 0 0 0 1 1 1 0 0 0 0 0 0 0 0 0 0 0 0 0]\n",
      " [0 0 0 0 0 0 0 0 0 0 0 0 0 0 0 0 0 0 0 0 0 0 0 0 0 0 0 0]]\n"
     ]
    }
   ],
   "source": [
    "print((np.array(mnist.data.loc[42]).reshape(28, 28) > 0).astype(int))"
   ]
  },
  {
   "cell_type": "code",
   "execution_count": 33,
   "id": "d057bb7d-bf8c-4017-b418-f4aaa069dc88",
   "metadata": {},
   "outputs": [],
   "source": [
    "X,y = mnist.data,mnist.target"
   ]
  },
  {
   "cell_type": "code",
   "execution_count": 34,
   "id": "b011173b-af82-49ef-9a28-a03a434fa5b8",
   "metadata": {},
   "outputs": [],
   "source": [
    "y = y.sort_values()"
   ]
  },
  {
   "cell_type": "code",
   "execution_count": 35,
   "id": "d39976ae-342d-4e18-9c71-5a0ba03b085c",
   "metadata": {},
   "outputs": [
    {
     "data": {
      "text/plain": [
       "Int64Index([34999, 56424, 56419, 16705, 56415, 56404, 56397, 56389, 56388,\n",
       "            56429,\n",
       "            ...\n",
       "            13698, 33531, 13695, 13692, 58898, 13687, 42651, 58914, 13678,\n",
       "            58529],\n",
       "           dtype='int64', length=70000)"
      ]
     },
     "execution_count": 35,
     "metadata": {},
     "output_type": "execute_result"
    }
   ],
   "source": [
    "y.index"
   ]
  },
  {
   "cell_type": "code",
   "execution_count": 36,
   "id": "16a010ba-93bf-4685-b85c-1d78d61382e8",
   "metadata": {},
   "outputs": [],
   "source": [
    "X = X.reindex(y.index)"
   ]
  },
  {
   "cell_type": "code",
   "execution_count": 37,
   "id": "08d69dee-1655-407e-8f40-1f46aab173dd",
   "metadata": {},
   "outputs": [
    {
     "name": "stdout",
     "output_type": "stream",
     "text": [
      "(56000, 784) (56000,)\n",
      "(14000, 784) (14000,)\n"
     ]
    }
   ],
   "source": [
    "X_train, X_test = X[:56000], X[56000:]\n",
    "y_train, y_test = y[:56000], y[56000:]\n",
    "print(X_train.shape, y_train.shape)\n",
    "print(X_test.shape, y_test.shape)"
   ]
  },
  {
   "cell_type": "code",
   "execution_count": 38,
   "id": "ece281ae-9dec-4816-b2a9-8967294cd94e",
   "metadata": {},
   "outputs": [
    {
     "data": {
      "text/plain": [
       "count     56000\n",
       "unique        8\n",
       "top           1\n",
       "freq       7877\n",
       "Name: class, dtype: object"
      ]
     },
     "execution_count": 38,
     "metadata": {},
     "output_type": "execute_result"
    }
   ],
   "source": [
    "y_train.describe()"
   ]
  },
  {
   "cell_type": "code",
   "execution_count": 39,
   "id": "f479ce97-605d-4989-a171-166c743c0f7d",
   "metadata": {},
   "outputs": [
    {
     "data": {
      "text/plain": [
       "count     14000\n",
       "unique        3\n",
       "top           9\n",
       "freq       6958\n",
       "Name: class, dtype: object"
      ]
     },
     "execution_count": 39,
     "metadata": {},
     "output_type": "execute_result"
    }
   ],
   "source": [
    "y_test.describe()"
   ]
  },
  {
   "cell_type": "code",
   "execution_count": 40,
   "id": "8d6b0485-dce5-4b0e-b4ad-1723ac00e5ad",
   "metadata": {},
   "outputs": [],
   "source": [
    "# nie da sie osiagnac takiego podzialu. funkcja train_test_split, bo dokonuje ona pomieszania przed podzieleniem"
   ]
  },
  {
   "cell_type": "code",
   "execution_count": 41,
   "id": "55f5ef6e-8cdb-42ee-819a-7fe178a8fa60",
   "metadata": {},
   "outputs": [],
   "source": [
    "from sklearn.model_selection import train_test_split\n",
    "X_train, X_test, y_train, y_test = train_test_split(X, y, test_size=0.2, random_state=42,shuffle=True)"
   ]
  },
  {
   "cell_type": "code",
   "execution_count": 42,
   "id": "d362d80c-9b85-4cc6-8ece-080969c351bd",
   "metadata": {},
   "outputs": [
    {
     "data": {
      "text/plain": [
       "count     56000\n",
       "unique       10\n",
       "top           1\n",
       "freq       6285\n",
       "Name: class, dtype: object"
      ]
     },
     "execution_count": 42,
     "metadata": {},
     "output_type": "execute_result"
    }
   ],
   "source": [
    "y_train.describe()"
   ]
  },
  {
   "cell_type": "code",
   "execution_count": 43,
   "id": "d03662a4-8636-43e1-9dc8-6b1ef05597c1",
   "metadata": {},
   "outputs": [
    {
     "data": {
      "text/plain": [
       "count     14000\n",
       "unique       10\n",
       "top           1\n",
       "freq       1592\n",
       "Name: class, dtype: object"
      ]
     },
     "execution_count": 43,
     "metadata": {},
     "output_type": "execute_result"
    }
   ],
   "source": [
    "y_test.describe()"
   ]
  },
  {
   "cell_type": "code",
   "execution_count": 44,
   "id": "4407f156-9adb-4b41-bff8-b5356145e568",
   "metadata": {},
   "outputs": [],
   "source": [
    "y0_train = (y_train == '0')\n",
    "y0_test = (y_test == '0')"
   ]
  },
  {
   "cell_type": "code",
   "execution_count": 45,
   "id": "23230e80-40c1-4d3f-b061-a5cac91bbdc9",
   "metadata": {},
   "outputs": [],
   "source": [
    "from sklearn.linear_model import SGDClassifier\n",
    "from sklearn.metrics import accuracy_score\n",
    "from sklearn.metrics import confusion_matrix\n",
    "clf = SGDClassifier()"
   ]
  },
  {
   "cell_type": "code",
   "execution_count": 46,
   "id": "5669c32e-229c-4ca7-8e4f-21ae6c90a681",
   "metadata": {},
   "outputs": [],
   "source": [
    "clf.fit(X_train,y0_train)\n",
    "y0_pred_train = clf.predict(X_train)\n",
    "y0_pred_test = clf.predict(X_test)\n",
    "acc_train = accuracy_score(y0_train,y0_pred_train)\n",
    "acc_test = accuracy_score(y0_test,y0_pred_test)"
   ]
  },
  {
   "cell_type": "code",
   "execution_count": 47,
   "id": "829c719d-c582-4904-9f74-40a43ca34c6b",
   "metadata": {},
   "outputs": [
    {
     "data": {
      "text/plain": [
       "0.9841964285714285"
      ]
     },
     "execution_count": 47,
     "metadata": {},
     "output_type": "execute_result"
    }
   ],
   "source": [
    "acc_train"
   ]
  },
  {
   "cell_type": "code",
   "execution_count": 48,
   "id": "4f553051-9919-4101-8036-cfe9a8ab323c",
   "metadata": {},
   "outputs": [
    {
     "data": {
      "text/plain": [
       "0.9820714285714286"
      ]
     },
     "execution_count": 48,
     "metadata": {},
     "output_type": "execute_result"
    }
   ],
   "source": [
    "acc_test"
   ]
  },
  {
   "cell_type": "code",
   "execution_count": 49,
   "id": "7aaa707f-37f6-4e2f-b6c0-a3ed8793e41b",
   "metadata": {},
   "outputs": [
    {
     "data": {
      "text/plain": [
       "32576    False\n",
       "10306    False\n",
       "37102    False\n",
       "57835    False\n",
       "15160     True\n",
       "         ...  \n",
       "57853    False\n",
       "3896      True\n",
       "68497    False\n",
       "20351     True\n",
       "36463    False\n",
       "Name: class, Length: 56000, dtype: bool"
      ]
     },
     "execution_count": 49,
     "metadata": {},
     "output_type": "execute_result"
    }
   ],
   "source": [
    "y0_train"
   ]
  },
  {
   "cell_type": "code",
   "execution_count": 50,
   "id": "d3a4eb16-c3d2-409b-819c-0997e037eb12",
   "metadata": {},
   "outputs": [],
   "source": [
    "from sklearn.model_selection import cross_val_score\n",
    "cva = cross_val_score(clf, X_train, y0_train, cv=3)\n",
    "acc = [acc_train, acc_test]"
   ]
  },
  {
   "cell_type": "code",
   "execution_count": 51,
   "id": "b3c226ff-5e1b-46ce-9e5b-72d18cf5d16d",
   "metadata": {},
   "outputs": [],
   "source": [
    "import pickle\n",
    "with open('sgd_acc.pkl', 'wb') as f:\n",
    "    pickle.dump(acc,f)\n",
    "with open('sgd_cva.pkl', 'wb') as f:\n",
    "    pickle.dump(cva,f)"
   ]
  },
  {
   "cell_type": "code",
   "execution_count": null,
   "id": "fbd05b71-c581-4aee-ba2a-cf5f07bc34c9",
   "metadata": {},
   "outputs": [],
   "source": [
    "clf2 = SGDClassifier(max_iter=1000)\n",
    "clf.fit(X_train,y_train)\n",
    "\n",
    "y_pred = clf.predict(X_test)\n",
    "conf_mat = confusion_matrix(y_test, y_pred)"
   ]
  },
  {
   "cell_type": "code",
   "execution_count": null,
   "id": "9348cb28-c481-40b6-97ac-ed7296a84704",
   "metadata": {},
   "outputs": [],
   "source": [
    "print(conf_mat)"
   ]
  },
  {
   "cell_type": "code",
   "execution_count": null,
   "id": "637d6834-6733-4e3f-9518-3e3ac1123d52",
   "metadata": {},
   "outputs": [],
   "source": [
    "with open('sgd_cmx.pkl','wb') as f:\n",
    "    pickle.dump(conf_mat, f)"
   ]
  },
  {
   "cell_type": "code",
   "execution_count": null,
   "id": "36673f4b-7a2d-4a4f-97df-47566769e517",
   "metadata": {},
   "outputs": [],
   "source": [
    "cva"
   ]
  },
  {
   "cell_type": "code",
   "execution_count": null,
   "id": "101f139b-6b67-4e8b-9a3c-7be3585fac9f",
   "metadata": {},
   "outputs": [],
   "source": [
    "acc"
   ]
  },
  {
   "cell_type": "code",
   "execution_count": null,
   "id": "693b0497-e39f-4829-809e-03f25c62772a",
   "metadata": {},
   "outputs": [],
   "source": []
  }
 ],
 "metadata": {
  "kernelspec": {
   "display_name": "Python 3 (ipykernel)",
   "language": "python",
   "name": "python3"
  },
  "language_info": {
   "codemirror_mode": {
    "name": "ipython",
    "version": 3
   },
   "file_extension": ".py",
   "mimetype": "text/x-python",
   "name": "python",
   "nbconvert_exporter": "python",
   "pygments_lexer": "ipython3",
   "version": "3.9.10"
  }
 },
 "nbformat": 4,
 "nbformat_minor": 5
}
