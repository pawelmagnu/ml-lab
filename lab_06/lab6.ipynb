{
  "cells": [
    {
      "cell_type": "code",
      "execution_count": 1,
      "id": "8630cc2e-9759-4ae1-9053-96bf8460b961",
      "metadata": {
        "pycharm": {
          "name": "#%%\n"
        },
        "id": "8630cc2e-9759-4ae1-9053-96bf8460b961"
      },
      "outputs": [],
      "source": [
        "import numpy as np\n",
        "import pandas as pd\n",
        "import pickle\n",
        "from sklearn import datasets\n",
        "from sklearn.metrics import accuracy_score\n",
        "from sklearn.model_selection import train_test_split\n",
        "from sklearn.linear_model import LogisticRegression\n",
        "from sklearn.tree import DecisionTreeClassifier\n",
        "from sklearn.neighbors import KNeighborsClassifier\n",
        "from sklearn.ensemble import VotingClassifier\n",
        "from sklearn.ensemble import BaggingClassifier\n",
        "from sklearn.ensemble import RandomForestClassifier\n",
        "from sklearn.ensemble import AdaBoostClassifier\n",
        "from sklearn.ensemble import GradientBoostingClassifier"
      ]
    },
    {
      "cell_type": "code",
      "execution_count": 2,
      "id": "dbb99aa6-5c69-4857-b352-0be2df0c54a0",
      "metadata": {
        "pycharm": {
          "name": "#%%\n"
        },
        "id": "dbb99aa6-5c69-4857-b352-0be2df0c54a0"
      },
      "outputs": [],
      "source": [
        "data_breast = datasets.load_breast_cancer(as_frame=True)"
      ]
    },
    {
      "cell_type": "code",
      "execution_count": 3,
      "id": "c8f54795-505b-41df-99a6-2438c3b935b6",
      "metadata": {
        "pycharm": {
          "name": "#%%\n"
        },
        "id": "c8f54795-505b-41df-99a6-2438c3b935b6"
      },
      "outputs": [],
      "source": [
        "X_train, X_test, y_train, y_test = train_test_split(data_breast.data,data_breast.target,test_size=0.2,random_state=42)"
      ]
    },
    {
      "cell_type": "code",
      "execution_count": 4,
      "id": "37b3314f-9298-4219-b15d-b2b2bb6e4171",
      "metadata": {
        "pycharm": {
          "name": "#%%\n"
        },
        "id": "37b3314f-9298-4219-b15d-b2b2bb6e4171"
      },
      "outputs": [],
      "source": [
        "X_train2 = X_train[['mean texture', 'mean symmetry']]\n",
        "X_test2 = X_test[['mean texture', 'mean symmetry']]"
      ]
    },
    {
      "cell_type": "code",
      "execution_count": 5,
      "id": "4642d21f-52ba-4d4b-827a-3a771f63b3e8",
      "metadata": {
        "pycharm": {
          "name": "#%%\n"
        },
        "id": "4642d21f-52ba-4d4b-827a-3a771f63b3e8"
      },
      "outputs": [],
      "source": [
        "log_clf = LogisticRegression()\n",
        "tree_clf = DecisionTreeClassifier()\n",
        "knn_clf = KNeighborsClassifier()\n",
        "\n",
        "hard_clf = VotingClassifier(\n",
        "    estimators=[('lr', log_clf),\n",
        "                ('tr', tree_clf),\n",
        "                ('knn', knn_clf)],\n",
        "    voting='hard')\n",
        "\n",
        "soft_clf = VotingClassifier(\n",
        "    estimators=[('lr', log_clf),\n",
        "                ('tr', tree_clf),\n",
        "                ('knn', knn_clf)],\n",
        "    voting='soft')"
      ]
    },
    {
      "cell_type": "code",
      "execution_count": 6,
      "id": "655ceb28-7d71-441a-8094-db16c64f35fa",
      "metadata": {
        "pycharm": {
          "name": "#%%\n"
        },
        "id": "655ceb28-7d71-441a-8094-db16c64f35fa"
      },
      "outputs": [],
      "source": [
        "classifiers = [tree_clf,log_clf,knn_clf,hard_clf,soft_clf]\n",
        "acc = []\n",
        "for clf in classifiers:\n",
        "    clf.fit(X_train2, y_train)\n",
        "    first_val = accuracy_score(y_train, clf.predict(X_train2))\n",
        "    second_val = accuracy_score(y_test, clf.predict(X_test2))\n",
        "    acc.append((first_val,second_val))"
      ]
    },
    {
      "cell_type": "code",
      "execution_count": 7,
      "id": "960cae1b-f2df-4efd-81a9-001c702285be",
      "metadata": {
        "pycharm": {
          "name": "#%%\n"
        },
        "id": "960cae1b-f2df-4efd-81a9-001c702285be",
        "outputId": "a0fc4717-5b44-4a13-f819-75fcb8d3b71c",
        "colab": {
          "base_uri": "https://localhost:8080/"
        }
      },
      "outputs": [
        {
          "output_type": "execute_result",
          "data": {
            "text/plain": [
              "[(1.0, 0.6140350877192983),\n",
              " (0.7230769230769231, 0.7017543859649122),\n",
              " (0.7714285714285715, 0.6403508771929824),\n",
              " (0.8351648351648352, 0.6929824561403509),\n",
              " (0.9648351648351648, 0.6666666666666666)]"
            ]
          },
          "metadata": {},
          "execution_count": 7
        }
      ],
      "source": [
        "acc"
      ]
    },
    {
      "cell_type": "code",
      "execution_count": 8,
      "id": "121ef793-c408-4ff2-842d-9edac11b917d",
      "metadata": {
        "pycharm": {
          "name": "#%%\n"
        },
        "id": "121ef793-c408-4ff2-842d-9edac11b917d"
      },
      "outputs": [],
      "source": [
        "with open('acc_vote.pkl','wb') as f:\n",
        "    pickle.dump(acc,f)"
      ]
    },
    {
      "cell_type": "code",
      "execution_count": 9,
      "id": "a76f6d23-5ee6-4ae5-ad29-f1b30274523e",
      "metadata": {
        "pycharm": {
          "name": "#%%\n"
        },
        "id": "a76f6d23-5ee6-4ae5-ad29-f1b30274523e"
      },
      "outputs": [],
      "source": [
        "with open('vote.pkl','wb') as f:\n",
        "    pickle.dump(classifiers,f)"
      ]
    },
    {
      "cell_type": "code",
      "execution_count": 10,
      "id": "eed7ce2a-7a09-4923-b559-a65aaa744e2e",
      "metadata": {
        "pycharm": {
          "name": "#%%\n"
        },
        "id": "eed7ce2a-7a09-4923-b559-a65aaa744e2e"
      },
      "outputs": [],
      "source": [
        "bag_clf = BaggingClassifier(DecisionTreeClassifier(), n_estimators=30,\n",
        "                            bootstrap=True)\n",
        "bag50_clf = BaggingClassifier(DecisionTreeClassifier(), n_estimators=30,\n",
        "                              max_samples=0.5, bootstrap=True)\n",
        "pas_clf = BaggingClassifier(DecisionTreeClassifier(), n_estimators=30,\n",
        "                            bootstrap=False)\n",
        "pas50_clf = BaggingClassifier(DecisionTreeClassifier(), n_estimators=30,\n",
        "                              max_samples=0.5, bootstrap=False)\n",
        "rnd_clf = RandomForestClassifier(n_estimators=30)\n",
        "ada_clf = AdaBoostClassifier(n_estimators=30)\n",
        "gbc_clf = GradientBoostingClassifier(n_estimators=30)"
      ]
    },
    {
      "cell_type": "code",
      "execution_count": 11,
      "id": "684da680-855d-4c7f-82a6-82a89af3f925",
      "metadata": {
        "pycharm": {
          "name": "#%%\n"
        },
        "id": "684da680-855d-4c7f-82a6-82a89af3f925"
      },
      "outputs": [],
      "source": [
        "classif = [bag_clf,bag50_clf,pas_clf,pas50_clf,rnd_clf,ada_clf,gbc_clf]\n",
        "accurac = []\n",
        "for clf in classif:\n",
        "    clf.fit(X_train2, y_train)\n",
        "    first_val = accuracy_score(y_train, clf.predict(X_train2))\n",
        "    second_val = accuracy_score(y_test, clf.predict(X_test2))\n",
        "    accurac.append((first_val,second_val))"
      ]
    },
    {
      "cell_type": "code",
      "execution_count": 12,
      "id": "5fc79c0e-1b07-4417-9f85-ec2c55dcb2f8",
      "metadata": {
        "pycharm": {
          "name": "#%%\n"
        },
        "id": "5fc79c0e-1b07-4417-9f85-ec2c55dcb2f8",
        "outputId": "134704f1-69d2-418e-87ac-8c2a215760c0",
        "colab": {
          "base_uri": "https://localhost:8080/"
        }
      },
      "outputs": [
        {
          "output_type": "execute_result",
          "data": {
            "text/plain": [
              "[(0.9956043956043956, 0.6754385964912281),\n",
              " (0.9164835164835164, 0.6929824561403509),\n",
              " (1.0, 0.6228070175438597),\n",
              " (0.967032967032967, 0.6666666666666666),\n",
              " (0.9978021978021978, 0.7017543859649122),\n",
              " (0.8, 0.7368421052631579),\n",
              " (0.8373626373626374, 0.7105263157894737)]"
            ]
          },
          "metadata": {},
          "execution_count": 12
        }
      ],
      "source": [
        "accurac"
      ]
    },
    {
      "cell_type": "code",
      "execution_count": 13,
      "id": "c50c2c5e-3cf7-4919-aa83-5ec6bb39ff54",
      "metadata": {
        "pycharm": {
          "name": "#%%\n"
        },
        "id": "c50c2c5e-3cf7-4919-aa83-5ec6bb39ff54"
      },
      "outputs": [],
      "source": [
        "with open('acc_bag.pkl','wb') as f:\n",
        "    pickle.dump(accurac,f)"
      ]
    },
    {
      "cell_type": "code",
      "execution_count": 14,
      "id": "a0ce539a-145f-4628-9c8d-f7fd2834a109",
      "metadata": {
        "pycharm": {
          "name": "#%%\n"
        },
        "id": "a0ce539a-145f-4628-9c8d-f7fd2834a109"
      },
      "outputs": [],
      "source": [
        "with open('bag.pkl','wb') as f:\n",
        "    pickle.dump(classif,f)"
      ]
    },
    {
      "cell_type": "code",
      "execution_count": 15,
      "id": "a548d7aa-9fd4-4f49-a913-f709294b303a",
      "metadata": {
        "pycharm": {
          "name": "#%%\n"
        },
        "id": "a548d7aa-9fd4-4f49-a913-f709294b303a"
      },
      "outputs": [],
      "source": [
        "bagrnd_clf = BaggingClassifier(DecisionTreeClassifier(), n_estimators=30, bootstrap=True, \n",
        "                               bootstrap_features=False, max_samples=0.5, max_features=2)\n",
        "bagrnd_clf.fit(X_train,y_train)\n",
        "fea_acc = [accuracy_score(y_train, bagrnd_clf.predict(X_train)),\n",
        "           accuracy_score(y_test, bagrnd_clf.predict(X_test))]"
      ]
    },
    {
      "cell_type": "code",
      "execution_count": 16,
      "id": "b619085c-9a01-4aef-ba05-a4a8674ccd30",
      "metadata": {
        "pycharm": {
          "name": "#%%\n"
        },
        "id": "b619085c-9a01-4aef-ba05-a4a8674ccd30",
        "outputId": "6cf39948-b841-4958-f1a0-276f9014ae1e",
        "colab": {
          "base_uri": "https://localhost:8080/"
        }
      },
      "outputs": [
        {
          "output_type": "execute_result",
          "data": {
            "text/plain": [
              "[0.9956043956043956, 0.9824561403508771]"
            ]
          },
          "metadata": {},
          "execution_count": 16
        }
      ],
      "source": [
        "fea_acc"
      ]
    },
    {
      "cell_type": "code",
      "execution_count": 17,
      "id": "55550c65-f282-4800-96b8-36495c96635b",
      "metadata": {
        "pycharm": {
          "name": "#%%\n"
        },
        "id": "55550c65-f282-4800-96b8-36495c96635b"
      },
      "outputs": [],
      "source": [
        "with open('acc_fea.pkl','wb') as f:\n",
        "    pickle.dump(fea_acc,f)"
      ]
    },
    {
      "cell_type": "code",
      "execution_count": 18,
      "id": "7d394c7f-26ed-4538-ba98-9cc487fda32f",
      "metadata": {
        "pycharm": {
          "name": "#%%\n"
        },
        "id": "7d394c7f-26ed-4538-ba98-9cc487fda32f"
      },
      "outputs": [],
      "source": [
        "with open('fea.pkl','wb') as f:\n",
        "    pickle.dump([bagrnd_clf],f)"
      ]
    },
    {
      "cell_type": "code",
      "execution_count": 19,
      "id": "5c75a980-9869-47c0-90f0-6d94a0feaaf7",
      "metadata": {
        "pycharm": {
          "name": "#%%\n"
        },
        "id": "5c75a980-9869-47c0-90f0-6d94a0feaaf7"
      },
      "outputs": [],
      "source": [
        "# bagrnd_clf.estimators_features_"
      ]
    },
    {
      "cell_type": "code",
      "execution_count": 20,
      "id": "ea03534b-a765-4904-9674-cbd10071c441",
      "metadata": {
        "pycharm": {
          "name": "#%%\n"
        },
        "id": "ea03534b-a765-4904-9674-cbd10071c441"
      },
      "outputs": [],
      "source": [
        "# bagrnd_clf.estimators_"
      ]
    },
    {
      "cell_type": "code",
      "execution_count": 21,
      "id": "30e90704-4630-47e6-b80b-f2316d52e06d",
      "metadata": {
        "pycharm": {
          "name": "#%%\n"
        },
        "id": "30e90704-4630-47e6-b80b-f2316d52e06d"
      },
      "outputs": [],
      "source": [
        "df = pd.DataFrame({'train_acc': pd.Series(dtype='float'),\n",
        "                   'test_acc':  pd.Series(dtype='float'),\n",
        "                   'feat_list': pd.Series(dtype='object')})"
      ]
    },
    {
      "cell_type": "code",
      "execution_count": 22,
      "id": "0ce5e55a-3685-47ab-9558-9285d00437d6",
      "metadata": {
        "pycharm": {
          "name": "#%%\n"
        },
        "id": "0ce5e55a-3685-47ab-9558-9285d00437d6"
      },
      "outputs": [],
      "source": [
        "for index in range(len(bagrnd_clf.estimators_)):\n",
        "    x_train = X_train.iloc[:,bagrnd_clf.estimators_features_[index]]\n",
        "    x_test = X_test.iloc[:,bagrnd_clf.estimators_features_[index]]\n",
        "    feat_names = [str(x) for x in x_train.columns]\n",
        "    clf = bagrnd_clf.estimators_[index]\n",
        "    clf.fit(x_train,y_train)\n",
        "    train_acc = accuracy_score(y_train, clf.predict(x_train))\n",
        "    test_acc = accuracy_score(y_test, clf.predict(x_test))\n",
        "    df.loc[len(df)] = [train_acc,test_acc,feat_names]"
      ]
    },
    {
      "cell_type": "code",
      "execution_count": 23,
      "id": "16daf562-2fb7-4501-980a-dc25a14775e8",
      "metadata": {
        "pycharm": {
          "name": "#%%\n"
        },
        "id": "16daf562-2fb7-4501-980a-dc25a14775e8"
      },
      "outputs": [],
      "source": [
        "df = df.sort_values(by=['train_acc','test_acc'],ascending=False)"
      ]
    },
    {
      "cell_type": "code",
      "execution_count": 24,
      "id": "c6f8b8b8-d5f1-42de-85e2-542b84ad0dfa",
      "metadata": {
        "pycharm": {
          "name": "#%%\n"
        },
        "id": "c6f8b8b8-d5f1-42de-85e2-542b84ad0dfa",
        "outputId": "55b04481-a06f-4497-e491-796c2052c3c6",
        "colab": {
          "base_uri": "https://localhost:8080/",
          "height": 990
        }
      },
      "outputs": [
        {
          "output_type": "execute_result",
          "data": {
            "text/plain": [
              "    train_acc  test_acc                                          feat_list\n",
              "1         1.0  0.947368                    [worst area, compactness error]\n",
              "15        1.0  0.947368                 [worst concave points, area error]\n",
              "23        1.0  0.938596                      [concavity error, worst area]\n",
              "6         1.0  0.929825          [mean fractal dimension, worst perimeter]\n",
              "14        1.0  0.929825                  [worst perimeter, mean perimeter]\n",
              "29        1.0  0.929825                  [mean perimeter, worst perimeter]\n",
              "3         1.0  0.912281            [fractal dimension error, worst radius]\n",
              "0         1.0  0.903509                [worst perimeter, smoothness error]\n",
              "4         1.0  0.903509            [worst radius, fractal dimension error]\n",
              "20        1.0  0.877193           [smoothness error, worst concave points]\n",
              "24        1.0  0.877193                   [worst symmetry, mean perimeter]\n",
              "13        1.0  0.868421                     [mean texture, mean perimeter]\n",
              "7         1.0  0.850877                    [mean radius, smoothness error]\n",
              "11        1.0  0.850877                          [mean area, mean texture]\n",
              "22        1.0  0.842105         [worst fractal dimension, perimeter error]\n",
              "25        1.0  0.824561                  [worst symmetry, perimeter error]\n",
              "19        1.0  0.780702                       [mean texture, radius error]\n",
              "2         1.0  0.754386                   [concavity error, mean symmetry]\n",
              "27        1.0  0.736842                 [worst compactness, worst texture]\n",
              "8         1.0  0.719298           [concave points error, smoothness error]\n",
              "26        1.0  0.719298                      [texture error, mean texture]\n",
              "9         1.0  0.684211  [mean fractal dimension, worst fractal dimension]\n",
              "17        1.0  0.675439                [concavity error, smoothness error]\n",
              "5         1.0  0.666667            [worst texture, mean fractal dimension]\n",
              "18        1.0  0.640351                     [mean texture, symmetry error]\n",
              "21        1.0  0.631579        [worst fractal dimension, worst smoothness]\n",
              "10        1.0  0.605263            [mean texture, fractal dimension error]\n",
              "12        1.0  0.596491                     [texture error, mean symmetry]\n",
              "28        1.0  0.570175          [concavity error, mean fractal dimension]\n",
              "16        1.0  0.526316           [mean symmetry, worst fractal dimension]"
            ],
            "text/html": [
              "\n",
              "  <div id=\"df-4feb7c84-053d-4892-8a9a-f6b8fb8e0f6f\">\n",
              "    <div class=\"colab-df-container\">\n",
              "      <div>\n",
              "<style scoped>\n",
              "    .dataframe tbody tr th:only-of-type {\n",
              "        vertical-align: middle;\n",
              "    }\n",
              "\n",
              "    .dataframe tbody tr th {\n",
              "        vertical-align: top;\n",
              "    }\n",
              "\n",
              "    .dataframe thead th {\n",
              "        text-align: right;\n",
              "    }\n",
              "</style>\n",
              "<table border=\"1\" class=\"dataframe\">\n",
              "  <thead>\n",
              "    <tr style=\"text-align: right;\">\n",
              "      <th></th>\n",
              "      <th>train_acc</th>\n",
              "      <th>test_acc</th>\n",
              "      <th>feat_list</th>\n",
              "    </tr>\n",
              "  </thead>\n",
              "  <tbody>\n",
              "    <tr>\n",
              "      <th>1</th>\n",
              "      <td>1.0</td>\n",
              "      <td>0.947368</td>\n",
              "      <td>[worst area, compactness error]</td>\n",
              "    </tr>\n",
              "    <tr>\n",
              "      <th>15</th>\n",
              "      <td>1.0</td>\n",
              "      <td>0.947368</td>\n",
              "      <td>[worst concave points, area error]</td>\n",
              "    </tr>\n",
              "    <tr>\n",
              "      <th>23</th>\n",
              "      <td>1.0</td>\n",
              "      <td>0.938596</td>\n",
              "      <td>[concavity error, worst area]</td>\n",
              "    </tr>\n",
              "    <tr>\n",
              "      <th>6</th>\n",
              "      <td>1.0</td>\n",
              "      <td>0.929825</td>\n",
              "      <td>[mean fractal dimension, worst perimeter]</td>\n",
              "    </tr>\n",
              "    <tr>\n",
              "      <th>14</th>\n",
              "      <td>1.0</td>\n",
              "      <td>0.929825</td>\n",
              "      <td>[worst perimeter, mean perimeter]</td>\n",
              "    </tr>\n",
              "    <tr>\n",
              "      <th>29</th>\n",
              "      <td>1.0</td>\n",
              "      <td>0.929825</td>\n",
              "      <td>[mean perimeter, worst perimeter]</td>\n",
              "    </tr>\n",
              "    <tr>\n",
              "      <th>3</th>\n",
              "      <td>1.0</td>\n",
              "      <td>0.912281</td>\n",
              "      <td>[fractal dimension error, worst radius]</td>\n",
              "    </tr>\n",
              "    <tr>\n",
              "      <th>0</th>\n",
              "      <td>1.0</td>\n",
              "      <td>0.903509</td>\n",
              "      <td>[worst perimeter, smoothness error]</td>\n",
              "    </tr>\n",
              "    <tr>\n",
              "      <th>4</th>\n",
              "      <td>1.0</td>\n",
              "      <td>0.903509</td>\n",
              "      <td>[worst radius, fractal dimension error]</td>\n",
              "    </tr>\n",
              "    <tr>\n",
              "      <th>20</th>\n",
              "      <td>1.0</td>\n",
              "      <td>0.877193</td>\n",
              "      <td>[smoothness error, worst concave points]</td>\n",
              "    </tr>\n",
              "    <tr>\n",
              "      <th>24</th>\n",
              "      <td>1.0</td>\n",
              "      <td>0.877193</td>\n",
              "      <td>[worst symmetry, mean perimeter]</td>\n",
              "    </tr>\n",
              "    <tr>\n",
              "      <th>13</th>\n",
              "      <td>1.0</td>\n",
              "      <td>0.868421</td>\n",
              "      <td>[mean texture, mean perimeter]</td>\n",
              "    </tr>\n",
              "    <tr>\n",
              "      <th>7</th>\n",
              "      <td>1.0</td>\n",
              "      <td>0.850877</td>\n",
              "      <td>[mean radius, smoothness error]</td>\n",
              "    </tr>\n",
              "    <tr>\n",
              "      <th>11</th>\n",
              "      <td>1.0</td>\n",
              "      <td>0.850877</td>\n",
              "      <td>[mean area, mean texture]</td>\n",
              "    </tr>\n",
              "    <tr>\n",
              "      <th>22</th>\n",
              "      <td>1.0</td>\n",
              "      <td>0.842105</td>\n",
              "      <td>[worst fractal dimension, perimeter error]</td>\n",
              "    </tr>\n",
              "    <tr>\n",
              "      <th>25</th>\n",
              "      <td>1.0</td>\n",
              "      <td>0.824561</td>\n",
              "      <td>[worst symmetry, perimeter error]</td>\n",
              "    </tr>\n",
              "    <tr>\n",
              "      <th>19</th>\n",
              "      <td>1.0</td>\n",
              "      <td>0.780702</td>\n",
              "      <td>[mean texture, radius error]</td>\n",
              "    </tr>\n",
              "    <tr>\n",
              "      <th>2</th>\n",
              "      <td>1.0</td>\n",
              "      <td>0.754386</td>\n",
              "      <td>[concavity error, mean symmetry]</td>\n",
              "    </tr>\n",
              "    <tr>\n",
              "      <th>27</th>\n",
              "      <td>1.0</td>\n",
              "      <td>0.736842</td>\n",
              "      <td>[worst compactness, worst texture]</td>\n",
              "    </tr>\n",
              "    <tr>\n",
              "      <th>8</th>\n",
              "      <td>1.0</td>\n",
              "      <td>0.719298</td>\n",
              "      <td>[concave points error, smoothness error]</td>\n",
              "    </tr>\n",
              "    <tr>\n",
              "      <th>26</th>\n",
              "      <td>1.0</td>\n",
              "      <td>0.719298</td>\n",
              "      <td>[texture error, mean texture]</td>\n",
              "    </tr>\n",
              "    <tr>\n",
              "      <th>9</th>\n",
              "      <td>1.0</td>\n",
              "      <td>0.684211</td>\n",
              "      <td>[mean fractal dimension, worst fractal dimension]</td>\n",
              "    </tr>\n",
              "    <tr>\n",
              "      <th>17</th>\n",
              "      <td>1.0</td>\n",
              "      <td>0.675439</td>\n",
              "      <td>[concavity error, smoothness error]</td>\n",
              "    </tr>\n",
              "    <tr>\n",
              "      <th>5</th>\n",
              "      <td>1.0</td>\n",
              "      <td>0.666667</td>\n",
              "      <td>[worst texture, mean fractal dimension]</td>\n",
              "    </tr>\n",
              "    <tr>\n",
              "      <th>18</th>\n",
              "      <td>1.0</td>\n",
              "      <td>0.640351</td>\n",
              "      <td>[mean texture, symmetry error]</td>\n",
              "    </tr>\n",
              "    <tr>\n",
              "      <th>21</th>\n",
              "      <td>1.0</td>\n",
              "      <td>0.631579</td>\n",
              "      <td>[worst fractal dimension, worst smoothness]</td>\n",
              "    </tr>\n",
              "    <tr>\n",
              "      <th>10</th>\n",
              "      <td>1.0</td>\n",
              "      <td>0.605263</td>\n",
              "      <td>[mean texture, fractal dimension error]</td>\n",
              "    </tr>\n",
              "    <tr>\n",
              "      <th>12</th>\n",
              "      <td>1.0</td>\n",
              "      <td>0.596491</td>\n",
              "      <td>[texture error, mean symmetry]</td>\n",
              "    </tr>\n",
              "    <tr>\n",
              "      <th>28</th>\n",
              "      <td>1.0</td>\n",
              "      <td>0.570175</td>\n",
              "      <td>[concavity error, mean fractal dimension]</td>\n",
              "    </tr>\n",
              "    <tr>\n",
              "      <th>16</th>\n",
              "      <td>1.0</td>\n",
              "      <td>0.526316</td>\n",
              "      <td>[mean symmetry, worst fractal dimension]</td>\n",
              "    </tr>\n",
              "  </tbody>\n",
              "</table>\n",
              "</div>\n",
              "      <button class=\"colab-df-convert\" onclick=\"convertToInteractive('df-4feb7c84-053d-4892-8a9a-f6b8fb8e0f6f')\"\n",
              "              title=\"Convert this dataframe to an interactive table.\"\n",
              "              style=\"display:none;\">\n",
              "        \n",
              "  <svg xmlns=\"http://www.w3.org/2000/svg\" height=\"24px\"viewBox=\"0 0 24 24\"\n",
              "       width=\"24px\">\n",
              "    <path d=\"M0 0h24v24H0V0z\" fill=\"none\"/>\n",
              "    <path d=\"M18.56 5.44l.94 2.06.94-2.06 2.06-.94-2.06-.94-.94-2.06-.94 2.06-2.06.94zm-11 1L8.5 8.5l.94-2.06 2.06-.94-2.06-.94L8.5 2.5l-.94 2.06-2.06.94zm10 10l.94 2.06.94-2.06 2.06-.94-2.06-.94-.94-2.06-.94 2.06-2.06.94z\"/><path d=\"M17.41 7.96l-1.37-1.37c-.4-.4-.92-.59-1.43-.59-.52 0-1.04.2-1.43.59L10.3 9.45l-7.72 7.72c-.78.78-.78 2.05 0 2.83L4 21.41c.39.39.9.59 1.41.59.51 0 1.02-.2 1.41-.59l7.78-7.78 2.81-2.81c.8-.78.8-2.07 0-2.86zM5.41 20L4 18.59l7.72-7.72 1.47 1.35L5.41 20z\"/>\n",
              "  </svg>\n",
              "      </button>\n",
              "      \n",
              "  <style>\n",
              "    .colab-df-container {\n",
              "      display:flex;\n",
              "      flex-wrap:wrap;\n",
              "      gap: 12px;\n",
              "    }\n",
              "\n",
              "    .colab-df-convert {\n",
              "      background-color: #E8F0FE;\n",
              "      border: none;\n",
              "      border-radius: 50%;\n",
              "      cursor: pointer;\n",
              "      display: none;\n",
              "      fill: #1967D2;\n",
              "      height: 32px;\n",
              "      padding: 0 0 0 0;\n",
              "      width: 32px;\n",
              "    }\n",
              "\n",
              "    .colab-df-convert:hover {\n",
              "      background-color: #E2EBFA;\n",
              "      box-shadow: 0px 1px 2px rgba(60, 64, 67, 0.3), 0px 1px 3px 1px rgba(60, 64, 67, 0.15);\n",
              "      fill: #174EA6;\n",
              "    }\n",
              "\n",
              "    [theme=dark] .colab-df-convert {\n",
              "      background-color: #3B4455;\n",
              "      fill: #D2E3FC;\n",
              "    }\n",
              "\n",
              "    [theme=dark] .colab-df-convert:hover {\n",
              "      background-color: #434B5C;\n",
              "      box-shadow: 0px 1px 3px 1px rgba(0, 0, 0, 0.15);\n",
              "      filter: drop-shadow(0px 1px 2px rgba(0, 0, 0, 0.3));\n",
              "      fill: #FFFFFF;\n",
              "    }\n",
              "  </style>\n",
              "\n",
              "      <script>\n",
              "        const buttonEl =\n",
              "          document.querySelector('#df-4feb7c84-053d-4892-8a9a-f6b8fb8e0f6f button.colab-df-convert');\n",
              "        buttonEl.style.display =\n",
              "          google.colab.kernel.accessAllowed ? 'block' : 'none';\n",
              "\n",
              "        async function convertToInteractive(key) {\n",
              "          const element = document.querySelector('#df-4feb7c84-053d-4892-8a9a-f6b8fb8e0f6f');\n",
              "          const dataTable =\n",
              "            await google.colab.kernel.invokeFunction('convertToInteractive',\n",
              "                                                     [key], {});\n",
              "          if (!dataTable) return;\n",
              "\n",
              "          const docLinkHtml = 'Like what you see? Visit the ' +\n",
              "            '<a target=\"_blank\" href=https://colab.research.google.com/notebooks/data_table.ipynb>data table notebook</a>'\n",
              "            + ' to learn more about interactive tables.';\n",
              "          element.innerHTML = '';\n",
              "          dataTable['output_type'] = 'display_data';\n",
              "          await google.colab.output.renderOutput(dataTable, element);\n",
              "          const docLink = document.createElement('div');\n",
              "          docLink.innerHTML = docLinkHtml;\n",
              "          element.appendChild(docLink);\n",
              "        }\n",
              "      </script>\n",
              "    </div>\n",
              "  </div>\n",
              "  "
            ]
          },
          "metadata": {},
          "execution_count": 24
        }
      ],
      "source": [
        "df"
      ]
    },
    {
      "cell_type": "code",
      "execution_count": 25,
      "id": "4fd09b7b-b7c8-49e1-a1ef-bc129798007a",
      "metadata": {
        "pycharm": {
          "name": "#%%\n"
        },
        "id": "4fd09b7b-b7c8-49e1-a1ef-bc129798007a"
      },
      "outputs": [],
      "source": [
        "with open('acc_fea_rank.pkl','wb') as f:\n",
        "    pickle.dump(df,f)"
      ]
    },
    {
      "cell_type": "code",
      "execution_count": 25,
      "id": "75e8a34a-2d78-4183-9c7f-0ac3702022ba",
      "metadata": {
        "pycharm": {
          "name": "#%%\n"
        },
        "id": "75e8a34a-2d78-4183-9c7f-0ac3702022ba"
      },
      "outputs": [],
      "source": []
    }
  ],
  "metadata": {
    "kernelspec": {
      "display_name": "Python 3 (ipykernel)",
      "language": "python",
      "name": "python3"
    },
    "language_info": {
      "codemirror_mode": {
        "name": "ipython",
        "version": 3
      },
      "file_extension": ".py",
      "mimetype": "text/x-python",
      "name": "python",
      "nbconvert_exporter": "python",
      "pygments_lexer": "ipython3",
      "version": "3.9.4"
    },
    "colab": {
      "provenance": []
    }
  },
  "nbformat": 4,
  "nbformat_minor": 5
}