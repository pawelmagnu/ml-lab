{
 "cells": [
  {
   "cell_type": "code",
   "execution_count": 1,
   "id": "8630cc2e-9759-4ae1-9053-96bf8460b961",
   "metadata": {
    "pycharm": {
     "name": "#%%\n"
    }
   },
   "outputs": [],
   "source": [
    "import numpy as np\n",
    "import pandas as pd\n",
    "import pickle\n",
    "from sklearn import datasets\n",
    "from sklearn.metrics import accuracy_score\n",
    "from sklearn.model_selection import train_test_split\n",
    "from sklearn.linear_model import LogisticRegression\n",
    "from sklearn.tree import DecisionTreeClassifier\n",
    "from sklearn.neighbors import KNeighborsClassifier\n",
    "from sklearn.ensemble import VotingClassifier\n",
    "from sklearn.ensemble import BaggingClassifier\n",
    "from sklearn.ensemble import RandomForestClassifier\n",
    "from sklearn.ensemble import AdaBoostClassifier\n",
    "from sklearn.ensemble import GradientBoostingClassifier"
   ]
  },
  {
   "cell_type": "code",
   "execution_count": 2,
   "id": "dbb99aa6-5c69-4857-b352-0be2df0c54a0",
   "metadata": {
    "pycharm": {
     "name": "#%%\n"
    }
   },
   "outputs": [],
   "source": [
    "data_breast = datasets.load_breast_cancer(as_frame=True)"
   ]
  },
  {
   "cell_type": "code",
   "execution_count": 3,
   "id": "c8f54795-505b-41df-99a6-2438c3b935b6",
   "metadata": {
    "pycharm": {
     "name": "#%%\n"
    }
   },
   "outputs": [],
   "source": [
    "X_train, X_test, y_train, y_test = train_test_split(data_breast.data,data_breast.target,test_size=0.2,random_state=42)"
   ]
  },
  {
   "cell_type": "code",
   "execution_count": 4,
   "id": "37b3314f-9298-4219-b15d-b2b2bb6e4171",
   "metadata": {
    "pycharm": {
     "name": "#%%\n"
    }
   },
   "outputs": [],
   "source": [
    "X_train2 = X_train[['mean texture', 'mean symmetry']]\n",
    "X_test2 = X_test[['mean texture', 'mean symmetry']]"
   ]
  },
  {
   "cell_type": "code",
   "execution_count": 5,
   "id": "4642d21f-52ba-4d4b-827a-3a771f63b3e8",
   "metadata": {
    "pycharm": {
     "name": "#%%\n"
    }
   },
   "outputs": [],
   "source": [
    "log_clf = LogisticRegression()\n",
    "tree_clf = DecisionTreeClassifier()\n",
    "knn_clf = KNeighborsClassifier()\n",
    "\n",
    "hard_clf = VotingClassifier(\n",
    "    estimators=[('lr', log_clf),\n",
    "                ('tr', tree_clf),\n",
    "                ('knn', knn_clf)],\n",
    "    voting='hard')\n",
    "\n",
    "soft_clf = VotingClassifier(\n",
    "    estimators=[('lr', log_clf),\n",
    "                ('tr', tree_clf),\n",
    "                ('knn', knn_clf)],\n",
    "    voting='soft')"
   ]
  },
  {
   "cell_type": "code",
   "execution_count": 6,
   "id": "655ceb28-7d71-441a-8094-db16c64f35fa",
   "metadata": {
    "pycharm": {
     "name": "#%%\n"
    }
   },
   "outputs": [],
   "source": [
    "classifiers = [tree_clf,log_clf,knn_clf,hard_clf,soft_clf]\n",
    "acc = []\n",
    "for clf in classifiers:\n",
    "    clf.fit(X_train2, y_train)\n",
    "    first_val = accuracy_score(y_train, clf.predict(X_train2))\n",
    "    second_val = accuracy_score(y_test, clf.predict(X_test2))\n",
    "    acc.append((first_val,second_val))"
   ]
  },
  {
   "cell_type": "code",
   "execution_count": 7,
   "id": "960cae1b-f2df-4efd-81a9-001c702285be",
   "metadata": {
    "pycharm": {
     "name": "#%%\n"
    }
   },
   "outputs": [
    {
     "data": {
      "text/plain": [
       "[(1.0, 0.631578947368421),\n",
       " (0.7230769230769231, 0.7017543859649122),\n",
       " (0.7714285714285715, 0.6403508771929824),\n",
       " (0.8351648351648352, 0.7017543859649122),\n",
       " (0.9648351648351648, 0.6666666666666666)]"
      ]
     },
     "execution_count": 7,
     "metadata": {},
     "output_type": "execute_result"
    }
   ],
   "source": [
    "acc"
   ]
  },
  {
   "cell_type": "code",
   "execution_count": 8,
   "id": "121ef793-c408-4ff2-842d-9edac11b917d",
   "metadata": {
    "pycharm": {
     "name": "#%%\n"
    }
   },
   "outputs": [],
   "source": [
    "with open('acc_vote.pkl','wb') as f:\n",
    "    pickle.dump(acc,f)"
   ]
  },
  {
   "cell_type": "code",
   "execution_count": 9,
   "id": "a76f6d23-5ee6-4ae5-ad29-f1b30274523e",
   "metadata": {
    "pycharm": {
     "name": "#%%\n"
    }
   },
   "outputs": [],
   "source": [
    "with open('vote.pkl','wb') as f:\n",
    "    pickle.dump(classifiers,f)"
   ]
  },
  {
   "cell_type": "code",
   "execution_count": 10,
   "id": "eed7ce2a-7a09-4923-b559-a65aaa744e2e",
   "metadata": {
    "pycharm": {
     "name": "#%%\n"
    }
   },
   "outputs": [],
   "source": [
    "bag_clf = BaggingClassifier(DecisionTreeClassifier(), n_estimators=30,\n",
    "                            bootstrap=True)\n",
    "bag50_clf = BaggingClassifier(DecisionTreeClassifier(), n_estimators=30,\n",
    "                              max_samples=0.5, bootstrap=True)\n",
    "pas_clf = BaggingClassifier(DecisionTreeClassifier(), n_estimators=30,\n",
    "                            bootstrap=False)\n",
    "pas50_clf = BaggingClassifier(DecisionTreeClassifier(), n_estimators=30,\n",
    "                              max_samples=0.5, bootstrap=False)\n",
    "rnd_clf = RandomForestClassifier(n_estimators=30)\n",
    "ada_clf = AdaBoostClassifier(n_estimators=30)\n",
    "gbc_clf = GradientBoostingClassifier(n_estimators=30)"
   ]
  },
  {
   "cell_type": "code",
   "execution_count": 11,
   "id": "684da680-855d-4c7f-82a6-82a89af3f925",
   "metadata": {
    "pycharm": {
     "name": "#%%\n"
    }
   },
   "outputs": [],
   "source": [
    "classif = [bag_clf,bag50_clf,pas_clf,pas50_clf,rnd_clf,ada_clf,gbc_clf]\n",
    "accurac = []\n",
    "for clf in classif:\n",
    "    clf.fit(X_train2, y_train)\n",
    "    first_val = accuracy_score(y_train, clf.predict(X_train2))\n",
    "    second_val = accuracy_score(y_test, clf.predict(X_test2))\n",
    "    accurac.append((first_val,second_val))"
   ]
  },
  {
   "cell_type": "code",
   "execution_count": 12,
   "id": "5fc79c0e-1b07-4417-9f85-ec2c55dcb2f8",
   "metadata": {
    "pycharm": {
     "name": "#%%\n"
    }
   },
   "outputs": [
    {
     "data": {
      "text/plain": [
       "[(0.9978021978021978, 0.6754385964912281),\n",
       " (0.9252747252747253, 0.7192982456140351),\n",
       " (1.0, 0.6228070175438597),\n",
       " (0.978021978021978, 0.6842105263157895),\n",
       " (0.9978021978021978, 0.7017543859649122),\n",
       " (0.8, 0.7368421052631579),\n",
       " (0.8373626373626374, 0.7105263157894737)]"
      ]
     },
     "execution_count": 12,
     "metadata": {},
     "output_type": "execute_result"
    }
   ],
   "source": [
    "accurac"
   ]
  },
  {
   "cell_type": "code",
   "execution_count": 13,
   "id": "c50c2c5e-3cf7-4919-aa83-5ec6bb39ff54",
   "metadata": {
    "pycharm": {
     "name": "#%%\n"
    }
   },
   "outputs": [],
   "source": [
    "with open('acc_bag.pkl','wb') as f:\n",
    "    pickle.dump(accurac,f)"
   ]
  },
  {
   "cell_type": "code",
   "execution_count": 14,
   "id": "a0ce539a-145f-4628-9c8d-f7fd2834a109",
   "metadata": {
    "pycharm": {
     "name": "#%%\n"
    }
   },
   "outputs": [],
   "source": [
    "with open('bag.pkl','wb') as f:\n",
    "    pickle.dump(classif,f)"
   ]
  },
  {
   "cell_type": "code",
   "execution_count": 15,
   "id": "a548d7aa-9fd4-4f49-a913-f709294b303a",
   "metadata": {
    "pycharm": {
     "name": "#%%\n"
    }
   },
   "outputs": [],
   "source": [
    "bagrnd_clf = BaggingClassifier(DecisionTreeClassifier(), n_estimators=30, bootstrap=True, \n",
    "                               bootstrap_features=False, max_samples=0.5, max_features=2)\n",
    "bagrnd_clf.fit(X_train,y_train)\n",
    "fea_acc = [accuracy_score(y_train, bagrnd_clf.predict(X_train)),\n",
    "           accuracy_score(y_test, bagrnd_clf.predict(X_test))]"
   ]
  },
  {
   "cell_type": "code",
   "execution_count": 16,
   "id": "b619085c-9a01-4aef-ba05-a4a8674ccd30",
   "metadata": {
    "pycharm": {
     "name": "#%%\n"
    }
   },
   "outputs": [
    {
     "data": {
      "text/plain": [
       "[0.9934065934065934, 0.956140350877193]"
      ]
     },
     "execution_count": 16,
     "metadata": {},
     "output_type": "execute_result"
    }
   ],
   "source": [
    "fea_acc"
   ]
  },
  {
   "cell_type": "code",
   "execution_count": 17,
   "id": "55550c65-f282-4800-96b8-36495c96635b",
   "metadata": {
    "pycharm": {
     "name": "#%%\n"
    }
   },
   "outputs": [],
   "source": [
    "with open('acc_fea.pkl','wb') as f:\n",
    "    pickle.dump(fea_acc,f)"
   ]
  },
  {
   "cell_type": "code",
   "execution_count": 18,
   "id": "7d394c7f-26ed-4538-ba98-9cc487fda32f",
   "metadata": {
    "pycharm": {
     "name": "#%%\n"
    }
   },
   "outputs": [],
   "source": [
    "with open('fea.pkl','wb') as f:\n",
    "    pickle.dump([bagrnd_clf],f)"
   ]
  },
  {
   "cell_type": "code",
   "execution_count": 19,
   "id": "5c75a980-9869-47c0-90f0-6d94a0feaaf7",
   "metadata": {
    "pycharm": {
     "name": "#%%\n"
    }
   },
   "outputs": [],
   "source": [
    "# bagrnd_clf.estimators_features_"
   ]
  },
  {
   "cell_type": "code",
   "execution_count": 20,
   "id": "ea03534b-a765-4904-9674-cbd10071c441",
   "metadata": {
    "pycharm": {
     "name": "#%%\n"
    }
   },
   "outputs": [],
   "source": [
    "# bagrnd_clf.estimators_"
   ]
  },
  {
   "cell_type": "code",
   "execution_count": 21,
   "id": "30e90704-4630-47e6-b80b-f2316d52e06d",
   "metadata": {
    "pycharm": {
     "name": "#%%\n"
    }
   },
   "outputs": [],
   "source": [
    "df = pd.DataFrame({'train_acc': pd.Series(dtype='float'),\n",
    "                   'test_acc':  pd.Series(dtype='float'),\n",
    "                   'feat_list': pd.Series(dtype='object')})"
   ]
  },
  {
   "cell_type": "code",
   "execution_count": 22,
   "id": "0ce5e55a-3685-47ab-9558-9285d00437d6",
   "metadata": {
    "pycharm": {
     "name": "#%%\n"
    }
   },
   "outputs": [],
   "source": [
    "for index in range(len(bagrnd_clf.estimators_)):\n",
    "    x_train = X_train.iloc[:,bagrnd_clf.estimators_features_[index]]\n",
    "    x_test = X_test.iloc[:,bagrnd_clf.estimators_features_[index]]\n",
    "    feat_names = [str(x) for x in x_train.columns]\n",
    "    clf = bagrnd_clf.estimators_[index]\n",
    "    clf.fit(x_train,y_train)\n",
    "    train_acc = accuracy_score(y_train, clf.predict(x_train))\n",
    "    test_acc = accuracy_score(y_test, clf.predict(x_test))\n",
    "    df.loc[len(df)] = [train_acc,test_acc,feat_names]"
   ]
  },
  {
   "cell_type": "code",
   "execution_count": 23,
   "id": "16daf562-2fb7-4501-980a-dc25a14775e8",
   "metadata": {
    "pycharm": {
     "name": "#%%\n"
    }
   },
   "outputs": [],
   "source": [
    "df = df.sort_values(by=['train_acc','test_acc'],ascending=False)"
   ]
  },
  {
   "cell_type": "code",
   "execution_count": 24,
   "id": "c6f8b8b8-d5f1-42de-85e2-542b84ad0dfa",
   "metadata": {
    "pycharm": {
     "name": "#%%\n"
    }
   },
   "outputs": [
    {
     "data": {
      "text/html": [
       "<div>\n",
       "<style scoped>\n",
       "    .dataframe tbody tr th:only-of-type {\n",
       "        vertical-align: middle;\n",
       "    }\n",
       "\n",
       "    .dataframe tbody tr th {\n",
       "        vertical-align: top;\n",
       "    }\n",
       "\n",
       "    .dataframe thead th {\n",
       "        text-align: right;\n",
       "    }\n",
       "</style>\n",
       "<table border=\"1\" class=\"dataframe\">\n",
       "  <thead>\n",
       "    <tr style=\"text-align: right;\">\n",
       "      <th></th>\n",
       "      <th>train_acc</th>\n",
       "      <th>test_acc</th>\n",
       "      <th>feat_list</th>\n",
       "    </tr>\n",
       "  </thead>\n",
       "  <tbody>\n",
       "    <tr>\n",
       "      <th>17</th>\n",
       "      <td>1.0</td>\n",
       "      <td>0.938596</td>\n",
       "      <td>[worst smoothness, worst area]</td>\n",
       "    </tr>\n",
       "    <tr>\n",
       "      <th>25</th>\n",
       "      <td>1.0</td>\n",
       "      <td>0.938596</td>\n",
       "      <td>[worst perimeter, concave points error]</td>\n",
       "    </tr>\n",
       "    <tr>\n",
       "      <th>2</th>\n",
       "      <td>1.0</td>\n",
       "      <td>0.929825</td>\n",
       "      <td>[mean concavity, worst perimeter]</td>\n",
       "    </tr>\n",
       "    <tr>\n",
       "      <th>8</th>\n",
       "      <td>1.0</td>\n",
       "      <td>0.921053</td>\n",
       "      <td>[worst texture, worst radius]</td>\n",
       "    </tr>\n",
       "    <tr>\n",
       "      <th>19</th>\n",
       "      <td>1.0</td>\n",
       "      <td>0.921053</td>\n",
       "      <td>[worst perimeter, mean fractal dimension]</td>\n",
       "    </tr>\n",
       "    <tr>\n",
       "      <th>27</th>\n",
       "      <td>1.0</td>\n",
       "      <td>0.921053</td>\n",
       "      <td>[worst perimeter, symmetry error]</td>\n",
       "    </tr>\n",
       "    <tr>\n",
       "      <th>18</th>\n",
       "      <td>1.0</td>\n",
       "      <td>0.912281</td>\n",
       "      <td>[fractal dimension error, worst concave points]</td>\n",
       "    </tr>\n",
       "    <tr>\n",
       "      <th>10</th>\n",
       "      <td>1.0</td>\n",
       "      <td>0.903509</td>\n",
       "      <td>[symmetry error, worst concave points]</td>\n",
       "    </tr>\n",
       "    <tr>\n",
       "      <th>6</th>\n",
       "      <td>1.0</td>\n",
       "      <td>0.894737</td>\n",
       "      <td>[worst area, worst perimeter]</td>\n",
       "    </tr>\n",
       "    <tr>\n",
       "      <th>23</th>\n",
       "      <td>1.0</td>\n",
       "      <td>0.877193</td>\n",
       "      <td>[perimeter error, mean concave points]</td>\n",
       "    </tr>\n",
       "    <tr>\n",
       "      <th>4</th>\n",
       "      <td>1.0</td>\n",
       "      <td>0.868421</td>\n",
       "      <td>[mean perimeter, mean texture]</td>\n",
       "    </tr>\n",
       "    <tr>\n",
       "      <th>9</th>\n",
       "      <td>1.0</td>\n",
       "      <td>0.859649</td>\n",
       "      <td>[worst symmetry, mean concavity]</td>\n",
       "    </tr>\n",
       "    <tr>\n",
       "      <th>16</th>\n",
       "      <td>1.0</td>\n",
       "      <td>0.859649</td>\n",
       "      <td>[area error, mean symmetry]</td>\n",
       "    </tr>\n",
       "    <tr>\n",
       "      <th>26</th>\n",
       "      <td>1.0</td>\n",
       "      <td>0.859649</td>\n",
       "      <td>[mean radius, mean symmetry]</td>\n",
       "    </tr>\n",
       "    <tr>\n",
       "      <th>13</th>\n",
       "      <td>1.0</td>\n",
       "      <td>0.850877</td>\n",
       "      <td>[mean compactness, mean radius]</td>\n",
       "    </tr>\n",
       "    <tr>\n",
       "      <th>28</th>\n",
       "      <td>1.0</td>\n",
       "      <td>0.850877</td>\n",
       "      <td>[worst concave points, texture error]</td>\n",
       "    </tr>\n",
       "    <tr>\n",
       "      <th>3</th>\n",
       "      <td>1.0</td>\n",
       "      <td>0.833333</td>\n",
       "      <td>[texture error, mean perimeter]</td>\n",
       "    </tr>\n",
       "    <tr>\n",
       "      <th>24</th>\n",
       "      <td>1.0</td>\n",
       "      <td>0.833333</td>\n",
       "      <td>[perimeter error, worst texture]</td>\n",
       "    </tr>\n",
       "    <tr>\n",
       "      <th>20</th>\n",
       "      <td>1.0</td>\n",
       "      <td>0.824561</td>\n",
       "      <td>[mean texture, worst concavity]</td>\n",
       "    </tr>\n",
       "    <tr>\n",
       "      <th>0</th>\n",
       "      <td>1.0</td>\n",
       "      <td>0.815789</td>\n",
       "      <td>[worst smoothness, perimeter error]</td>\n",
       "    </tr>\n",
       "    <tr>\n",
       "      <th>22</th>\n",
       "      <td>1.0</td>\n",
       "      <td>0.798246</td>\n",
       "      <td>[perimeter error, mean compactness]</td>\n",
       "    </tr>\n",
       "    <tr>\n",
       "      <th>1</th>\n",
       "      <td>1.0</td>\n",
       "      <td>0.789474</td>\n",
       "      <td>[radius error, mean compactness]</td>\n",
       "    </tr>\n",
       "    <tr>\n",
       "      <th>21</th>\n",
       "      <td>1.0</td>\n",
       "      <td>0.780702</td>\n",
       "      <td>[mean texture, worst concavity]</td>\n",
       "    </tr>\n",
       "    <tr>\n",
       "      <th>5</th>\n",
       "      <td>1.0</td>\n",
       "      <td>0.745614</td>\n",
       "      <td>[radius error, smoothness error]</td>\n",
       "    </tr>\n",
       "    <tr>\n",
       "      <th>12</th>\n",
       "      <td>1.0</td>\n",
       "      <td>0.745614</td>\n",
       "      <td>[mean texture, concavity error]</td>\n",
       "    </tr>\n",
       "    <tr>\n",
       "      <th>15</th>\n",
       "      <td>1.0</td>\n",
       "      <td>0.728070</td>\n",
       "      <td>[symmetry error, concave points error]</td>\n",
       "    </tr>\n",
       "    <tr>\n",
       "      <th>14</th>\n",
       "      <td>1.0</td>\n",
       "      <td>0.666667</td>\n",
       "      <td>[mean symmetry, worst compactness]</td>\n",
       "    </tr>\n",
       "    <tr>\n",
       "      <th>29</th>\n",
       "      <td>1.0</td>\n",
       "      <td>0.649123</td>\n",
       "      <td>[fractal dimension error, concavity error]</td>\n",
       "    </tr>\n",
       "    <tr>\n",
       "      <th>11</th>\n",
       "      <td>1.0</td>\n",
       "      <td>0.631579</td>\n",
       "      <td>[fractal dimension error, smoothness error]</td>\n",
       "    </tr>\n",
       "    <tr>\n",
       "      <th>7</th>\n",
       "      <td>1.0</td>\n",
       "      <td>0.596491</td>\n",
       "      <td>[texture error, worst smoothness]</td>\n",
       "    </tr>\n",
       "  </tbody>\n",
       "</table>\n",
       "</div>"
      ],
      "text/plain": [
       "    train_acc  test_acc                                        feat_list\n",
       "17        1.0  0.938596                   [worst smoothness, worst area]\n",
       "25        1.0  0.938596          [worst perimeter, concave points error]\n",
       "2         1.0  0.929825                [mean concavity, worst perimeter]\n",
       "8         1.0  0.921053                    [worst texture, worst radius]\n",
       "19        1.0  0.921053        [worst perimeter, mean fractal dimension]\n",
       "27        1.0  0.921053                [worst perimeter, symmetry error]\n",
       "18        1.0  0.912281  [fractal dimension error, worst concave points]\n",
       "10        1.0  0.903509           [symmetry error, worst concave points]\n",
       "6         1.0  0.894737                    [worst area, worst perimeter]\n",
       "23        1.0  0.877193           [perimeter error, mean concave points]\n",
       "4         1.0  0.868421                   [mean perimeter, mean texture]\n",
       "9         1.0  0.859649                 [worst symmetry, mean concavity]\n",
       "16        1.0  0.859649                      [area error, mean symmetry]\n",
       "26        1.0  0.859649                     [mean radius, mean symmetry]\n",
       "13        1.0  0.850877                  [mean compactness, mean radius]\n",
       "28        1.0  0.850877            [worst concave points, texture error]\n",
       "3         1.0  0.833333                  [texture error, mean perimeter]\n",
       "24        1.0  0.833333                 [perimeter error, worst texture]\n",
       "20        1.0  0.824561                  [mean texture, worst concavity]\n",
       "0         1.0  0.815789              [worst smoothness, perimeter error]\n",
       "22        1.0  0.798246              [perimeter error, mean compactness]\n",
       "1         1.0  0.789474                 [radius error, mean compactness]\n",
       "21        1.0  0.780702                  [mean texture, worst concavity]\n",
       "5         1.0  0.745614                 [radius error, smoothness error]\n",
       "12        1.0  0.745614                  [mean texture, concavity error]\n",
       "15        1.0  0.728070           [symmetry error, concave points error]\n",
       "14        1.0  0.666667               [mean symmetry, worst compactness]\n",
       "29        1.0  0.649123       [fractal dimension error, concavity error]\n",
       "11        1.0  0.631579      [fractal dimension error, smoothness error]\n",
       "7         1.0  0.596491                [texture error, worst smoothness]"
      ]
     },
     "execution_count": 24,
     "metadata": {},
     "output_type": "execute_result"
    }
   ],
   "source": [
    "df"
   ]
  },
  {
   "cell_type": "code",
   "execution_count": 25,
   "id": "4fd09b7b-b7c8-49e1-a1ef-bc129798007a",
   "metadata": {
    "pycharm": {
     "name": "#%%\n"
    }
   },
   "outputs": [],
   "source": [
    "with open('acc_fea_rank.pkl','wb') as f:\n",
    "    pickle.dump(df,f)"
   ]
  },
  {
   "cell_type": "code",
   "execution_count": null,
   "id": "75e8a34a-2d78-4183-9c7f-0ac3702022ba",
   "metadata": {
    "pycharm": {
     "name": "#%%\n"
    }
   },
   "outputs": [],
   "source": []
  }
 ],
 "metadata": {
  "kernelspec": {
   "display_name": "Python 3 (ipykernel)",
   "language": "python",
   "name": "python3"
  },
  "language_info": {
   "codemirror_mode": {
    "name": "ipython",
    "version": 3
   },
   "file_extension": ".py",
   "mimetype": "text/x-python",
   "name": "python",
   "nbconvert_exporter": "python",
   "pygments_lexer": "ipython3",
   "version": "3.9.4"
  }
 },
 "nbformat": 4,
 "nbformat_minor": 5
}