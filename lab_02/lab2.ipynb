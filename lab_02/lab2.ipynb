{
  "cells": [
    {
      "cell_type": "code",
      "execution_count": 1,
      "id": "a550536f-fe66-4a69-b3f2-0d9ecdb5ef0c",
      "metadata": {
        "pycharm": {
          "name": "#%%\n"
        },
        "id": "a550536f-fe66-4a69-b3f2-0d9ecdb5ef0c"
      },
      "outputs": [],
      "source": [
        "from sklearn.datasets import fetch_openml \n",
        "import numpy as np\n",
        "mnist = fetch_openml('mnist_784', version=1)"
      ]
    },
    {
      "cell_type": "code",
      "execution_count": 2,
      "id": "a12b9ba4-2881-43d3-9e56-d7fcc971ee00",
      "metadata": {
        "pycharm": {
          "name": "#%%\n"
        },
        "colab": {
          "base_uri": "https://localhost:8080/"
        },
        "id": "a12b9ba4-2881-43d3-9e56-d7fcc971ee00",
        "outputId": "d6d46198-ce68-497d-f13f-dc0d51e3a4b8"
      },
      "outputs": [
        {
          "output_type": "stream",
          "name": "stdout",
          "text": [
            "[[0 0 0 0 0 0 0 0 0 0 0 0 0 0 0 0 0 0 0 0 0 0 0 0 0 0 0 0]\n",
            " [0 0 0 0 0 0 0 0 0 0 0 0 0 0 0 0 0 0 0 0 0 0 0 0 0 0 0 0]\n",
            " [0 0 0 0 0 0 0 0 0 0 0 0 0 0 0 0 0 0 0 0 0 0 0 0 0 0 0 0]\n",
            " [0 0 0 0 0 0 0 0 0 0 0 0 0 0 0 0 0 0 0 0 0 0 0 0 0 0 0 0]\n",
            " [0 0 0 0 0 0 0 0 0 0 0 0 0 0 0 0 0 0 0 0 0 0 0 0 0 0 0 0]\n",
            " [0 0 0 0 0 0 0 0 0 0 0 0 0 0 0 0 0 0 0 0 0 0 0 0 0 0 0 0]\n",
            " [0 0 0 0 0 0 0 0 0 0 0 0 0 0 0 0 0 0 0 0 0 0 0 0 0 0 0 0]\n",
            " [0 0 0 0 0 0 0 0 0 0 0 0 0 1 1 1 1 1 1 0 0 0 0 0 0 0 0 0]\n",
            " [0 0 0 0 0 0 0 0 0 0 0 1 1 1 1 1 1 1 1 0 0 0 0 0 0 0 0 0]\n",
            " [0 0 0 0 0 0 0 0 0 1 1 1 1 1 1 1 1 1 0 0 0 0 0 0 0 0 0 0]\n",
            " [0 0 0 0 0 0 0 1 1 1 1 1 1 1 0 1 1 1 0 0 0 0 0 0 0 0 0 0]\n",
            " [0 0 0 0 0 0 0 1 1 1 1 1 0 0 0 1 1 1 0 0 0 0 0 0 0 0 0 0]\n",
            " [0 0 0 0 0 0 0 0 0 0 0 0 0 0 0 1 1 1 0 0 0 0 0 0 0 0 0 0]\n",
            " [0 0 0 0 0 0 0 0 0 0 0 0 0 0 0 1 1 1 0 0 0 0 0 0 0 0 0 0]\n",
            " [0 0 0 0 0 0 0 0 0 0 0 0 0 0 0 1 1 1 0 0 0 0 0 0 0 0 0 0]\n",
            " [0 0 0 0 0 0 0 0 0 0 0 0 0 0 1 1 1 0 0 0 0 0 0 0 0 0 0 0]\n",
            " [0 0 0 0 0 0 0 0 0 0 0 0 0 0 1 1 1 0 0 0 0 0 0 0 0 0 0 0]\n",
            " [0 0 0 0 0 0 0 0 0 0 0 0 0 0 1 1 1 0 0 0 0 0 0 0 0 0 0 0]\n",
            " [0 0 0 0 0 0 0 0 0 0 0 0 0 0 1 1 0 0 0 0 0 0 0 0 0 0 0 0]\n",
            " [0 0 0 0 0 0 0 0 0 0 0 0 0 0 1 1 0 0 0 0 0 0 0 0 0 0 0 0]\n",
            " [0 0 0 0 0 0 0 0 0 0 0 0 0 1 1 1 0 0 0 0 0 0 0 0 0 0 0 0]\n",
            " [0 0 0 0 0 0 0 0 0 0 0 0 0 1 1 1 0 0 0 0 0 0 0 0 0 0 0 0]\n",
            " [0 0 0 0 0 0 0 0 0 0 0 0 0 1 1 1 0 0 0 0 0 0 0 0 0 0 0 0]\n",
            " [0 0 0 0 0 0 0 0 0 0 0 0 0 1 1 1 0 0 0 0 0 0 0 0 0 0 0 0]\n",
            " [0 0 0 0 0 0 0 0 0 0 0 0 0 1 1 0 0 0 0 0 0 0 0 0 0 0 0 0]\n",
            " [0 0 0 0 0 0 0 0 0 0 0 0 1 1 1 0 0 0 0 0 0 0 0 0 0 0 0 0]\n",
            " [0 0 0 0 0 0 0 0 0 0 0 0 1 1 1 0 0 0 0 0 0 0 0 0 0 0 0 0]\n",
            " [0 0 0 0 0 0 0 0 0 0 0 0 0 0 0 0 0 0 0 0 0 0 0 0 0 0 0 0]]\n"
          ]
        }
      ],
      "source": [
        "print((np.array(mnist.data.loc[42]).reshape(28, 28) > 0).astype(int))"
      ]
    },
    {
      "cell_type": "code",
      "execution_count": 3,
      "id": "d057bb7d-bf8c-4017-b418-f4aaa069dc88",
      "metadata": {
        "pycharm": {
          "name": "#%%\n"
        },
        "id": "d057bb7d-bf8c-4017-b418-f4aaa069dc88"
      },
      "outputs": [],
      "source": [
        "X,y = mnist.data,mnist.target"
      ]
    },
    {
      "cell_type": "code",
      "execution_count": 4,
      "id": "b011173b-af82-49ef-9a28-a03a434fa5b8",
      "metadata": {
        "pycharm": {
          "name": "#%%\n"
        },
        "id": "b011173b-af82-49ef-9a28-a03a434fa5b8"
      },
      "outputs": [],
      "source": [
        "y = y.sort_values()"
      ]
    },
    {
      "cell_type": "code",
      "execution_count": 5,
      "id": "d39976ae-342d-4e18-9c71-5a0ba03b085c",
      "metadata": {
        "pycharm": {
          "name": "#%%\n"
        },
        "colab": {
          "base_uri": "https://localhost:8080/"
        },
        "id": "d39976ae-342d-4e18-9c71-5a0ba03b085c",
        "outputId": "265d78cf-6554-477f-ef47-b3480b6af55a"
      },
      "outputs": [
        {
          "output_type": "execute_result",
          "data": {
            "text/plain": [
              "Int64Index([34999, 56424, 56419, 16705, 56415, 56404, 56397, 56389, 56388,\n",
              "            56429,\n",
              "            ...\n",
              "            13698, 33531, 13695, 13692, 58898, 13687, 42651, 58914, 13678,\n",
              "            58529],\n",
              "           dtype='int64', length=70000)"
            ]
          },
          "metadata": {},
          "execution_count": 5
        }
      ],
      "source": [
        "y.index"
      ]
    },
    {
      "cell_type": "code",
      "execution_count": 6,
      "id": "16a010ba-93bf-4685-b85c-1d78d61382e8",
      "metadata": {
        "pycharm": {
          "name": "#%%\n"
        },
        "id": "16a010ba-93bf-4685-b85c-1d78d61382e8"
      },
      "outputs": [],
      "source": [
        "X = X.reindex(y.index)"
      ]
    },
    {
      "cell_type": "code",
      "execution_count": 7,
      "id": "08d69dee-1655-407e-8f40-1f46aab173dd",
      "metadata": {
        "pycharm": {
          "name": "#%%\n"
        },
        "colab": {
          "base_uri": "https://localhost:8080/"
        },
        "id": "08d69dee-1655-407e-8f40-1f46aab173dd",
        "outputId": "89397c33-5af2-480d-f25b-82e4db3e514c"
      },
      "outputs": [
        {
          "output_type": "stream",
          "name": "stdout",
          "text": [
            "(56000, 784) (56000,)\n",
            "(14000, 784) (14000,)\n"
          ]
        }
      ],
      "source": [
        "X_train, X_test = X[:56000], X[56000:]\n",
        "y_train, y_test = y[:56000], y[56000:]\n",
        "print(X_train.shape, y_train.shape)\n",
        "print(X_test.shape, y_test.shape)"
      ]
    },
    {
      "cell_type": "code",
      "execution_count": 8,
      "id": "ece281ae-9dec-4816-b2a9-8967294cd94e",
      "metadata": {
        "pycharm": {
          "name": "#%%\n"
        },
        "colab": {
          "base_uri": "https://localhost:8080/"
        },
        "id": "ece281ae-9dec-4816-b2a9-8967294cd94e",
        "outputId": "533569ca-d33f-41dd-9706-b9d4a0e02212"
      },
      "outputs": [
        {
          "output_type": "execute_result",
          "data": {
            "text/plain": [
              "count     56000\n",
              "unique        8\n",
              "top           1\n",
              "freq       7877\n",
              "Name: class, dtype: object"
            ]
          },
          "metadata": {},
          "execution_count": 8
        }
      ],
      "source": [
        "y_train.describe()"
      ]
    },
    {
      "cell_type": "code",
      "execution_count": 9,
      "id": "f479ce97-605d-4989-a171-166c743c0f7d",
      "metadata": {
        "pycharm": {
          "name": "#%%\n"
        },
        "colab": {
          "base_uri": "https://localhost:8080/"
        },
        "id": "f479ce97-605d-4989-a171-166c743c0f7d",
        "outputId": "5fceee41-e84f-490c-b423-b7085131eaf0"
      },
      "outputs": [
        {
          "output_type": "execute_result",
          "data": {
            "text/plain": [
              "count     14000\n",
              "unique        3\n",
              "top           9\n",
              "freq       6958\n",
              "Name: class, dtype: object"
            ]
          },
          "metadata": {},
          "execution_count": 9
        }
      ],
      "source": [
        "y_test.describe()"
      ]
    },
    {
      "cell_type": "code",
      "execution_count": 10,
      "id": "8d6b0485-dce5-4b0e-b4ad-1723ac00e5ad",
      "metadata": {
        "pycharm": {
          "name": "#%%\n"
        },
        "id": "8d6b0485-dce5-4b0e-b4ad-1723ac00e5ad"
      },
      "outputs": [],
      "source": [
        "# this kind of separation is not useful since it mixes data before separation"
      ]
    },
    {
      "cell_type": "code",
      "execution_count": 11,
      "id": "55f5ef6e-8cdb-42ee-819a-7fe178a8fa60",
      "metadata": {
        "pycharm": {
          "name": "#%%\n"
        },
        "id": "55f5ef6e-8cdb-42ee-819a-7fe178a8fa60"
      },
      "outputs": [],
      "source": [
        "from sklearn.model_selection import train_test_split\n",
        "X_train, X_test, y_train, y_test = train_test_split(X, y, test_size=0.2, random_state=42,shuffle=True)"
      ]
    },
    {
      "cell_type": "code",
      "execution_count": 12,
      "id": "d362d80c-9b85-4cc6-8ece-080969c351bd",
      "metadata": {
        "pycharm": {
          "name": "#%%\n"
        },
        "colab": {
          "base_uri": "https://localhost:8080/"
        },
        "id": "d362d80c-9b85-4cc6-8ece-080969c351bd",
        "outputId": "87154a14-e605-4609-d411-49666118e0f0"
      },
      "outputs": [
        {
          "output_type": "execute_result",
          "data": {
            "text/plain": [
              "count     56000\n",
              "unique       10\n",
              "top           1\n",
              "freq       6285\n",
              "Name: class, dtype: object"
            ]
          },
          "metadata": {},
          "execution_count": 12
        }
      ],
      "source": [
        "y_train.describe()"
      ]
    },
    {
      "cell_type": "code",
      "execution_count": 13,
      "id": "d03662a4-8636-43e1-9dc8-6b1ef05597c1",
      "metadata": {
        "pycharm": {
          "name": "#%%\n"
        },
        "colab": {
          "base_uri": "https://localhost:8080/"
        },
        "id": "d03662a4-8636-43e1-9dc8-6b1ef05597c1",
        "outputId": "a636a75e-0bd5-4d98-9a4b-38d650839e31"
      },
      "outputs": [
        {
          "output_type": "execute_result",
          "data": {
            "text/plain": [
              "count     14000\n",
              "unique       10\n",
              "top           1\n",
              "freq       1592\n",
              "Name: class, dtype: object"
            ]
          },
          "metadata": {},
          "execution_count": 13
        }
      ],
      "source": [
        "y_test.describe()"
      ]
    },
    {
      "cell_type": "code",
      "execution_count": 14,
      "id": "4407f156-9adb-4b41-bff8-b5356145e568",
      "metadata": {
        "pycharm": {
          "name": "#%%\n"
        },
        "id": "4407f156-9adb-4b41-bff8-b5356145e568"
      },
      "outputs": [],
      "source": [
        "y0_train = (y_train == '0')\n",
        "y0_test = (y_test == '0')"
      ]
    },
    {
      "cell_type": "code",
      "execution_count": 15,
      "id": "23230e80-40c1-4d3f-b061-a5cac91bbdc9",
      "metadata": {
        "pycharm": {
          "name": "#%%\n"
        },
        "id": "23230e80-40c1-4d3f-b061-a5cac91bbdc9"
      },
      "outputs": [],
      "source": [
        "from sklearn.linear_model import SGDClassifier\n",
        "from sklearn.metrics import accuracy_score\n",
        "from sklearn.metrics import confusion_matrix\n",
        "clf = SGDClassifier()"
      ]
    },
    {
      "cell_type": "code",
      "execution_count": 16,
      "id": "5669c32e-229c-4ca7-8e4f-21ae6c90a681",
      "metadata": {
        "pycharm": {
          "name": "#%%\n"
        },
        "id": "5669c32e-229c-4ca7-8e4f-21ae6c90a681"
      },
      "outputs": [],
      "source": [
        "clf.fit(X_train,y0_train)\n",
        "y0_pred_train = clf.predict(X_train)\n",
        "y0_pred_test = clf.predict(X_test)\n",
        "acc_train = accuracy_score(y0_train,y0_pred_train)\n",
        "acc_test = accuracy_score(y0_test,y0_pred_test)"
      ]
    },
    {
      "cell_type": "code",
      "execution_count": 17,
      "id": "829c719d-c582-4904-9f74-40a43ca34c6b",
      "metadata": {
        "pycharm": {
          "name": "#%%\n"
        },
        "colab": {
          "base_uri": "https://localhost:8080/"
        },
        "id": "829c719d-c582-4904-9f74-40a43ca34c6b",
        "outputId": "e2c79e53-4a00-4c8a-ed2a-300a8f3e6f3c"
      },
      "outputs": [
        {
          "output_type": "execute_result",
          "data": {
            "text/plain": [
              "0.99025"
            ]
          },
          "metadata": {},
          "execution_count": 17
        }
      ],
      "source": [
        "acc_train"
      ]
    },
    {
      "cell_type": "code",
      "execution_count": 18,
      "id": "4f553051-9919-4101-8036-cfe9a8ab323c",
      "metadata": {
        "pycharm": {
          "name": "#%%\n"
        },
        "colab": {
          "base_uri": "https://localhost:8080/"
        },
        "id": "4f553051-9919-4101-8036-cfe9a8ab323c",
        "outputId": "f1f7a2f9-9e50-46ba-cc2c-716a7a17b5de"
      },
      "outputs": [
        {
          "output_type": "execute_result",
          "data": {
            "text/plain": [
              "0.99"
            ]
          },
          "metadata": {},
          "execution_count": 18
        }
      ],
      "source": [
        "acc_test"
      ]
    },
    {
      "cell_type": "code",
      "execution_count": 19,
      "id": "7aaa707f-37f6-4e2f-b6c0-a3ed8793e41b",
      "metadata": {
        "pycharm": {
          "name": "#%%\n"
        },
        "colab": {
          "base_uri": "https://localhost:8080/"
        },
        "id": "7aaa707f-37f6-4e2f-b6c0-a3ed8793e41b",
        "outputId": "2a7371a2-5627-4756-98e2-b66bfb744119"
      },
      "outputs": [
        {
          "output_type": "execute_result",
          "data": {
            "text/plain": [
              "32576    False\n",
              "10306    False\n",
              "37102    False\n",
              "57835    False\n",
              "15160     True\n",
              "         ...  \n",
              "57853    False\n",
              "3896      True\n",
              "68497    False\n",
              "20351     True\n",
              "36463    False\n",
              "Name: class, Length: 56000, dtype: bool"
            ]
          },
          "metadata": {},
          "execution_count": 19
        }
      ],
      "source": [
        "y0_train"
      ]
    },
    {
      "cell_type": "code",
      "execution_count": 20,
      "id": "d3a4eb16-c3d2-409b-819c-0997e037eb12",
      "metadata": {
        "pycharm": {
          "name": "#%%\n"
        },
        "id": "d3a4eb16-c3d2-409b-819c-0997e037eb12"
      },
      "outputs": [],
      "source": [
        "from sklearn.model_selection import cross_val_score\n",
        "cva = cross_val_score(clf, X_train, y0_train, cv=3)\n",
        "acc = [acc_train, acc_test]"
      ]
    },
    {
      "cell_type": "code",
      "execution_count": 21,
      "id": "b3c226ff-5e1b-46ce-9e5b-72d18cf5d16d",
      "metadata": {
        "pycharm": {
          "name": "#%%\n"
        },
        "id": "b3c226ff-5e1b-46ce-9e5b-72d18cf5d16d"
      },
      "outputs": [],
      "source": [
        "import pickle\n",
        "with open('sgd_acc.pkl', 'wb') as f:\n",
        "    pickle.dump(acc,f)\n",
        "with open('sgd_cva.pkl', 'wb') as f:\n",
        "    pickle.dump(cva,f)"
      ]
    },
    {
      "cell_type": "code",
      "execution_count": 22,
      "id": "fbd05b71-c581-4aee-ba2a-cf5f07bc34c9",
      "metadata": {
        "pycharm": {
          "name": "#%%\n"
        },
        "id": "fbd05b71-c581-4aee-ba2a-cf5f07bc34c9"
      },
      "outputs": [],
      "source": [
        "clf2 = SGDClassifier(max_iter=1000)\n",
        "clf.fit(X_train,y_train)\n",
        "\n",
        "y_pred = clf.predict(X_test)\n",
        "conf_mat = confusion_matrix(y_test, y_pred)"
      ]
    },
    {
      "cell_type": "code",
      "execution_count": 23,
      "id": "9348cb28-c481-40b6-97ac-ed7296a84704",
      "metadata": {
        "pycharm": {
          "name": "#%%\n"
        },
        "colab": {
          "base_uri": "https://localhost:8080/"
        },
        "id": "9348cb28-c481-40b6-97ac-ed7296a84704",
        "outputId": "3dbb6728-ac0d-4b19-bf0f-8df847e56dbf"
      },
      "outputs": [
        {
          "output_type": "stream",
          "name": "stdout",
          "text": [
            "[[1335    0    3    5    0    2    5    4   11    0]\n",
            " [   1 1548   15    0    0   10    5    2    9    2]\n",
            " [  45   15 1182   29    6    9   11   22   67    3]\n",
            " [  19   12   55 1154    3   62    2   16   55   16]\n",
            " [  21    3   16    6 1161    7   11   29   26   86]\n",
            " [  27   15   10   54   14 1046   16    4  110   14]\n",
            " [  26    4   16    2    3   32 1297    4   15    0]\n",
            " [  16    5   20    8    5    6    1 1329    4   49]\n",
            " [  20   35   22   36    6   42    3    6 1185   15]\n",
            " [   7    6    4   26   20   20    0   82   27 1180]]\n"
          ]
        }
      ],
      "source": [
        "print(conf_mat)"
      ]
    },
    {
      "cell_type": "code",
      "execution_count": 24,
      "id": "637d6834-6733-4e3f-9518-3e3ac1123d52",
      "metadata": {
        "pycharm": {
          "name": "#%%\n"
        },
        "id": "637d6834-6733-4e3f-9518-3e3ac1123d52"
      },
      "outputs": [],
      "source": [
        "with open('sgd_cmx.pkl','wb') as f:\n",
        "    pickle.dump(conf_mat, f)"
      ]
    },
    {
      "cell_type": "code",
      "execution_count": 25,
      "id": "36673f4b-7a2d-4a4f-97df-47566769e517",
      "metadata": {
        "pycharm": {
          "name": "#%%\n"
        },
        "colab": {
          "base_uri": "https://localhost:8080/"
        },
        "id": "36673f4b-7a2d-4a4f-97df-47566769e517",
        "outputId": "c0f43433-6412-408f-d4d0-8bc08618a506"
      },
      "outputs": [
        {
          "output_type": "execute_result",
          "data": {
            "text/plain": [
              "array([0.98762522, 0.98950019, 0.9887496 ])"
            ]
          },
          "metadata": {},
          "execution_count": 25
        }
      ],
      "source": [
        "cva"
      ]
    },
    {
      "cell_type": "code",
      "execution_count": 26,
      "id": "101f139b-6b67-4e8b-9a3c-7be3585fac9f",
      "metadata": {
        "pycharm": {
          "name": "#%%\n"
        },
        "colab": {
          "base_uri": "https://localhost:8080/"
        },
        "id": "101f139b-6b67-4e8b-9a3c-7be3585fac9f",
        "outputId": "41cfe60a-5eb0-4fba-adaa-fcbdee1052ad"
      },
      "outputs": [
        {
          "output_type": "execute_result",
          "data": {
            "text/plain": [
              "[0.99025, 0.99]"
            ]
          },
          "metadata": {},
          "execution_count": 26
        }
      ],
      "source": [
        "acc"
      ]
    },
    {
      "cell_type": "code",
      "execution_count": 26,
      "id": "693b0497-e39f-4829-809e-03f25c62772a",
      "metadata": {
        "pycharm": {
          "name": "#%%\n"
        },
        "id": "693b0497-e39f-4829-809e-03f25c62772a"
      },
      "outputs": [],
      "source": []
    }
  ],
  "metadata": {
    "kernelspec": {
      "display_name": "Python 3 (ipykernel)",
      "language": "python",
      "name": "python3"
    },
    "language_info": {
      "codemirror_mode": {
        "name": "ipython",
        "version": 3
      },
      "file_extension": ".py",
      "mimetype": "text/x-python",
      "name": "python",
      "nbconvert_exporter": "python",
      "pygments_lexer": "ipython3",
      "version": "3.9.10"
    },
    "colab": {
      "provenance": []
    }
  },
  "nbformat": 4,
  "nbformat_minor": 5
}