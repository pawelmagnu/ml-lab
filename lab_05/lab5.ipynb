{
 "cells": [
  {
   "cell_type": "code",
   "execution_count": 1,
   "id": "324995c5-099b-4768-b87e-8100e59391bf",
   "metadata": {
    "pycharm": {
     "name": "#%%\n"
    }
   },
   "outputs": [],
   "source": [
    "import numpy as np\n",
    "import pandas as pd\n",
    "import pickle\n",
    "import matplotlib.pyplot as plt\n",
    "from sklearn.tree import DecisionTreeClassifier\n",
    "from sklearn.tree import DecisionTreeRegressor\n",
    "from sklearn.model_selection import train_test_split\n",
    "from sklearn.metrics import f1_score, accuracy_score, mean_squared_error\n",
    "from sklearn import datasets"
   ]
  },
  {
   "cell_type": "code",
   "execution_count": 2,
   "id": "ffae4169-727b-430f-9207-f443a1d60fe2",
   "metadata": {
    "pycharm": {
     "name": "#%%\n"
    }
   },
   "outputs": [],
   "source": [
    "data_breast_cancer = datasets.load_breast_cancer(as_frame=True)"
   ]
  },
  {
   "cell_type": "code",
   "execution_count": 3,
   "id": "07d1a12a-4d2c-4424-908b-fadda4eb9315",
   "metadata": {
    "pycharm": {
     "name": "#%%\n"
    }
   },
   "outputs": [],
   "source": [
    "size = 300\n",
    "X = np.random.rand(size)*5-2.5\n",
    "w4, w3, w2, w1, w0 = 1, 2, 1, -4, 2\n",
    "y = w4*(X**4) + w3*(X**3) + w2*(X**2) + w1*X + w0 + np.random.randn(size)*8-4\n",
    "df = pd.DataFrame({'x': X, 'y': y})"
   ]
  },
  {
   "cell_type": "code",
   "execution_count": 4,
   "id": "5854c50c-c7f0-4a58-ae1e-e8ab6bc39e4a",
   "metadata": {
    "pycharm": {
     "name": "#%%\n"
    }
   },
   "outputs": [],
   "source": [
    "# Breast cancer data"
   ]
  },
  {
   "cell_type": "code",
   "execution_count": 5,
   "id": "d96fd049-d1f9-4e10-afb1-50df9fe7827e",
   "metadata": {
    "pycharm": {
     "name": "#%%\n"
    }
   },
   "outputs": [],
   "source": [
    "X_b = data_breast_cancer.data[['mean texture','mean symmetry']]\n",
    "y_b = data_breast_cancer.target"
   ]
  },
  {
   "cell_type": "code",
   "execution_count": 6,
   "id": "040f8a0d-7fae-4703-9455-5787709986fd",
   "metadata": {
    "pycharm": {
     "name": "#%%\n"
    }
   },
   "outputs": [],
   "source": [
    "X_train_b, X_test_b, y_train_b, y_test_b = train_test_split(X_b,y_b,test_size=0.2,random_state=42)"
   ]
  },
  {
   "cell_type": "code",
   "execution_count": 9,
   "id": "c0897784-371e-46d8-96d0-e4aa59c20439",
   "metadata": {
    "pycharm": {
     "name": "#%%\n"
    }
   },
   "outputs": [
    {
     "data": {
      "text/plain": [
       "DecisionTreeClassifier(max_depth=3, random_state=42)"
      ]
     },
     "execution_count": 9,
     "metadata": {},
     "output_type": "execute_result"
    }
   ],
   "source": [
    "tree_depth = 3\n",
    "tree_clf = DecisionTreeClassifier(max_depth=tree_depth, random_state=42)\n",
    "tree_clf.fit(X_train_b,y_train_b)"
   ]
  },
  {
   "cell_type": "code",
   "execution_count": 10,
   "id": "46d8b397-bf12-4f23-a45c-23f9e43a9217",
   "metadata": {
    "pycharm": {
     "name": "#%%\n"
    }
   },
   "outputs": [
    {
     "data": {
      "text/plain": [
       "'bc.png'"
      ]
     },
     "execution_count": 10,
     "metadata": {},
     "output_type": "execute_result"
    }
   ],
   "source": [
    "from sklearn.tree import export_graphviz\n",
    "import graphviz\n",
    "f = 'bc'\n",
    "export_graphviz(\n",
    "        tree_clf,\n",
    "        out_file=f,\n",
    "        feature_names=['mean texture','mean symmetry'],\n",
    "        class_names=['No','Yes'],\n",
    "        rounded=True,\n",
    "        filled=True)\n",
    "graphviz.render('dot', 'png', f)"
   ]
  },
  {
   "cell_type": "code",
   "execution_count": 11,
   "id": "98014af9-41f5-4315-abde-bcea7f748d1d",
   "metadata": {
    "pycharm": {
     "name": "#%%\n"
    }
   },
   "outputs": [],
   "source": [
    "f1tr = f1_score(y_train_b,tree_clf.predict(X_train_b))\n",
    "f1te = f1_score(y_test_b,tree_clf.predict(X_test_b))\n",
    "acctr = accuracy_score(y_train_b,tree_clf.predict(X_train_b))\n",
    "accte = accuracy_score(y_test_b,tree_clf.predict(X_test_b))"
   ]
  },
  {
   "cell_type": "code",
   "execution_count": 12,
   "id": "27ffeda4-daa1-4055-8577-6a9057b8e80d",
   "metadata": {
    "pycharm": {
     "name": "#%%\n"
    }
   },
   "outputs": [],
   "source": [
    "f1acc_tree = [tree_depth, f1tr, f1te, acctr, accte]"
   ]
  },
  {
   "cell_type": "code",
   "execution_count": 13,
   "id": "766df906-9435-4c6c-bf40-223191313ba0",
   "metadata": {
    "pycharm": {
     "name": "#%%\n"
    }
   },
   "outputs": [],
   "source": [
    "with open('f1acc_tree.pkl','wb') as f:\n",
    "    pickle.dump(f1acc_tree,f)"
   ]
  },
  {
   "cell_type": "code",
   "execution_count": 14,
   "id": "2a9975f2-43ff-4b76-b788-0a39604753c7",
   "metadata": {
    "pycharm": {
     "name": "#%%\n"
    }
   },
   "outputs": [],
   "source": [
    "# Regression data"
   ]
  },
  {
   "cell_type": "code",
   "execution_count": 15,
   "id": "8b2caaed-6d17-40a0-bac6-76ae60b9517c",
   "metadata": {
    "pycharm": {
     "name": "#%%\n"
    }
   },
   "outputs": [],
   "source": [
    "X_train_r, X_test_r, y_train_r, y_test_r = train_test_split(X.reshape(-1, 1),y.reshape(-1, 1),test_size=0.2,random_state=42)"
   ]
  },
  {
   "cell_type": "code",
   "execution_count": 18,
   "id": "25e3dc1b-298e-43d4-95f4-603190793f51",
   "metadata": {
    "pycharm": {
     "name": "#%%\n"
    }
   },
   "outputs": [
    {
     "data": {
      "text/plain": [
       "DecisionTreeRegressor(max_depth=3, random_state=42)"
      ]
     },
     "execution_count": 18,
     "metadata": {},
     "output_type": "execute_result"
    }
   ],
   "source": [
    "tree_depth = 3\n",
    "tree_reg = DecisionTreeRegressor(max_depth=tree_depth, random_state=42)\n",
    "tree_reg.fit(X_train_r,y_train_r)"
   ]
  },
  {
   "cell_type": "code",
   "execution_count": 20,
   "id": "27ff8f7c-8cf8-4658-bea8-adf63ebd81fd",
   "metadata": {
    "pycharm": {
     "name": "#%%\n"
    }
   },
   "outputs": [
    {
     "data": {
      "text/plain": [
       "'reg.png'"
      ]
     },
     "execution_count": 20,
     "metadata": {},
     "output_type": "execute_result"
    }
   ],
   "source": [
    "from sklearn.tree import export_graphviz\n",
    "import graphviz\n",
    "f2 = 'reg'\n",
    "export_graphviz(\n",
    "        tree_reg,\n",
    "        out_file=f2,\n",
    "        feature_names=['x'],\n",
    "        filled=True)\n",
    "graphviz.render('dot', 'png', f2)"
   ]
  },
  {
   "cell_type": "code",
   "execution_count": 21,
   "id": "b80b89f7-5aa0-4e64-964d-bdb012bddc3f",
   "metadata": {
    "pycharm": {
     "name": "#%%\n"
    }
   },
   "outputs": [],
   "source": [
    "msetr = mean_squared_error(y_train_r,tree_reg.predict(X_train_r))\n",
    "msete = mean_squared_error(y_test_r,tree_reg.predict(X_test_r))"
   ]
  },
  {
   "cell_type": "code",
   "execution_count": 22,
   "id": "ce490533-b068-4007-87d8-aa6e9d2fd682",
   "metadata": {
    "pycharm": {
     "name": "#%%\n"
    }
   },
   "outputs": [],
   "source": [
    "mse_tree = [tree_depth, msetr, msete]"
   ]
  },
  {
   "cell_type": "code",
   "execution_count": 23,
   "id": "90c9792c-f3c3-4dc6-8280-410c1da4fbbb",
   "metadata": {
    "pycharm": {
     "name": "#%%\n"
    }
   },
   "outputs": [],
   "source": [
    "with open('mse_tree.pkl','wb') as f:\n",
    "    pickle.dump(mse_tree,f)"
   ]
  }
 ],
 "metadata": {
  "kernelspec": {
   "display_name": "Python 3 (ipykernel)",
   "language": "python",
   "name": "python3"
  },
  "language_info": {
   "codemirror_mode": {
    "name": "ipython",
    "version": 3
   },
   "file_extension": ".py",
   "mimetype": "text/x-python",
   "name": "python",
   "nbconvert_exporter": "python",
   "pygments_lexer": "ipython3",
   "version": "3.9.10"
  }
 },
 "nbformat": 4,
 "nbformat_minor": 5
}