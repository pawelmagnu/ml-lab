{
 "cells": [
  {
   "cell_type": "code",
   "execution_count": 1,
   "id": "b8a887f9-7d99-4963-b2a2-93c72436e8b1",
   "metadata": {},
   "outputs": [],
   "source": [
    "from sklearn import datasets\n",
    "from sklearn.model_selection import train_test_split"
   ]
  },
  {
   "cell_type": "code",
   "execution_count": 2,
   "id": "e4ddad4c-95ce-401c-93ea-a076f2ef7403",
   "metadata": {},
   "outputs": [],
   "source": [
    "import numpy as np\n",
    "import pickle\n",
    "from sklearn.pipeline import Pipeline\n",
    "from sklearn.preprocessing import StandardScaler\n",
    "from sklearn.svm import LinearSVC\n",
    "from sklearn.metrics import accuracy_score"
   ]
  },
  {
   "cell_type": "code",
   "execution_count": 3,
   "id": "49daaa17-0b02-456c-a161-3997bf768af7",
   "metadata": {},
   "outputs": [],
   "source": [
    "data_breast_cancer = datasets.load_breast_cancer(as_frame=True)\n",
    "# print(data_breast_cancer['DESCR'])"
   ]
  },
  {
   "cell_type": "code",
   "execution_count": 4,
   "id": "94e44d28-87ae-4be1-9a80-417a16df13c7",
   "metadata": {},
   "outputs": [],
   "source": [
    "X,y = data_breast_cancer.data, data_breast_cancer.target\n",
    "X = X.loc[:,['mean area','mean smoothness']]\n",
    "X_train, X_test, y_train, y_test = train_test_split(X,y, test_size=0.2,random_state=42)"
   ]
  },
  {
   "cell_type": "code",
   "execution_count": 5,
   "id": "3b069315-b8e4-4c5d-a328-3e6399d25db5",
   "metadata": {},
   "outputs": [],
   "source": [
    "svm_ns = LinearSVC(C=1, loss = \"hinge\", random_state=42)\n",
    "svm_clf = Pipeline([('scaler', StandardScaler()),\n",
    "                    ('linear_svc', LinearSVC(C=1, loss='hinge', random_state=42))])"
   ]
  },
  {
   "cell_type": "code",
   "execution_count": 6,
   "id": "16ac7484-a300-4c72-b58e-9018bbf7dd4d",
   "metadata": {},
   "outputs": [
    {
     "name": "stderr",
     "output_type": "stream",
     "text": [
      "/opt/homebrew/Caskroom/miniforge/base/envs/ml/lib/python3.9/site-packages/sklearn/svm/_base.py:1206: ConvergenceWarning: Liblinear failed to converge, increase the number of iterations.\n",
      "  warnings.warn(\n"
     ]
    },
    {
     "data": {
      "text/plain": [
       "Pipeline(steps=[('scaler', StandardScaler()),\n",
       "                ('linear_svc', LinearSVC(C=1, loss='hinge', random_state=42))])"
      ]
     },
     "execution_count": 6,
     "metadata": {},
     "output_type": "execute_result"
    }
   ],
   "source": [
    "svm_ns.fit(X_train,y_train)\n",
    "svm_clf.fit(X_train,y_train)"
   ]
  },
  {
   "cell_type": "code",
   "execution_count": 7,
   "id": "e3645f06-b10c-4552-9f4f-61a11ab8db30",
   "metadata": {},
   "outputs": [],
   "source": [
    "no_scale_acc_train = accuracy_score(y_train, svm_ns.predict(X_train))\n",
    "no_scale_acc_test = accuracy_score(y_test, svm_ns.predict(X_test))\n",
    "\n",
    "scale_acc_train = accuracy_score(y_train, svm_clf.predict(X_train))\n",
    "scale_acc_test = accuracy_score(y_test, svm_clf.predict(X_test))"
   ]
  },
  {
   "cell_type": "code",
   "execution_count": 8,
   "id": "cdd8cf12-8fdf-4781-bd22-5b4fccd97c9a",
   "metadata": {},
   "outputs": [
    {
     "data": {
      "text/plain": [
       "[0.6285714285714286,\n",
       " 0.6228070175438597,\n",
       " 0.8923076923076924,\n",
       " 0.9298245614035088]"
      ]
     },
     "execution_count": 8,
     "metadata": {},
     "output_type": "execute_result"
    }
   ],
   "source": [
    "bc_acc = [no_scale_acc_train, no_scale_acc_test, scale_acc_train, scale_acc_test]\n",
    "bc_acc"
   ]
  },
  {
   "cell_type": "code",
   "execution_count": 9,
   "id": "8eeed8f4-4182-442b-8eb2-72dd050cdd96",
   "metadata": {},
   "outputs": [],
   "source": [
    "with open('bc_acc.pkl', 'wb') as f:\n",
    "    pickle.dump(bc_acc,f)"
   ]
  },
  {
   "cell_type": "code",
   "execution_count": 10,
   "id": "57d9a7a7-b960-4cf9-a2cd-b3cdbbd2c04b",
   "metadata": {},
   "outputs": [],
   "source": [
    "data_iris = datasets.load_iris(as_frame=True)\n",
    "# print(data_iris['DESCR'])"
   ]
  },
  {
   "cell_type": "code",
   "execution_count": 11,
   "id": "4eae1f6a-2c43-4dfc-9eee-0d65799ef263",
   "metadata": {},
   "outputs": [],
   "source": [
    "X_i, y_i = data_iris.data, data_iris.target\n",
    "X_i = X_i.loc[:,['petal length (cm)','petal width (cm)']]\n",
    "y_i = (y_i == 2)\n",
    "X_train_iris, X_test_iris, y_train_iris, y_test_iris = train_test_split(X_i,y_i, test_size=0.2,random_state=42)"
   ]
  },
  {
   "cell_type": "code",
   "execution_count": 12,
   "id": "40455700-dbdc-4b98-8cc0-315cb6cce1c6",
   "metadata": {},
   "outputs": [
    {
     "name": "stderr",
     "output_type": "stream",
     "text": [
      "/opt/homebrew/Caskroom/miniforge/base/envs/ml/lib/python3.9/site-packages/sklearn/svm/_base.py:1206: ConvergenceWarning: Liblinear failed to converge, increase the number of iterations.\n",
      "  warnings.warn(\n"
     ]
    },
    {
     "data": {
      "text/plain": [
       "Pipeline(steps=[('scaler', StandardScaler()),\n",
       "                ('linear_svc', LinearSVC(C=1, loss='hinge', random_state=42))])"
      ]
     },
     "execution_count": 12,
     "metadata": {},
     "output_type": "execute_result"
    }
   ],
   "source": [
    "svm_ns_iris = LinearSVC(C=1, loss = \"hinge\", random_state=42)\n",
    "svm_clf_iris = Pipeline([('scaler', StandardScaler()),\n",
    "                         ('linear_svc', LinearSVC(C=1, loss='hinge', random_state=42))])\n",
    "\n",
    "svm_ns_iris.fit(X_train_iris,y_train_iris)\n",
    "svm_clf_iris.fit(X_train_iris,y_train_iris)"
   ]
  },
  {
   "cell_type": "code",
   "execution_count": 13,
   "id": "b76e4af5-9d92-4986-8495-a26f53bb92c0",
   "metadata": {},
   "outputs": [],
   "source": [
    "no_scale_acc_train_i = accuracy_score(y_train_iris, svm_ns_iris.predict(X_train_iris))\n",
    "no_scale_acc_test_i = accuracy_score(y_test_iris, svm_ns_iris.predict(X_test_iris))\n",
    "\n",
    "scale_acc_train_i = accuracy_score(y_train_iris, svm_clf_iris.predict(X_train_iris))\n",
    "scale_acc_test_i = accuracy_score(y_test_iris, svm_clf_iris.predict(X_test_iris))"
   ]
  },
  {
   "cell_type": "code",
   "execution_count": 14,
   "id": "436ceacb-f971-45ed-898c-7e0f8db75554",
   "metadata": {},
   "outputs": [
    {
     "data": {
      "text/plain": [
       "[0.9416666666666667, 1.0, 0.9416666666666667, 1.0]"
      ]
     },
     "execution_count": 14,
     "metadata": {},
     "output_type": "execute_result"
    }
   ],
   "source": [
    "iris_acc = [no_scale_acc_train_i, no_scale_acc_test_i, scale_acc_train_i, scale_acc_test_i]\n",
    "iris_acc"
   ]
  },
  {
   "cell_type": "code",
   "execution_count": 15,
   "id": "0285a337-df63-432b-92ba-2bc4d24fa1d1",
   "metadata": {},
   "outputs": [],
   "source": [
    "with open('iris_acc.pkl', 'wb') as f:\n",
    "    pickle.dump(iris_acc,f)"
   ]
  },
  {
   "cell_type": "code",
   "execution_count": null,
   "id": "82dbe703-c751-447c-84c5-bd5e9bf2ead5",
   "metadata": {},
   "outputs": [],
   "source": []
  }
 ],
 "metadata": {
  "kernelspec": {
   "display_name": "Python 3 (ipykernel)",
   "language": "python",
   "name": "python3"
  },
  "language_info": {
   "codemirror_mode": {
    "name": "ipython",
    "version": 3
   },
   "file_extension": ".py",
   "mimetype": "text/x-python",
   "name": "python",
   "nbconvert_exporter": "python",
   "pygments_lexer": "ipython3",
   "version": "3.9.10"
  }
 },
 "nbformat": 4,
 "nbformat_minor": 5
}
