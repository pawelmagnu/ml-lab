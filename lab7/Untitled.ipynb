{
 "cells": [
  {
   "cell_type": "code",
   "execution_count": 1,
   "id": "e0e090ae-63a2-4582-a648-a48fd78c5cf9",
   "metadata": {},
   "outputs": [],
   "source": [
    "from sklearn.datasets import fetch_openml\n",
    "import numpy as np\n",
    "mnist = fetch_openml('mnist_784', version=1, as_frame=False)\n",
    "mnist.target = mnist.target.astype(np.uint8)\n",
    "X = mnist[\"data\"]\n",
    "y = mnist[\"target\"]"
   ]
  },
  {
   "cell_type": "code",
   "execution_count": 10,
   "id": "8ea71fdb-b900-4cdc-b57c-321255cd3fd1",
   "metadata": {},
   "outputs": [],
   "source": [
    "from sklearn.cluster import KMeans\n",
    "from sklearn.metrics import silhouette_score\n",
    "import pickle"
   ]
  },
  {
   "cell_type": "code",
   "execution_count": 11,
   "id": "c6dd7dd4-0068-457e-9bd5-cad41ca32e9f",
   "metadata": {},
   "outputs": [],
   "source": [
    "k_s = [8,9,10,11,12]\n",
    "kmeans_sil = []\n",
    "for k in k_s:\n",
    "    kmeans = KMeans(n_clusters=k,random_state=42)\n",
    "    y_pred = kmeans.fit_predict(X)\n",
    "    kmeans_sil.append(silhouette_score(X, kmeans.labels_))"
   ]
  },
  {
   "cell_type": "code",
   "execution_count": 12,
   "id": "27cd5764-efc9-4509-840a-bf92c6a21500",
   "metadata": {},
   "outputs": [
    {
     "data": {
      "text/plain": [
       "[0.07338401965925966,\n",
       " 0.05683381826333592,\n",
       " 0.05869201052848778,\n",
       " 0.05836351154790604,\n",
       " 0.05894738457992754]"
      ]
     },
     "execution_count": 12,
     "metadata": {},
     "output_type": "execute_result"
    }
   ],
   "source": [
    "kmeans_sil"
   ]
  },
  {
   "cell_type": "code",
   "execution_count": 13,
   "id": "9b0229c1-5758-4fcb-ba05-6af7dbac4391",
   "metadata": {},
   "outputs": [
    {
     "data": {
      "text/plain": [
       "[<matplotlib.lines.Line2D at 0x22792191130>]"
      ]
     },
     "execution_count": 13,
     "metadata": {},
     "output_type": "execute_result"
    },
    {
     "data": {
      "image/png": "[encoded data removed]",
      "text/plain": [
       "<Figure size 432x288 with 1 Axes>"
      ]
     },
     "metadata": {
      "needs_background": "light"
     },
     "output_type": "display_data"
    }
   ],
   "source": [
    "import matplotlib.pyplot as plt\n",
    "plt.figure()\n",
    "plt.plot(k_s,kmeans_sil)"
   ]
  },
  {
   "cell_type": "code",
   "execution_count": null,
   "id": "bc9612f2-9ac4-48e4-8e96-1200b237bbc4",
   "metadata": {},
   "outputs": [],
   "source": []
  }
 ],
 "metadata": {
  "kernelspec": {
   "display_name": "Python 3 (ipykernel)",
   "language": "python",
   "name": "python3"
  },
  "language_info": {
   "codemirror_mode": {
    "name": "ipython",
    "version": 3
   },
   "file_extension": ".py",
   "mimetype": "text/x-python",
   "name": "python",
   "nbconvert_exporter": "python",
   "pygments_lexer": "ipython3",
   "version": "3.9.4"
  }
 },
 "nbformat": 4,
 "nbformat_minor": 5
}
