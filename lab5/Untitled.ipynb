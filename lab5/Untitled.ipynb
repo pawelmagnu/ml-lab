{
 "cells": [
  {
   "cell_type": "code",
   "execution_count": 1,
   "id": "324995c5-099b-4768-b87e-8100e59391bf",
   "metadata": {},
   "outputs": [],
   "source": [
    "import numpy as np\n",
    "import pandas as pd\n",
    "import pickle\n",
    "import matplotlib.pyplot as plt\n",
    "from sklearn.tree import DecisionTreeClassifier\n",
    "from sklearn.tree import DecisionTreeRegressor\n",
    "from sklearn.model_selection import train_test_split\n",
    "from sklearn.metrics import f1_score, accuracy_score, mean_squared_error\n",
    "from sklearn import datasets"
   ]
  },
  {
   "cell_type": "code",
   "execution_count": 2,
   "id": "ffae4169-727b-430f-9207-f443a1d60fe2",
   "metadata": {},
   "outputs": [],
   "source": [
    "data_breast_cancer = datasets.load_breast_cancer(as_frame=True)"
   ]
  },
  {
   "cell_type": "code",
   "execution_count": 3,
   "id": "07d1a12a-4d2c-4424-908b-fadda4eb9315",
   "metadata": {},
   "outputs": [
    {
     "data": {
      "text/plain": [
       "<AxesSubplot:xlabel='x', ylabel='y'>"
      ]
     },
     "execution_count": 3,
     "metadata": {},
     "output_type": "execute_result"
    },
    {
     "data": {
      "image/png": "[encoded data removed]",
      "text/plain": [
       "<Figure size 432x288 with 1 Axes>"
      ]
     },
     "metadata": {
      "needs_background": "light"
     },
     "output_type": "display_data"
    }
   ],
   "source": [
    "size = 300\n",
    "X = np.random.rand(size)*5-2.5\n",
    "w4, w3, w2, w1, w0 = 1, 2, 1, -4, 2\n",
    "y = w4*(X**4) + w3*(X**3) + w2*(X**2) + w1*X + w0 + np.random.randn(size)*8-4\n",
    "df = pd.DataFrame({'x': X, 'y': y})\n",
    "df.plot.scatter(x='x',y='y')"
   ]
  },
  {
   "cell_type": "code",
   "execution_count": 4,
   "id": "5854c50c-c7f0-4a58-ae1e-e8ab6bc39e4a",
   "metadata": {},
   "outputs": [],
   "source": [
    "# Breast cancer data"
   ]
  },
  {
   "cell_type": "code",
   "execution_count": 5,
   "id": "d96fd049-d1f9-4e10-afb1-50df9fe7827e",
   "metadata": {},
   "outputs": [],
   "source": [
    "X_b = data_breast_cancer.data\n",
    "y_b = data_breast_cancer.target"
   ]
  },
  {
   "cell_type": "code",
   "execution_count": 6,
   "id": "040f8a0d-7fae-4703-9455-5787709986fd",
   "metadata": {},
   "outputs": [],
   "source": [
    "X_train_b, X_test_b, y_train_b, y_test_b = train_test_split(X_b,y_b,test_size=0.2,random_state=42)"
   ]
  },
  {
   "cell_type": "code",
   "execution_count": 7,
   "id": "e55166c5-19cc-47d2-9a12-0a68565a38c3",
   "metadata": {},
   "outputs": [],
   "source": [
    "f1_train = [0 for i in range(10)]\n",
    "f1_test = [0 for i in range(10)]\n",
    "x_plot = np.linspace(1,11,10)\n",
    "for i in range(1,11):\n",
    "    tree_clf = DecisionTreeClassifier(max_depth=i, random_state=42)\n",
    "    tree_clf.fit(X_train_b,y_train_b)\n",
    "    f1_train[i-1] = f1_score(y_train_b,tree_clf.predict(X_train_b))\n",
    "    f1_test[i-1] = f1_score(y_test_b,tree_clf.predict(X_test_b))"
   ]
  },
  {
   "cell_type": "code",
   "execution_count": 8,
   "id": "0c10d6a7-4afa-4963-b9f7-6fed57b45587",
   "metadata": {},
   "outputs": [
    {
     "data": {
      "text/plain": [
       "[<matplotlib.lines.Line2D at 0x1563db47610>]"
      ]
     },
     "execution_count": 8,
     "metadata": {},
     "output_type": "execute_result"
    },
    {
     "data": {
      "image/png": "[encoded data removed]",
      "text/plain": [
       "<Figure size 432x288 with 1 Axes>"
      ]
     },
     "metadata": {
      "needs_background": "light"
     },
     "output_type": "display_data"
    }
   ],
   "source": [
    "fig = plt.figure()\n",
    "plt.plot(x_plot,f1_train)\n",
    "plt.plot(x_plot,f1_test)"
   ]
  },
  {
   "cell_type": "code",
   "execution_count": 9,
   "id": "c0897784-371e-46d8-96d0-e4aa59c20439",
   "metadata": {},
   "outputs": [
    {
     "data": {
      "text/plain": [
       "DecisionTreeClassifier(max_depth=3, random_state=42)"
      ]
     },
     "execution_count": 9,
     "metadata": {},
     "output_type": "execute_result"
    }
   ],
   "source": [
    "tree_depth = 3\n",
    "tree_clf = DecisionTreeClassifier(max_depth=tree_depth, random_state=42)\n",
    "tree_clf.fit(X_train_b,y_train_b)"
   ]
  },
  {
   "cell_type": "code",
   "execution_count": 10,
   "id": "441c6d12-19b1-46f4-83f4-8b9faf5b1b91",
   "metadata": {},
   "outputs": [],
   "source": [
    "# TODO--------------------------------------------------------------------RYSOWANIE DRZEWA"
   ]
  },
  {
   "cell_type": "code",
   "execution_count": null,
   "id": "46d8b397-bf12-4f23-a45c-23f9e43a9217",
   "metadata": {},
   "outputs": [],
   "source": []
  },
  {
   "cell_type": "code",
   "execution_count": 11,
   "id": "98014af9-41f5-4315-abde-bcea7f748d1d",
   "metadata": {},
   "outputs": [],
   "source": [
    "f1tr = f1_score(y_train_b,tree_clf.predict(X_train_b))\n",
    "f1te = f1_score(y_test_b,tree_clf.predict(X_test_b))\n",
    "acctr = accuracy_score(y_train_b,tree_clf.predict(X_train_b))\n",
    "accte = accuracy_score(y_test_b,tree_clf.predict(X_test_b))"
   ]
  },
  {
   "cell_type": "code",
   "execution_count": 12,
   "id": "27ffeda4-daa1-4055-8577-6a9057b8e80d",
   "metadata": {},
   "outputs": [
    {
     "data": {
      "text/plain": [
       "[3,\n",
       " 0.9826388888888888,\n",
       " 0.9583333333333334,\n",
       " 0.978021978021978,\n",
       " 0.9473684210526315]"
      ]
     },
     "execution_count": 12,
     "metadata": {},
     "output_type": "execute_result"
    }
   ],
   "source": [
    "f1acc_tree = [tree_depth, f1tr, f1te, acctr, accte]\n",
    "f1acc_tree"
   ]
  },
  {
   "cell_type": "code",
   "execution_count": 13,
   "id": "766df906-9435-4c6c-bf40-223191313ba0",
   "metadata": {},
   "outputs": [],
   "source": [
    "with open('f1acc_tree.pkl','wb') as f:\n",
    "    pickle.dump(f1acc_tree,f)"
   ]
  },
  {
   "cell_type": "code",
   "execution_count": 14,
   "id": "2a9975f2-43ff-4b76-b788-0a39604753c7",
   "metadata": {},
   "outputs": [],
   "source": [
    "# Regression data"
   ]
  },
  {
   "cell_type": "code",
   "execution_count": 15,
   "id": "8b2caaed-6d17-40a0-bac6-76ae60b9517c",
   "metadata": {},
   "outputs": [],
   "source": [
    "X_train_r, X_test_r, y_train_r, y_test_r = train_test_split(X.reshape(-1, 1),y.reshape(-1, 1),test_size=0.2,random_state=42)"
   ]
  },
  {
   "cell_type": "code",
   "execution_count": 16,
   "id": "3680cc11-a41e-4f76-ac70-076c53e9723f",
   "metadata": {},
   "outputs": [],
   "source": [
    "mse_train = [0 for i in range(10)]\n",
    "mse_test = [0 for i in range(10)]\n",
    "x_plot = np.linspace(1,11,10)\n",
    "for i in range(1,11):\n",
    "    tree_reg = DecisionTreeRegressor(max_depth=i, random_state=42)\n",
    "    \n",
    "    tree_reg.fit(X_train_r,y_train_r)\n",
    "    mse_train[i-1] = mean_squared_error(y_train_r,tree_reg.predict(X_train_r))\n",
    "    mse_test[i-1] = mean_squared_error(y_test_r,tree_reg.predict(X_test_r))"
   ]
  },
  {
   "cell_type": "code",
   "execution_count": 17,
   "id": "ff885417-f55e-4f51-983f-8f3ecab64445",
   "metadata": {},
   "outputs": [
    {
     "data": {
      "text/plain": [
       "[<matplotlib.lines.Line2D at 0x1563dbbfe50>]"
      ]
     },
     "execution_count": 17,
     "metadata": {},
     "output_type": "execute_result"
    },
    {
     "data": {
      "image/png": "[encoded data removed]",
      "text/plain": [
       "<Figure size 432x288 with 1 Axes>"
      ]
     },
     "metadata": {
      "needs_background": "light"
     },
     "output_type": "display_data"
    }
   ],
   "source": [
    "fig = plt.figure()\n",
    "plt.plot(x_plot,mse_train)\n",
    "plt.plot(x_plot,mse_test)"
   ]
  },
  {
   "cell_type": "code",
   "execution_count": 18,
   "id": "25e3dc1b-298e-43d4-95f4-603190793f51",
   "metadata": {},
   "outputs": [
    {
     "data": {
      "text/plain": [
       "DecisionTreeRegressor(max_depth=3, random_state=42)"
      ]
     },
     "execution_count": 18,
     "metadata": {},
     "output_type": "execute_result"
    }
   ],
   "source": [
    "tree_depth = 3\n",
    "tree_reg = DecisionTreeRegressor(max_depth=tree_depth, random_state=42)\n",
    "tree_reg.fit(X_train_r,y_train_r)"
   ]
  },
  {
   "cell_type": "code",
   "execution_count": 19,
   "id": "a138208a-2b96-4a38-80ac-42ffbac9ed4f",
   "metadata": {},
   "outputs": [],
   "source": [
    "# TODO--------------------------------------------------------------------RYSOWANIE DRZEWA"
   ]
  },
  {
   "cell_type": "code",
   "execution_count": null,
   "id": "27ff8f7c-8cf8-4658-bea8-adf63ebd81fd",
   "metadata": {},
   "outputs": [],
   "source": []
  },
  {
   "cell_type": "code",
   "execution_count": 20,
   "id": "b80b89f7-5aa0-4e64-964d-bdb012bddc3f",
   "metadata": {},
   "outputs": [],
   "source": [
    "msetr = mean_squared_error(y_train_r,tree_reg.predict(X_train_r))\n",
    "msete = mean_squared_error(y_test_r,tree_reg.predict(X_test_r))"
   ]
  },
  {
   "cell_type": "code",
   "execution_count": 21,
   "id": "ce490533-b068-4007-87d8-aa6e9d2fd682",
   "metadata": {},
   "outputs": [
    {
     "data": {
      "text/plain": [
       "[3, 76.84329837880804, 83.77711139631278]"
      ]
     },
     "execution_count": 21,
     "metadata": {},
     "output_type": "execute_result"
    }
   ],
   "source": [
    "mse_tree = [tree_depth, msetr, msete]\n",
    "mse_tree"
   ]
  },
  {
   "cell_type": "code",
   "execution_count": 22,
   "id": "90c9792c-f3c3-4dc6-8280-410c1da4fbbb",
   "metadata": {},
   "outputs": [],
   "source": [
    "with open('mse_tree.pkl','wb') as f:\n",
    "    pickle.dump(mse_tree,f)"
   ]
  },
  {
   "cell_type": "code",
   "execution_count": null,
   "id": "34673dfb-7b4c-4fbf-b997-166cbb0cdc77",
   "metadata": {},
   "outputs": [],
   "source": []
  }
 ],
 "metadata": {
  "kernelspec": {
   "display_name": "Python 3 (ipykernel)",
   "language": "python",
   "name": "python3"
  },
  "language_info": {
   "codemirror_mode": {
    "name": "ipython",
    "version": 3
   },
   "file_extension": ".py",
   "mimetype": "text/x-python",
   "name": "python",
   "nbconvert_exporter": "python",
   "pygments_lexer": "ipython3",
   "version": "3.9.4"
  }
 },
 "nbformat": 4,
 "nbformat_minor": 5
}
