{
 "cells": [
  {
   "cell_type": "code",
   "execution_count": null,
   "id": "634b14a9-5983-43d4-8a7a-768e3d71d28f",
   "metadata": {},
   "outputs": [],
   "source": [
    "from sklearn.decomposition import PCA\n",
    "from sklearn.preprocessing import StandardScaler\n",
    "from sklearn.datasets import load_breast_cancer, load_iris\n",
    "import numpy as np\n",
    "import pickle"
   ]
  },
  {
   "cell_type": "code",
   "execution_count": null,
   "id": "725722be-1355-467b-973f-d9edeb73f8cf",
   "metadata": {},
   "outputs": [],
   "source": [
    "data_breast_cancer = load_breast_cancer()\n",
    "data_iris = load_iris()"
   ]
  },
  {
   "cell_type": "code",
   "execution_count": null,
   "id": "1b83e1c5-3270-4e61-a648-c8132180fb07",
   "metadata": {},
   "outputs": [],
   "source": [
    "pca_breast = PCA(n_components=0.9)\n",
    "pca_iris = PCA(n_components=0.9)\n",
    "breast_pca = pca_breast.fit_transform(data_breast_cancer.data)\n",
    "iris_pca = pca_iris.fit_transform(data_iris.data)"
   ]
  },
  {
   "cell_type": "code",
   "execution_count": null,
   "id": "07438f4e-32b0-4711-964b-582d3ff8baed",
   "metadata": {},
   "outputs": [],
   "source": [
    "# pca.explained_variance_ratio_"
   ]
  },
  {
   "cell_type": "code",
   "execution_count": null,
   "id": "9a06cc21-5f08-4d3a-8970-7fd4ec9d948b",
   "metadata": {},
   "outputs": [],
   "source": [
    "# pca_iris.explained_variance_ratio_"
   ]
  },
  {
   "cell_type": "code",
   "execution_count": null,
   "id": "2370f8e3-54f0-45d5-8d19-347a6d6de768",
   "metadata": {},
   "outputs": [],
   "source": [
    "scaler_breast = StandardScaler()\n",
    "scaler_iris = StandardScaler()"
   ]
  },
  {
   "cell_type": "code",
   "execution_count": null,
   "id": "d7b07ee9-c857-4631-b436-a08e4dfe65e8",
   "metadata": {},
   "outputs": [],
   "source": [
    "pca_breast_t = PCA(n_components=0.9)\n",
    "pca_iris_t = PCA(n_components=0.9)\n",
    "breast_pca_t = pca_breast_t.fit_transform(scaler_breast.fit_transform(data_breast_cancer.data))\n",
    "iris_pca_t = pca_iris_t.fit_transform(scaler_iris.fit_transform(data_iris.data))"
   ]
  },
  {
   "cell_type": "code",
   "execution_count": null,
   "id": "52989c57-53e5-413c-a2f8-592875644b1a",
   "metadata": {},
   "outputs": [],
   "source": [
    "pca_bc = pca_breast_t.explained_variance_ratio_\n",
    "pca_ir = pca_iris_t.explained_variance_ratio_"
   ]
  },
  {
   "cell_type": "code",
   "execution_count": null,
   "id": "bedea8e7-c62b-4acb-a594-601581883b46",
   "metadata": {},
   "outputs": [],
   "source": [
    "# pca_bc"
   ]
  },
  {
   "cell_type": "code",
   "execution_count": null,
   "id": "936faefb-6131-4f59-b8ed-1b48a828a0e1",
   "metadata": {},
   "outputs": [],
   "source": [
    "# pca_ir"
   ]
  },
  {
   "cell_type": "code",
   "execution_count": null,
   "id": "f6d78806-b56e-44c7-aa43-e87058485d9f",
   "metadata": {},
   "outputs": [],
   "source": [
    "idx_bc = list()\n",
    "for comp in pca_breast_t.components_:\n",
    "    idx_bc.append(np.argmax(np.abs(comp)))"
   ]
  },
  {
   "cell_type": "code",
   "execution_count": null,
   "id": "6459a935-ae64-4caf-8d4b-6b89f5618b83",
   "metadata": {},
   "outputs": [],
   "source": [
    "# idx_bc"
   ]
  },
  {
   "cell_type": "code",
   "execution_count": null,
   "id": "75f0583c-4fba-4a60-979b-6e8cd5656f35",
   "metadata": {},
   "outputs": [],
   "source": [
    "idx_ir = list()\n",
    "for comp in pca_iris_t.components_:\n",
    "    idx_ir.append(np.argmax(np.abs(comp)))"
   ]
  },
  {
   "cell_type": "code",
   "execution_count": null,
   "id": "3ed6327c-f928-45fd-b56a-475eaecb142c",
   "metadata": {},
   "outputs": [],
   "source": [
    "# idx_ir"
   ]
  },
  {
   "cell_type": "code",
   "execution_count": null,
   "id": "e72dc747-811d-41dd-8542-140163bf97bb",
   "metadata": {},
   "outputs": [],
   "source": [
    "with open('pca_bc.pkl','wb') as f:\n",
    "    pickle.dump(pca_bc,f)"
   ]
  },
  {
   "cell_type": "code",
   "execution_count": null,
   "id": "45aab6aa-ca79-4520-985f-27e86b535a8f",
   "metadata": {},
   "outputs": [],
   "source": [
    "with open('pca_ir.pkl','wb') as f:\n",
    "    pickle.dump(pca_ir,f)"
   ]
  },
  {
   "cell_type": "code",
   "execution_count": null,
   "id": "c0ce9170-dce8-4fcc-a5f7-dc6fa76af82c",
   "metadata": {},
   "outputs": [],
   "source": [
    "with open('idx_bc.pkl','wb') as f:\n",
    "    pickle.dump(idx_bc,f)"
   ]
  },
  {
   "cell_type": "code",
   "execution_count": null,
   "id": "1836eb4c-3593-4b31-a5e8-9efc212d861e",
   "metadata": {},
   "outputs": [],
   "source": [
    "with open('idx_ir.pkl','wb') as f:\n",
    "    pickle.dump(idx_ir,f)"
   ]
  },
  {
   "cell_type": "code",
   "execution_count": null,
   "id": "0ad7a480-b789-49bd-922b-40ddd709f755",
   "metadata": {},
   "outputs": [],
   "source": []
  }
 ],
 "metadata": {
  "kernelspec": {
   "display_name": "Python 3 (ipykernel)",
   "language": "python",
   "name": "python3"
  },
  "language_info": {
   "codemirror_mode": {
    "name": "ipython",
    "version": 3
   },
   "file_extension": ".py",
   "mimetype": "text/x-python",
   "name": "python",
   "nbconvert_exporter": "python",
   "pygments_lexer": "ipython3",
   "version": "3.9.10"
  }
 },
 "nbformat": 4,
 "nbformat_minor": 5
}
