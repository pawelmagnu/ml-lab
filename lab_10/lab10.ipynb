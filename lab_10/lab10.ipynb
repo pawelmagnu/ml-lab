{
  "cells": [
    {
      "cell_type": "code",
      "execution_count": 1,
      "id": "d6f4e18b-b516-4840-af80-47233106fb35",
      "metadata": {
        "pycharm": {
          "name": "#%%\n"
        },
        "colab": {
          "base_uri": "https://localhost:8080/"
        },
        "id": "d6f4e18b-b516-4840-af80-47233106fb35",
        "outputId": "7e84dd3a-a219-4d5d-d524-50122380f1bc"
      },
      "outputs": [
        {
          "output_type": "stream",
          "name": "stdout",
          "text": [
            "Downloading data from https://storage.googleapis.com/tensorflow/tf-keras-datasets/train-labels-idx1-ubyte.gz\n",
            "29515/29515 [==============================] - 0s 0us/step\n",
            "Downloading data from https://storage.googleapis.com/tensorflow/tf-keras-datasets/train-images-idx3-ubyte.gz\n",
            "26421880/26421880 [==============================] - 0s 0us/step\n",
            "Downloading data from https://storage.googleapis.com/tensorflow/tf-keras-datasets/t10k-labels-idx1-ubyte.gz\n",
            "5148/5148 [==============================] - 0s 0us/step\n",
            "Downloading data from https://storage.googleapis.com/tensorflow/tf-keras-datasets/t10k-images-idx3-ubyte.gz\n",
            "4422102/4422102 [==============================] - 0s 0us/step\n"
          ]
        }
      ],
      "source": [
        "import tensorflow as tf\n",
        "from tensorflow import keras\n",
        "import matplotlib.pyplot as plt\n",
        "import os\n",
        "import time\n",
        "import numpy as np\n",
        "\n",
        "fashion_mnist = tf.keras.datasets.fashion_mnist\n",
        "(X_train, y_train), (X_test, y_test) = fashion_mnist.load_data()\n",
        "assert X_train.shape == (60000, 28, 28)\n",
        "assert X_test.shape == (10000, 28, 28)\n",
        "assert y_train.shape == (60000,)\n",
        "assert y_test.shape == (10000,)"
      ]
    },
    {
      "cell_type": "code",
      "execution_count": 2,
      "id": "e4ae3528-9c1a-4d24-865b-978495aee799",
      "metadata": {
        "pycharm": {
          "name": "#%%\n"
        },
        "id": "e4ae3528-9c1a-4d24-865b-978495aee799"
      },
      "outputs": [],
      "source": [
        "X_train = X_train/255\n",
        "X_test = X_test/255\n",
        "X_valid = X_test[:int(len(X_test)*0.1),:]\n",
        "y_valid = y_test[:int(len(y_test)*0.1)]"
      ]
    },
    {
      "cell_type": "code",
      "execution_count": 3,
      "id": "24bfb8b6-faa8-404b-8999-2ae781f6d766",
      "metadata": {
        "pycharm": {
          "name": "#%%\n"
        },
        "id": "24bfb8b6-faa8-404b-8999-2ae781f6d766"
      },
      "outputs": [],
      "source": [
        "# plt.imshow(X_train[142], cmap=\"binary\")\n",
        "# plt.axis('off')\n",
        "# plt.show()"
      ]
    },
    {
      "cell_type": "code",
      "execution_count": 4,
      "id": "310cd5fd-6e6f-4bf0-aaff-2f7c90af26ac",
      "metadata": {
        "pycharm": {
          "name": "#%%\n"
        },
        "id": "310cd5fd-6e6f-4bf0-aaff-2f7c90af26ac"
      },
      "outputs": [],
      "source": [
        "class_names = [\"tshirt\", \"trousers\", \"pullover\", \"dress\", \"jacket\",\n",
        "\"sandal\", \"shirt\", \"shoe\", \"bag\", \"boot\"]\n",
        "# class_names[y_train[142]]"
      ]
    },
    {
      "cell_type": "code",
      "execution_count": 5,
      "id": "66c4b51b-e036-4405-9340-3106b0cd144d",
      "metadata": {
        "pycharm": {
          "name": "#%%\n"
        },
        "id": "66c4b51b-e036-4405-9340-3106b0cd144d"
      },
      "outputs": [],
      "source": [
        "def get_callback(filename):\n",
        "    root_logdir = os.path.join(os.curdir, filename)\n",
        "    def get_run_logdir():\n",
        "        run_id = time.strftime(\"run_%Y_%m_%d-%H_%M_%S\")\n",
        "        return os.path.join(root_logdir, run_id)\n",
        "    run_logdir = get_run_logdir()\n",
        "    return tf.keras.callbacks.TensorBoard(run_logdir)"
      ]
    },
    {
      "cell_type": "code",
      "execution_count": 6,
      "id": "f09b9f4b-b1ad-4795-93e0-c278709d6780",
      "metadata": {
        "pycharm": {
          "name": "#%%\n"
        },
        "colab": {
          "base_uri": "https://localhost:8080/"
        },
        "id": "f09b9f4b-b1ad-4795-93e0-c278709d6780",
        "outputId": "35b5f1eb-f775-41df-c7b7-8cdd26659304"
      },
      "outputs": [
        {
          "output_type": "stream",
          "name": "stderr",
          "text": [
            "/usr/local/lib/python3.7/dist-packages/keras/optimizers/optimizer_v2/gradient_descent.py:108: UserWarning: The `lr` argument is deprecated, use `learning_rate` instead.\n",
            "  super(SGD, self).__init__(name, **kwargs)\n"
          ]
        }
      ],
      "source": [
        "model = keras.models.Sequential()\n",
        "model.add(keras.layers.Flatten(input_shape=(28,28)))\n",
        "model.add(keras.layers.Dense(300, activation=\"relu\"))\n",
        "model.add(keras.layers.Dense(100, activation=\"relu\"))\n",
        "model.add(keras.layers.Dense(10, activation='softmax'))\n",
        "optimizer = keras.optimizers.SGD(lr=0.1)\n",
        "model.compile(optimizer=optimizer, loss=\"sparse_categorical_crossentropy\", metrics=['accuracy'])"
      ]
    },
    {
      "cell_type": "code",
      "execution_count": 7,
      "id": "4bb12ca1-ee8c-4b8f-ac15-cd5545e5004c",
      "metadata": {
        "pycharm": {
          "name": "#%%\n"
        },
        "colab": {
          "base_uri": "https://localhost:8080/"
        },
        "id": "4bb12ca1-ee8c-4b8f-ac15-cd5545e5004c",
        "outputId": "ad55c745-2fb9-4f04-dd24-ec89e91c0941"
      },
      "outputs": [
        {
          "output_type": "stream",
          "name": "stdout",
          "text": [
            "Epoch 1/20\n",
            "1875/1875 [==============================] - 13s 6ms/step - loss: 0.5259 - accuracy: 0.8086 - val_loss: 0.4086 - val_accuracy: 0.8690\n",
            "Epoch 2/20\n",
            "1875/1875 [==============================] - 7s 4ms/step - loss: 0.3832 - accuracy: 0.8582 - val_loss: 0.3622 - val_accuracy: 0.8800\n",
            "Epoch 3/20\n",
            "1875/1875 [==============================] - 7s 4ms/step - loss: 0.3440 - accuracy: 0.8715 - val_loss: 0.3504 - val_accuracy: 0.8780\n",
            "Epoch 4/20\n",
            "1875/1875 [==============================] - 7s 4ms/step - loss: 0.3175 - accuracy: 0.8818 - val_loss: 0.3938 - val_accuracy: 0.8630\n",
            "Epoch 5/20\n",
            "1875/1875 [==============================] - 7s 4ms/step - loss: 0.2998 - accuracy: 0.8878 - val_loss: 0.3911 - val_accuracy: 0.8520\n",
            "Epoch 6/20\n",
            "1875/1875 [==============================] - 7s 4ms/step - loss: 0.2854 - accuracy: 0.8931 - val_loss: 0.3280 - val_accuracy: 0.8800\n",
            "Epoch 7/20\n",
            "1875/1875 [==============================] - 7s 4ms/step - loss: 0.2697 - accuracy: 0.8983 - val_loss: 0.3470 - val_accuracy: 0.8770\n",
            "Epoch 8/20\n",
            "1875/1875 [==============================] - 7s 4ms/step - loss: 0.2597 - accuracy: 0.9012 - val_loss: 0.3503 - val_accuracy: 0.8800\n",
            "Epoch 9/20\n",
            "1875/1875 [==============================] - 7s 4ms/step - loss: 0.2508 - accuracy: 0.9050 - val_loss: 0.3235 - val_accuracy: 0.8840\n",
            "Epoch 10/20\n",
            "1875/1875 [==============================] - 7s 4ms/step - loss: 0.2405 - accuracy: 0.9080 - val_loss: 0.3375 - val_accuracy: 0.8840\n",
            "Epoch 11/20\n",
            "1875/1875 [==============================] - 7s 3ms/step - loss: 0.2314 - accuracy: 0.9121 - val_loss: 0.3600 - val_accuracy: 0.8710\n",
            "Epoch 12/20\n",
            "1875/1875 [==============================] - 7s 3ms/step - loss: 0.2251 - accuracy: 0.9152 - val_loss: 0.3151 - val_accuracy: 0.8950\n",
            "Epoch 13/20\n",
            "1875/1875 [==============================] - 6s 3ms/step - loss: 0.2175 - accuracy: 0.9175 - val_loss: 0.3101 - val_accuracy: 0.8980\n",
            "Epoch 14/20\n",
            "1875/1875 [==============================] - 6s 3ms/step - loss: 0.2112 - accuracy: 0.9187 - val_loss: 0.3319 - val_accuracy: 0.8820\n",
            "Epoch 15/20\n",
            "1875/1875 [==============================] - 6s 3ms/step - loss: 0.2016 - accuracy: 0.9226 - val_loss: 0.3657 - val_accuracy: 0.8790\n",
            "Epoch 16/20\n",
            "1875/1875 [==============================] - 7s 4ms/step - loss: 0.1969 - accuracy: 0.9243 - val_loss: 0.3533 - val_accuracy: 0.8920\n",
            "Epoch 17/20\n",
            "1875/1875 [==============================] - 8s 4ms/step - loss: 0.1908 - accuracy: 0.9262 - val_loss: 0.3185 - val_accuracy: 0.8820\n",
            "Epoch 18/20\n",
            "1875/1875 [==============================] - 7s 4ms/step - loss: 0.1855 - accuracy: 0.9289 - val_loss: 0.3444 - val_accuracy: 0.8930\n",
            "Epoch 19/20\n",
            "1875/1875 [==============================] - 7s 4ms/step - loss: 0.1792 - accuracy: 0.9316 - val_loss: 0.3524 - val_accuracy: 0.8920\n",
            "Epoch 20/20\n",
            "1875/1875 [==============================] - 6s 3ms/step - loss: 0.1744 - accuracy: 0.9334 - val_loss: 0.3838 - val_accuracy: 0.8870\n"
          ]
        }
      ],
      "source": [
        "history = model.fit(X_train, y_train, epochs=20,\n",
        "                    validation_data=(X_valid, y_valid),\n",
        "                    callbacks=[get_callback(\"image_logs\")])"
      ]
    },
    {
      "cell_type": "code",
      "execution_count": 8,
      "id": "903ec6c3-bee6-4a82-abe7-1f0702f2512c",
      "metadata": {
        "pycharm": {
          "name": "#%%\n"
        },
        "id": "903ec6c3-bee6-4a82-abe7-1f0702f2512c"
      },
      "outputs": [],
      "source": [
        "# image_index = np.random.randint(len(X_test))\n",
        "# image = np.array([X_test[image_index]])\n",
        "# confidences = model.predict(image)\n",
        "# confidence = np.max(confidences[0])\n",
        "# prediction = np.argmax(confidences[0])\n",
        "# print(\"Prediction:\", class_names[prediction])\n",
        "# print(\"Confidence:\", confidence)\n",
        "# print(\"Truth:\", class_names[y_test[image_index]])\n",
        "# plt.imshow(image[0], cmap=\"binary\")\n",
        "# plt.axis('off')\n",
        "# plt.show()"
      ]
    },
    {
      "cell_type": "code",
      "execution_count": 9,
      "id": "048f78b6-c7a0-4536-b9fa-6d4b08103754",
      "metadata": {
        "pycharm": {
          "name": "#%%\n"
        },
        "id": "048f78b6-c7a0-4536-b9fa-6d4b08103754"
      },
      "outputs": [],
      "source": [
        "# %load_ext tensorboard"
      ]
    },
    {
      "cell_type": "code",
      "execution_count": 10,
      "id": "bb1437a9-172d-4664-9ce1-338933488443",
      "metadata": {
        "pycharm": {
          "name": "#%%\n"
        },
        "id": "bb1437a9-172d-4664-9ce1-338933488443"
      },
      "outputs": [],
      "source": [
        "# %tensorboard --logdir ./housing_logs"
      ]
    },
    {
      "cell_type": "code",
      "execution_count": 11,
      "id": "f58cbda0-e1ef-4bd7-b7e5-b71295f93cd6",
      "metadata": {
        "pycharm": {
          "name": "#%%\n"
        },
        "id": "f58cbda0-e1ef-4bd7-b7e5-b71295f93cd6"
      },
      "outputs": [],
      "source": [
        "from sklearn.datasets import fetch_california_housing\n",
        "from sklearn.model_selection import train_test_split\n",
        "from sklearn.preprocessing import StandardScaler\n",
        "housing = fetch_california_housing()"
      ]
    },
    {
      "cell_type": "code",
      "execution_count": 12,
      "id": "68bb886a-4ddf-45ec-8484-f178fe7fedb3",
      "metadata": {
        "pycharm": {
          "name": "#%%\n"
        },
        "id": "68bb886a-4ddf-45ec-8484-f178fe7fedb3"
      },
      "outputs": [],
      "source": [
        "X_train_full, X_test, y_train_full, y_test = train_test_split(housing.data,housing.target, random_state=42)\n",
        "X_train, X_valid, y_train, y_valid = train_test_split(X_train_full,y_train_full, random_state=42)"
      ]
    },
    {
      "cell_type": "code",
      "execution_count": 13,
      "id": "e61c1e82-ec2c-4d2f-b5c0-ae3325ffd5db",
      "metadata": {
        "pycharm": {
          "name": "#%%\n"
        },
        "id": "e61c1e82-ec2c-4d2f-b5c0-ae3325ffd5db"
      },
      "outputs": [],
      "source": [
        "scaler = StandardScaler()\n",
        "X_train = scaler.fit_transform(X_train)\n",
        "X_valid = scaler.transform(X_valid)\n",
        "X_test = scaler.transform(X_test)"
      ]
    },
    {
      "cell_type": "code",
      "execution_count": 14,
      "id": "c3906f31-64a3-4bed-825a-1df8ec67af61",
      "metadata": {
        "pycharm": {
          "name": "#%%\n"
        },
        "id": "c3906f31-64a3-4bed-825a-1df8ec67af61"
      },
      "outputs": [],
      "source": [
        "es = tf.keras.callbacks.EarlyStopping(patience=5,min_delta=0.01,verbose=1)"
      ]
    },
    {
      "cell_type": "code",
      "execution_count": 15,
      "id": "35d005d9-8e91-44dd-8ae6-42ed5fec597d",
      "metadata": {
        "pycharm": {
          "name": "#%%\n"
        },
        "id": "35d005d9-8e91-44dd-8ae6-42ed5fec597d"
      },
      "outputs": [],
      "source": [
        "model2 = keras.models.Sequential()\n",
        "model2.add(keras.layers.Dense(30, activation='relu',input_shape=X_train.shape[1:]))\n",
        "model2.add(keras.layers.Dense(1))\n",
        "model2.compile(loss='mse',optimizer='sgd')"
      ]
    },
    {
      "cell_type": "code",
      "execution_count": 16,
      "id": "66d16743-6ad5-4805-ae51-dede0f823d47",
      "metadata": {
        "pycharm": {
          "name": "#%%\n"
        },
        "colab": {
          "base_uri": "https://localhost:8080/"
        },
        "id": "66d16743-6ad5-4805-ae51-dede0f823d47",
        "outputId": "f7cbad7c-f740-4d6f-abbf-9cc193ad4ff5"
      },
      "outputs": [
        {
          "output_type": "stream",
          "name": "stdout",
          "text": [
            "Epoch 1/20\n",
            "363/363 [==============================] - 1s 2ms/step - loss: 0.9465 - val_loss: 6.8802\n",
            "Epoch 2/20\n",
            "363/363 [==============================] - 1s 2ms/step - loss: 0.4675 - val_loss: 9.5367\n",
            "Epoch 3/20\n",
            "363/363 [==============================] - 1s 2ms/step - loss: 0.4608 - val_loss: 8.1487\n",
            "Epoch 4/20\n",
            "363/363 [==============================] - 1s 2ms/step - loss: 0.4420 - val_loss: 0.3641\n",
            "Epoch 5/20\n",
            "363/363 [==============================] - 1s 2ms/step - loss: 0.3942 - val_loss: 0.3572\n",
            "Epoch 6/20\n",
            "363/363 [==============================] - 1s 2ms/step - loss: 0.3892 - val_loss: 0.3565\n",
            "Epoch 7/20\n",
            "363/363 [==============================] - 1s 2ms/step - loss: 0.3795 - val_loss: 0.3466\n",
            "Epoch 8/20\n",
            "363/363 [==============================] - 1s 2ms/step - loss: 0.3768 - val_loss: 0.3446\n",
            "Epoch 9/20\n",
            "363/363 [==============================] - 1s 2ms/step - loss: 0.3688 - val_loss: 0.3424\n",
            "Epoch 10/20\n",
            "363/363 [==============================] - 1s 2ms/step - loss: 0.3685 - val_loss: 0.3391\n",
            "Epoch 11/20\n",
            "363/363 [==============================] - 1s 2ms/step - loss: 0.3655 - val_loss: 0.3390\n",
            "Epoch 12/20\n",
            "363/363 [==============================] - 1s 2ms/step - loss: 0.3703 - val_loss: 0.3508\n",
            "Epoch 12: early stopping\n"
          ]
        }
      ],
      "source": [
        "history2 = model2.fit(X_train, y_train, epochs=20,\n",
        "                    validation_data=(X_valid, y_valid),\n",
        "                    callbacks=[get_callback(\"housing_logs\"),es])"
      ]
    },
    {
      "cell_type": "code",
      "execution_count": 17,
      "id": "7b549ef2-40fc-4ccb-821e-9d3fe2cb6908",
      "metadata": {
        "pycharm": {
          "name": "#%%\n"
        },
        "colab": {
          "base_uri": "https://localhost:8080/"
        },
        "id": "7b549ef2-40fc-4ccb-821e-9d3fe2cb6908",
        "outputId": "9cae2506-1531-48c5-ea46-8a26e0acb41f"
      },
      "outputs": [
        {
          "output_type": "stream",
          "name": "stdout",
          "text": [
            "Epoch 1/20\n",
            "363/363 [==============================] - 1s 2ms/step - loss: 0.9536 - val_loss: 3.8136\n",
            "Epoch 2/20\n",
            "363/363 [==============================] - 1s 2ms/step - loss: 0.5208 - val_loss: 6.8726\n",
            "Epoch 3/20\n",
            "363/363 [==============================] - 1s 2ms/step - loss: 0.5590 - val_loss: 22.2706\n",
            "Epoch 4/20\n",
            "363/363 [==============================] - 1s 2ms/step - loss: 0.5708 - val_loss: 21.0904\n",
            "Epoch 5/20\n",
            "363/363 [==============================] - 1s 2ms/step - loss: 0.5113 - val_loss: 9.1637\n",
            "Epoch 6/20\n",
            "363/363 [==============================] - 1s 2ms/step - loss: 0.4523 - val_loss: 5.2737\n",
            "Epoch 6: early stopping\n"
          ]
        }
      ],
      "source": [
        "model3 = keras.models.Sequential()\n",
        "model3.add(keras.layers.Dense(30, activation='relu',input_shape=X_train.shape[1:]))\n",
        "model3.add(keras.layers.Dense(5))\n",
        "model3.add(keras.layers.Dense(1))\n",
        "model3.compile(loss='mse',optimizer='sgd')\n",
        "\n",
        "history3 = model3.fit(X_train, y_train, epochs=20,\n",
        "                    validation_data=(X_valid, y_valid),\n",
        "                    callbacks=[get_callback(\"housing_logs\"),es])"
      ]
    },
    {
      "cell_type": "code",
      "execution_count": 18,
      "id": "31ac66e4-eaeb-42d8-b077-96d2d9325239",
      "metadata": {
        "pycharm": {
          "name": "#%%\n"
        },
        "colab": {
          "base_uri": "https://localhost:8080/"
        },
        "id": "31ac66e4-eaeb-42d8-b077-96d2d9325239",
        "outputId": "805946ce-e609-406c-80b6-08b0209a5520"
      },
      "outputs": [
        {
          "output_type": "stream",
          "name": "stdout",
          "text": [
            "Epoch 1/20\n",
            "363/363 [==============================] - 1s 2ms/step - loss: 1.0211 - val_loss: 0.5691\n",
            "Epoch 2/20\n",
            "363/363 [==============================] - 1s 2ms/step - loss: 0.5166 - val_loss: 0.4328\n",
            "Epoch 3/20\n",
            "363/363 [==============================] - 1s 2ms/step - loss: 0.4364 - val_loss: 0.3878\n",
            "Epoch 4/20\n",
            "363/363 [==============================] - 1s 2ms/step - loss: 0.4061 - val_loss: 0.3702\n",
            "Epoch 5/20\n",
            "363/363 [==============================] - 1s 2ms/step - loss: 0.3921 - val_loss: 0.3624\n",
            "Epoch 6/20\n",
            "363/363 [==============================] - 1s 2ms/step - loss: 0.3851 - val_loss: 0.3556\n",
            "Epoch 7/20\n",
            "363/363 [==============================] - 1s 2ms/step - loss: 0.3791 - val_loss: 0.3513\n",
            "Epoch 8/20\n",
            "363/363 [==============================] - 1s 2ms/step - loss: 0.3738 - val_loss: 0.3473\n",
            "Epoch 9/20\n",
            "363/363 [==============================] - 1s 2ms/step - loss: 0.3693 - val_loss: 0.3446\n",
            "Epoch 10/20\n",
            "363/363 [==============================] - 1s 2ms/step - loss: 0.3658 - val_loss: 0.3412\n",
            "Epoch 11/20\n",
            "363/363 [==============================] - 1s 2ms/step - loss: 0.3627 - val_loss: 0.3401\n",
            "Epoch 12/20\n",
            "363/363 [==============================] - 1s 2ms/step - loss: 0.3607 - val_loss: 0.3377\n",
            "Epoch 13/20\n",
            "363/363 [==============================] - 1s 2ms/step - loss: 0.3590 - val_loss: 0.3348\n",
            "Epoch 14/20\n",
            "363/363 [==============================] - 1s 2ms/step - loss: 0.3566 - val_loss: 0.3339\n",
            "Epoch 15/20\n",
            "363/363 [==============================] - 1s 2ms/step - loss: 0.3549 - val_loss: 0.3368\n",
            "Epoch 16/20\n",
            "363/363 [==============================] - 1s 2ms/step - loss: 0.3536 - val_loss: 0.3314\n",
            "Epoch 17/20\n",
            "363/363 [==============================] - 1s 2ms/step - loss: 0.3518 - val_loss: 0.3304\n",
            "Epoch 18/20\n",
            "363/363 [==============================] - 1s 2ms/step - loss: 0.3510 - val_loss: 0.3297\n",
            "Epoch 19/20\n",
            "363/363 [==============================] - 1s 2ms/step - loss: 0.3496 - val_loss: 0.3287\n",
            "Epoch 19: early stopping\n"
          ]
        }
      ],
      "source": [
        "model4 = keras.models.Sequential()\n",
        "model4.add(keras.layers.Dense(30, activation='relu',input_shape=X_train.shape[1:]))\n",
        "model4.add(keras.layers.Dense(5, activation='sigmoid'))\n",
        "model4.add(keras.layers.Dense(1))\n",
        "model4.compile(loss='mse',optimizer='sgd')\n",
        "\n",
        "history4 = model4.fit(X_train, y_train, epochs=20,\n",
        "                    validation_data=(X_valid, y_valid),\n",
        "                    callbacks=[get_callback(\"housing_logs\"),es])"
      ]
    },
    {
      "cell_type": "code",
      "execution_count": 19,
      "id": "9b6fc361-93a1-4153-bcf9-4c9cb2031000",
      "metadata": {
        "pycharm": {
          "name": "#%%\n"
        },
        "id": "9b6fc361-93a1-4153-bcf9-4c9cb2031000"
      },
      "outputs": [],
      "source": [
        "model.save('fashion_clf.h5')\n",
        "model2.save('reg_housing_1.h5')\n",
        "model3.save('reg_housing_2.h5')\n",
        "model4.save('reg_housing_3.h5')"
      ]
    },
    {
      "cell_type": "code",
      "execution_count": 19,
      "id": "61ae2e26-2aa3-424a-aee5-95a7dce3abff",
      "metadata": {
        "pycharm": {
          "name": "#%%\n"
        },
        "id": "61ae2e26-2aa3-424a-aee5-95a7dce3abff"
      },
      "outputs": [],
      "source": []
    }
  ],
  "metadata": {
    "kernelspec": {
      "display_name": "Python 3 (ipykernel)",
      "language": "python",
      "name": "python3"
    },
    "language_info": {
      "codemirror_mode": {
        "name": "ipython",
        "version": 3
      },
      "file_extension": ".py",
      "mimetype": "text/x-python",
      "name": "python",
      "nbconvert_exporter": "python",
      "pygments_lexer": "ipython3",
      "version": "3.9.4"
    },
    "colab": {
      "provenance": []
    }
  },
  "nbformat": 4,
  "nbformat_minor": 5
}