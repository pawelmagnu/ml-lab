{
 "cells": [
  {
   "cell_type": "code",
   "execution_count": 1,
   "id": "d6f4e18b-b516-4840-af80-47233106fb35",
   "metadata": {
    "pycharm": {
     "name": "#%%\n"
    }
   },
   "outputs": [],
   "source": [
    "import tensorflow as tf\n",
    "from tensorflow import keras\n",
    "import matplotlib.pyplot as plt\n",
    "import os\n",
    "import time\n",
    "import numpy as np\n",
    "\n",
    "fashion_mnist = tf.keras.datasets.fashion_mnist\n",
    "(X_train, y_train), (X_test, y_test) = fashion_mnist.load_data()\n",
    "assert X_train.shape == (60000, 28, 28)\n",
    "assert X_test.shape == (10000, 28, 28)\n",
    "assert y_train.shape == (60000,)\n",
    "assert y_test.shape == (10000,)"
   ]
  },
  {
   "cell_type": "code",
   "execution_count": 2,
   "id": "e4ae3528-9c1a-4d24-865b-978495aee799",
   "metadata": {
    "pycharm": {
     "name": "#%%\n"
    }
   },
   "outputs": [],
   "source": [
    "X_train = X_train/255\n",
    "X_test = X_test/255\n",
    "X_valid = X_test[:int(len(X_test)*0.1),:]\n",
    "y_valid = y_test[:int(len(y_test)*0.1)]"
   ]
  },
  {
   "cell_type": "code",
   "execution_count": 3,
   "id": "24bfb8b6-faa8-404b-8999-2ae781f6d766",
   "metadata": {
    "pycharm": {
     "name": "#%%\n"
    }
   },
   "outputs": [],
   "source": [
    "# plt.imshow(X_train[142], cmap=\"binary\")\n",
    "# plt.axis('off')\n",
    "# plt.show()"
   ]
  },
  {
   "cell_type": "code",
   "execution_count": 4,
   "id": "310cd5fd-6e6f-4bf0-aaff-2f7c90af26ac",
   "metadata": {
    "pycharm": {
     "name": "#%%\n"
    }
   },
   "outputs": [],
   "source": [
    "class_names = [\"koszulka\", \"spodnie\", \"pulower\", \"sukienka\", \"kurtka\",\n",
    "\"sandał\", \"koszula\", \"but\", \"torba\", \"kozak\"]\n",
    "# class_names[y_train[142]]"
   ]
  },
  {
   "cell_type": "code",
   "execution_count": 5,
   "id": "66c4b51b-e036-4405-9340-3106b0cd144d",
   "metadata": {
    "pycharm": {
     "name": "#%%\n"
    }
   },
   "outputs": [],
   "source": [
    "def get_callback(filename):\n",
    "    root_logdir = os.path.join(os.curdir, filename)\n",
    "    def get_run_logdir():\n",
    "        run_id = time.strftime(\"run_%Y_%m_%d-%H_%M_%S\")\n",
    "        return os.path.join(root_logdir, run_id)\n",
    "    run_logdir = get_run_logdir()\n",
    "    return tf.keras.callbacks.TensorBoard(run_logdir)"
   ]
  },
  {
   "cell_type": "code",
   "execution_count": 6,
   "id": "f09b9f4b-b1ad-4795-93e0-c278709d6780",
   "metadata": {
    "pycharm": {
     "name": "#%%\n"
    }
   },
   "outputs": [
    {
     "name": "stderr",
     "output_type": "stream",
     "text": [
      "c:\\users\\pawel\\appdata\\local\\programs\\python\\python39\\lib\\site-packages\\keras\\optimizer_v2\\gradient_descent.py:102: UserWarning: The `lr` argument is deprecated, use `learning_rate` instead.\n",
      "  super(SGD, self).__init__(name, **kwargs)\n"
     ]
    }
   ],
   "source": [
    "model = keras.models.Sequential()\n",
    "model.add(keras.layers.Flatten(input_shape=(28,28)))\n",
    "model.add(keras.layers.Dense(300, activation=\"relu\"))\n",
    "model.add(keras.layers.Dense(100, activation=\"relu\"))\n",
    "model.add(keras.layers.Dense(10, activation='softmax'))\n",
    "optimizer = keras.optimizers.SGD(lr=0.1)\n",
    "model.compile(optimizer=optimizer, loss=\"sparse_categorical_crossentropy\", metrics=['accuracy'])"
   ]
  },
  {
   "cell_type": "code",
   "execution_count": 7,
   "id": "4bb12ca1-ee8c-4b8f-ac15-cd5545e5004c",
   "metadata": {
    "pycharm": {
     "name": "#%%\n"
    }
   },
   "outputs": [
    {
     "name": "stdout",
     "output_type": "stream",
     "text": [
      "Epoch 1/20\n",
      "1875/1875 [==============================] - 3s 1ms/step - loss: 0.5229 - accuracy: 0.8084 - val_loss: 0.3877 - val_accuracy: 0.8640\n",
      "Epoch 2/20\n",
      "1875/1875 [==============================] - 3s 1ms/step - loss: 0.3817 - accuracy: 0.8586 - val_loss: 0.3782 - val_accuracy: 0.8730\n",
      "Epoch 3/20\n",
      "1875/1875 [==============================] - 3s 1ms/step - loss: 0.3398 - accuracy: 0.8741 - val_loss: 0.3805 - val_accuracy: 0.8660\n",
      "Epoch 4/20\n",
      "1875/1875 [==============================] - 3s 1ms/step - loss: 0.3170 - accuracy: 0.8828 - val_loss: 0.3431 - val_accuracy: 0.8770\n",
      "Epoch 5/20\n",
      "1875/1875 [==============================] - 3s 1ms/step - loss: 0.2965 - accuracy: 0.8900 - val_loss: 0.3752 - val_accuracy: 0.8640\n",
      "Epoch 6/20\n",
      "1875/1875 [==============================] - 3s 1ms/step - loss: 0.2811 - accuracy: 0.8935 - val_loss: 0.3779 - val_accuracy: 0.8750\n",
      "Epoch 7/20\n",
      "1875/1875 [==============================] - 3s 1ms/step - loss: 0.2692 - accuracy: 0.8989 - val_loss: 0.3424 - val_accuracy: 0.8750\n",
      "Epoch 8/20\n",
      "1875/1875 [==============================] - 3s 1ms/step - loss: 0.2567 - accuracy: 0.9045 - val_loss: 0.3370 - val_accuracy: 0.8820\n",
      "Epoch 9/20\n",
      "1875/1875 [==============================] - 3s 1ms/step - loss: 0.2485 - accuracy: 0.9071 - val_loss: 0.3396 - val_accuracy: 0.8900\n",
      "Epoch 10/20\n",
      "1875/1875 [==============================] - 3s 1ms/step - loss: 0.2378 - accuracy: 0.9099 - val_loss: 0.3351 - val_accuracy: 0.8850\n",
      "Epoch 11/20\n",
      "1875/1875 [==============================] - 3s 1ms/step - loss: 0.2318 - accuracy: 0.9126 - val_loss: 0.3647 - val_accuracy: 0.8860\n",
      "Epoch 12/20\n",
      "1875/1875 [==============================] - 3s 1ms/step - loss: 0.2236 - accuracy: 0.9143 - val_loss: 0.3237 - val_accuracy: 0.8920\n",
      "Epoch 13/20\n",
      "1875/1875 [==============================] - 3s 1ms/step - loss: 0.2160 - accuracy: 0.9184 - val_loss: 0.3741 - val_accuracy: 0.8740\n",
      "Epoch 14/20\n",
      "1875/1875 [==============================] - 3s 1ms/step - loss: 0.2107 - accuracy: 0.9206 - val_loss: 0.3392 - val_accuracy: 0.8820\n",
      "Epoch 15/20\n",
      "1875/1875 [==============================] - 3s 1ms/step - loss: 0.2027 - accuracy: 0.9221 - val_loss: 0.3375 - val_accuracy: 0.8890\n",
      "Epoch 16/20\n",
      "1875/1875 [==============================] - 3s 1ms/step - loss: 0.1974 - accuracy: 0.9251 - val_loss: 0.3494 - val_accuracy: 0.8960\n",
      "Epoch 17/20\n",
      "1875/1875 [==============================] - 3s 2ms/step - loss: 0.1906 - accuracy: 0.9266 - val_loss: 0.4162 - val_accuracy: 0.8760\n",
      "Epoch 18/20\n",
      "1875/1875 [==============================] - 3s 2ms/step - loss: 0.1869 - accuracy: 0.9299 - val_loss: 0.3455 - val_accuracy: 0.8990\n",
      "Epoch 19/20\n",
      "1875/1875 [==============================] - 3s 1ms/step - loss: 0.1831 - accuracy: 0.9297 - val_loss: 0.3422 - val_accuracy: 0.8980\n",
      "Epoch 20/20\n",
      "1875/1875 [==============================] - 3s 1ms/step - loss: 0.1749 - accuracy: 0.9334 - val_loss: 0.3379 - val_accuracy: 0.8950\n"
     ]
    }
   ],
   "source": [
    "history = model.fit(X_train, y_train, epochs=20,\n",
    "                    validation_data=(X_valid, y_valid),\n",
    "                    callbacks=[get_callback(\"image_logs\")])"
   ]
  },
  {
   "cell_type": "code",
   "execution_count": 8,
   "id": "903ec6c3-bee6-4a82-abe7-1f0702f2512c",
   "metadata": {
    "pycharm": {
     "name": "#%%\n"
    }
   },
   "outputs": [],
   "source": [
    "# image_index = np.random.randint(len(X_test))\n",
    "# image = np.array([X_test[image_index]])\n",
    "# confidences = model.predict(image)\n",
    "# confidence = np.max(confidences[0])\n",
    "# prediction = np.argmax(confidences[0])\n",
    "# print(\"Prediction:\", class_names[prediction])\n",
    "# print(\"Confidence:\", confidence)\n",
    "# print(\"Truth:\", class_names[y_test[image_index]])\n",
    "# plt.imshow(image[0], cmap=\"binary\")\n",
    "# plt.axis('off')\n",
    "# plt.show()"
   ]
  },
  {
   "cell_type": "code",
   "execution_count": 9,
   "id": "048f78b6-c7a0-4536-b9fa-6d4b08103754",
   "metadata": {
    "pycharm": {
     "name": "#%%\n"
    }
   },
   "outputs": [],
   "source": [
    "# %load_ext tensorboard"
   ]
  },
  {
   "cell_type": "code",
   "execution_count": 10,
   "id": "bb1437a9-172d-4664-9ce1-338933488443",
   "metadata": {
    "pycharm": {
     "name": "#%%\n"
    }
   },
   "outputs": [],
   "source": [
    "# %tensorboard --logdir ./housing_logs"
   ]
  },
  {
   "cell_type": "code",
   "execution_count": 11,
   "id": "f58cbda0-e1ef-4bd7-b7e5-b71295f93cd6",
   "metadata": {
    "pycharm": {
     "name": "#%%\n"
    }
   },
   "outputs": [],
   "source": [
    "from sklearn.datasets import fetch_california_housing\n",
    "from sklearn.model_selection import train_test_split\n",
    "from sklearn.preprocessing import StandardScaler\n",
    "housing = fetch_california_housing()"
   ]
  },
  {
   "cell_type": "code",
   "execution_count": 12,
   "id": "68bb886a-4ddf-45ec-8484-f178fe7fedb3",
   "metadata": {
    "pycharm": {
     "name": "#%%\n"
    }
   },
   "outputs": [],
   "source": [
    "X_train_full, X_test, y_train_full, y_test = train_test_split(housing.data,housing.target, random_state=42)\n",
    "X_train, X_valid, y_train, y_valid = train_test_split(X_train_full,y_train_full, random_state=42)"
   ]
  },
  {
   "cell_type": "code",
   "execution_count": 13,
   "id": "e61c1e82-ec2c-4d2f-b5c0-ae3325ffd5db",
   "metadata": {
    "pycharm": {
     "name": "#%%\n"
    }
   },
   "outputs": [],
   "source": [
    "scaler = StandardScaler()\n",
    "X_train = scaler.fit_transform(X_train)\n",
    "X_valid = scaler.transform(X_valid)\n",
    "X_test = scaler.transform(X_test)"
   ]
  },
  {
   "cell_type": "code",
   "execution_count": 14,
   "id": "c3906f31-64a3-4bed-825a-1df8ec67af61",
   "metadata": {
    "pycharm": {
     "name": "#%%\n"
    }
   },
   "outputs": [],
   "source": [
    "es = tf.keras.callbacks.EarlyStopping(patience=5,min_delta=0.01,verbose=1)"
   ]
  },
  {
   "cell_type": "code",
   "execution_count": 15,
   "id": "35d005d9-8e91-44dd-8ae6-42ed5fec597d",
   "metadata": {
    "pycharm": {
     "name": "#%%\n"
    }
   },
   "outputs": [],
   "source": [
    "model2 = keras.models.Sequential()\n",
    "model2.add(keras.layers.Dense(30, activation='relu',input_shape=X_train.shape[1:]))\n",
    "model2.add(keras.layers.Dense(1))\n",
    "model2.compile(loss='mse',optimizer='sgd')"
   ]
  },
  {
   "cell_type": "code",
   "execution_count": 16,
   "id": "66d16743-6ad5-4805-ae51-dede0f823d47",
   "metadata": {
    "pycharm": {
     "name": "#%%\n"
    }
   },
   "outputs": [
    {
     "name": "stdout",
     "output_type": "stream",
     "text": [
      "Epoch 1/20\n",
      "363/363 [==============================] - 1s 1ms/step - loss: 0.8564 - val_loss: 171.1837\n",
      "Epoch 2/20\n",
      "363/363 [==============================] - 0s 1ms/step - loss: 0.9960 - val_loss: 1.3499\n",
      "Epoch 3/20\n",
      "363/363 [==============================] - 0s 1ms/step - loss: 0.4503 - val_loss: 5.6121\n",
      "Epoch 4/20\n",
      "363/363 [==============================] - 0s 1ms/step - loss: 0.4516 - val_loss: 69.2866\n",
      "Epoch 5/20\n",
      "363/363 [==============================] - 0s 1ms/step - loss: 0.5356 - val_loss: 0.3754\n",
      "Epoch 6/20\n",
      "363/363 [==============================] - 0s 1ms/step - loss: 0.4014 - val_loss: 0.3662\n",
      "Epoch 7/20\n",
      "363/363 [==============================] - 0s 1ms/step - loss: 0.3878 - val_loss: 0.3573\n",
      "Epoch 8/20\n",
      "363/363 [==============================] - 0s 1ms/step - loss: 0.3824 - val_loss: 0.3598\n",
      "Epoch 9/20\n",
      "363/363 [==============================] - 0s 1ms/step - loss: 0.3772 - val_loss: 0.3470\n",
      "Epoch 10/20\n",
      "363/363 [==============================] - 0s 1ms/step - loss: 0.3742 - val_loss: 0.3499\n",
      "Epoch 11/20\n",
      "363/363 [==============================] - 0s 1ms/step - loss: 0.3673 - val_loss: 0.3547\n",
      "Epoch 12/20\n",
      "363/363 [==============================] - 0s 1ms/step - loss: 0.3625 - val_loss: 0.4141\n",
      "Epoch 13/20\n",
      "363/363 [==============================] - 0s 993us/step - loss: 0.3594 - val_loss: 0.3599\n",
      "Epoch 14/20\n",
      "363/363 [==============================] - 0s 1ms/step - loss: 0.3577 - val_loss: 0.3548\n",
      "Epoch 14: early stopping\n"
     ]
    }
   ],
   "source": [
    "history2 = model2.fit(X_train, y_train, epochs=20,\n",
    "                    validation_data=(X_valid, y_valid),\n",
    "                    callbacks=[get_callback(\"housing_logs\"),es])"
   ]
  },
  {
   "cell_type": "code",
   "execution_count": 17,
   "id": "7b549ef2-40fc-4ccb-821e-9d3fe2cb6908",
   "metadata": {
    "pycharm": {
     "name": "#%%\n"
    }
   },
   "outputs": [
    {
     "name": "stdout",
     "output_type": "stream",
     "text": [
      "Epoch 1/20\n",
      "363/363 [==============================] - 1s 1ms/step - loss: 0.7328 - val_loss: 0.5664\n",
      "Epoch 2/20\n",
      "363/363 [==============================] - 0s 1ms/step - loss: 0.4328 - val_loss: 1.9642\n",
      "Epoch 3/20\n",
      "363/363 [==============================] - 0s 1ms/step - loss: 0.4057 - val_loss: 0.6841\n",
      "Epoch 4/20\n",
      "363/363 [==============================] - 0s 1ms/step - loss: 0.4119 - val_loss: 0.3623\n",
      "Epoch 5/20\n",
      "363/363 [==============================] - 0s 998us/step - loss: 0.3908 - val_loss: 87.2340\n",
      "Epoch 6/20\n",
      "363/363 [==============================] - 0s 1ms/step - loss: 0.4940 - val_loss: 18.5679\n",
      "Epoch 7/20\n",
      "363/363 [==============================] - 0s 1ms/step - loss: 0.5693 - val_loss: 0.3671\n",
      "Epoch 8/20\n",
      "363/363 [==============================] - 0s 1ms/step - loss: 0.3939 - val_loss: 0.3666\n",
      "Epoch 9/20\n",
      "363/363 [==============================] - 0s 1ms/step - loss: 0.3839 - val_loss: 0.3639\n",
      "Epoch 9: early stopping\n"
     ]
    }
   ],
   "source": [
    "model3 = keras.models.Sequential()\n",
    "model3.add(keras.layers.Dense(30, activation='relu',input_shape=X_train.shape[1:]))\n",
    "model3.add(keras.layers.Dense(5))\n",
    "model3.add(keras.layers.Dense(1))\n",
    "model3.compile(loss='mse',optimizer='sgd')\n",
    "\n",
    "history3 = model3.fit(X_train, y_train, epochs=20,\n",
    "                    validation_data=(X_valid, y_valid),\n",
    "                    callbacks=[get_callback(\"housing_logs\"),es])"
   ]
  },
  {
   "cell_type": "code",
   "execution_count": 18,
   "id": "31ac66e4-eaeb-42d8-b077-96d2d9325239",
   "metadata": {
    "pycharm": {
     "name": "#%%\n"
    }
   },
   "outputs": [
    {
     "name": "stdout",
     "output_type": "stream",
     "text": [
      "Epoch 1/20\n",
      "363/363 [==============================] - 1s 1ms/step - loss: 0.9706 - val_loss: 0.6152\n",
      "Epoch 2/20\n",
      "363/363 [==============================] - 0s 1ms/step - loss: 0.5581 - val_loss: 0.4734\n",
      "Epoch 3/20\n",
      "363/363 [==============================] - 0s 1ms/step - loss: 0.4671 - val_loss: 0.4114\n",
      "Epoch 4/20\n",
      "363/363 [==============================] - 0s 991us/step - loss: 0.4213 - val_loss: 0.3799\n",
      "Epoch 5/20\n",
      "363/363 [==============================] - 0s 977us/step - loss: 0.3975 - val_loss: 0.3653\n",
      "Epoch 6/20\n",
      "363/363 [==============================] - 0s 1ms/step - loss: 0.3841 - val_loss: 0.3568\n",
      "Epoch 7/20\n",
      "363/363 [==============================] - 0s 1ms/step - loss: 0.3754 - val_loss: 0.3517\n",
      "Epoch 8/20\n",
      "363/363 [==============================] - 0s 1ms/step - loss: 0.3696 - val_loss: 0.3475\n",
      "Epoch 9/20\n",
      "363/363 [==============================] - 0s 1ms/step - loss: 0.3647 - val_loss: 0.3431\n",
      "Epoch 10/20\n",
      "363/363 [==============================] - 0s 1ms/step - loss: 0.3593 - val_loss: 0.3419\n",
      "Epoch 11/20\n",
      "363/363 [==============================] - 0s 1ms/step - loss: 0.3568 - val_loss: 0.3372\n",
      "Epoch 12/20\n",
      "363/363 [==============================] - 0s 1ms/step - loss: 0.3533 - val_loss: 0.3363\n",
      "Epoch 13/20\n",
      "363/363 [==============================] - 0s 1ms/step - loss: 0.3508 - val_loss: 0.3334\n",
      "Epoch 14/20\n",
      "363/363 [==============================] - 0s 1ms/step - loss: 0.3488 - val_loss: 0.3321\n",
      "Epoch 15/20\n",
      "363/363 [==============================] - 0s 1ms/step - loss: 0.3467 - val_loss: 0.3290\n",
      "Epoch 16/20\n",
      "363/363 [==============================] - 0s 1ms/step - loss: 0.3449 - val_loss: 0.3273\n",
      "Epoch 16: early stopping\n"
     ]
    }
   ],
   "source": [
    "model4 = keras.models.Sequential()\n",
    "model4.add(keras.layers.Dense(30, activation='relu',input_shape=X_train.shape[1:]))\n",
    "model4.add(keras.layers.Dense(5, activation='sigmoid'))\n",
    "model4.add(keras.layers.Dense(1))\n",
    "model4.compile(loss='mse',optimizer='sgd')\n",
    "\n",
    "history4 = model4.fit(X_train, y_train, epochs=20,\n",
    "                    validation_data=(X_valid, y_valid),\n",
    "                    callbacks=[get_callback(\"housing_logs\"),es])"
   ]
  },
  {
   "cell_type": "code",
   "execution_count": 19,
   "id": "9b6fc361-93a1-4153-bcf9-4c9cb2031000",
   "metadata": {
    "pycharm": {
     "name": "#%%\n"
    }
   },
   "outputs": [],
   "source": [
    "model.save('fashion_clf.h5')\n",
    "model2.save('reg_housing_1.h5')\n",
    "model3.save('reg_housing_2.h5')\n",
    "model4.save('reg_housing_3.h5')"
   ]
  },
  {
   "cell_type": "code",
   "execution_count": null,
   "id": "61ae2e26-2aa3-424a-aee5-95a7dce3abff",
   "metadata": {
    "pycharm": {
     "name": "#%%\n"
    }
   },
   "outputs": [],
   "source": []
  }
 ],
 "metadata": {
  "kernelspec": {
   "display_name": "Python 3 (ipykernel)",
   "language": "python",
   "name": "python3"
  },
  "language_info": {
   "codemirror_mode": {
    "name": "ipython",
    "version": 3
   },
   "file_extension": ".py",
   "mimetype": "text/x-python",
   "name": "python",
   "nbconvert_exporter": "python",
   "pygments_lexer": "ipython3",
   "version": "3.9.4"
  }
 },
 "nbformat": 4,
 "nbformat_minor": 5
}