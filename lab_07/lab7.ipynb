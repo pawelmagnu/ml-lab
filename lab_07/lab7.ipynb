{
  "cells": [
    {
      "cell_type": "code",
      "execution_count": 1,
      "id": "e0e090ae-63a2-4582-a648-a48fd78c5cf9",
      "metadata": {
        "pycharm": {
          "name": "#%%\n"
        },
        "id": "e0e090ae-63a2-4582-a648-a48fd78c5cf9"
      },
      "outputs": [],
      "source": [
        "from sklearn.datasets import fetch_openml\n",
        "import numpy as np\n",
        "mnist = fetch_openml('mnist_784', version=1, as_frame=False)\n",
        "mnist.target = mnist.target.astype(np.uint8)\n",
        "X = mnist[\"data\"]\n",
        "y = mnist[\"target\"]"
      ]
    },
    {
      "cell_type": "code",
      "execution_count": 2,
      "id": "8ea71fdb-b900-4cdc-b57c-321255cd3fd1",
      "metadata": {
        "pycharm": {
          "name": "#%%\n"
        },
        "id": "8ea71fdb-b900-4cdc-b57c-321255cd3fd1"
      },
      "outputs": [],
      "source": [
        "from sklearn.cluster import KMeans,DBSCAN\n",
        "from sklearn.metrics import silhouette_score,confusion_matrix\n",
        "import pickle"
      ]
    },
    {
      "cell_type": "code",
      "execution_count": 3,
      "id": "c6dd7dd4-0068-457e-9bd5-cad41ca32e9f",
      "metadata": {
        "pycharm": {
          "name": "#%%\n"
        },
        "id": "c6dd7dd4-0068-457e-9bd5-cad41ca32e9f"
      },
      "outputs": [],
      "source": [
        "k_s = [8,9,10,11,12]\n",
        "kmeans_sil = []\n",
        "kmeans_clf = []\n",
        "y_pred_kmeans = []\n",
        "for k in k_s:\n",
        "    kmeans = KMeans(n_clusters=k,random_state=42)\n",
        "    y_pred = kmeans.fit_predict(X)\n",
        "    kmeans_sil.append(silhouette_score(X, kmeans.labels_))\n",
        "    kmeans_clf.append(kmeans)\n",
        "    y_pred_kmeans.append(y_pred)"
      ]
    },
    {
      "cell_type": "code",
      "execution_count": 4,
      "id": "bc9612f2-9ac4-48e4-8e96-1200b237bbc4",
      "metadata": {
        "pycharm": {
          "name": "#%%\n"
        },
        "id": "bc9612f2-9ac4-48e4-8e96-1200b237bbc4"
      },
      "outputs": [],
      "source": [
        "conf_mat = confusion_matrix(y,y_pred_kmeans[2])"
      ]
    },
    {
      "cell_type": "code",
      "execution_count": 5,
      "id": "a07785fd-428d-4714-b6ba-3ee8a02246d2",
      "metadata": {
        "pycharm": {
          "name": "#%%\n"
        },
        "id": "a07785fd-428d-4714-b6ba-3ee8a02246d2"
      },
      "outputs": [],
      "source": [
        "kmeans_argmax = set({})\n",
        "for row in conf_mat:\n",
        "    kmeans_argmax.add(np.argmax(row))"
      ]
    },
    {
      "cell_type": "code",
      "execution_count": 6,
      "id": "40d03bfa-a19f-4759-a67f-934fe1b0d76e",
      "metadata": {
        "pycharm": {
          "name": "#%%\n"
        },
        "id": "40d03bfa-a19f-4759-a67f-934fe1b0d76e"
      },
      "outputs": [],
      "source": [
        "kmeans_argmax = list(kmeans_argmax)"
      ]
    },
    {
      "cell_type": "code",
      "execution_count": 7,
      "id": "6c400877-3a6c-48a1-87fd-542904ad4fd6",
      "metadata": {
        "pycharm": {
          "name": "#%%\n"
        },
        "id": "6c400877-3a6c-48a1-87fd-542904ad4fd6"
      },
      "outputs": [],
      "source": [
        "dist = []\n",
        "for index, x1 in enumerate(X[:300]):\n",
        "    for index2,x2 in enumerate(X[index+1:]):\n",
        "        dist.append(np.linalg.norm(x1-x2))"
      ]
    },
    {
      "cell_type": "code",
      "execution_count": 8,
      "id": "6bb66468-3e10-4bb5-89be-0de94c0326d3",
      "metadata": {
        "pycharm": {
          "name": "#%%\n"
        },
        "id": "6bb66468-3e10-4bb5-89be-0de94c0326d3"
      },
      "outputs": [],
      "source": [
        "dist = np.sort(dist)[:10]"
      ]
    },
    {
      "cell_type": "code",
      "execution_count": 9,
      "id": "0f38c8f6-53d4-4008-990d-a4d307086c08",
      "metadata": {
        "pycharm": {
          "name": "#%%\n"
        },
        "id": "0f38c8f6-53d4-4008-990d-a4d307086c08"
      },
      "outputs": [],
      "source": [
        "# dist"
      ]
    },
    {
      "cell_type": "code",
      "execution_count": 10,
      "id": "538edc19-91b9-4967-bc5c-fe63ed2d52ea",
      "metadata": {
        "pycharm": {
          "name": "#%%\n"
        },
        "id": "538edc19-91b9-4967-bc5c-fe63ed2d52ea"
      },
      "outputs": [],
      "source": [
        "s = np.average(dist[:3])"
      ]
    },
    {
      "cell_type": "code",
      "execution_count": 11,
      "id": "cd086f8b-3093-476d-827f-4f06e4327661",
      "metadata": {
        "pycharm": {
          "name": "#%%\n"
        },
        "id": "cd086f8b-3093-476d-827f-4f06e4327661"
      },
      "outputs": [],
      "source": [
        "esys = np.arange(s,1.1*s,0.04*s)"
      ]
    },
    {
      "cell_type": "code",
      "execution_count": 12,
      "id": "41a5e607-e2f6-47ef-9761-128706efde7d",
      "metadata": {
        "pycharm": {
          "name": "#%%\n"
        },
        "id": "41a5e607-e2f6-47ef-9761-128706efde7d"
      },
      "outputs": [],
      "source": [
        "# esys"
      ]
    },
    {
      "cell_type": "code",
      "execution_count": 13,
      "id": "256da664-b853-493b-b274-bd720bea06ff",
      "metadata": {
        "pycharm": {
          "name": "#%%\n"
        },
        "id": "256da664-b853-493b-b274-bd720bea06ff"
      },
      "outputs": [],
      "source": [
        "dbs = []\n",
        "for epsy in esys:   \n",
        "    dbscan = DBSCAN(eps=epsy)\n",
        "    dbscan.fit(X)\n",
        "    dbs.append(dbscan)"
      ]
    },
    {
      "cell_type": "code",
      "execution_count": 14,
      "id": "8998c207-f20b-4c30-8b3c-c7ac3afe5fbe",
      "metadata": {
        "pycharm": {
          "name": "#%%\n"
        },
        "id": "8998c207-f20b-4c30-8b3c-c7ac3afe5fbe"
      },
      "outputs": [],
      "source": [
        "dbscan_len = []\n",
        "for dbsc in dbs:\n",
        "    dbscan_len.append(len(list(set(dbsc.labels_))))"
      ]
    },
    {
      "cell_type": "code",
      "execution_count": 15,
      "id": "816469f9-5e92-451c-997a-27cee665a8bd",
      "metadata": {
        "pycharm": {
          "name": "#%%\n"
        },
        "id": "816469f9-5e92-451c-997a-27cee665a8bd"
      },
      "outputs": [],
      "source": [
        "# dbscan_len"
      ]
    },
    {
      "cell_type": "code",
      "execution_count": 16,
      "id": "d397aac1-a688-4929-ae2b-baeca2c67145",
      "metadata": {
        "pycharm": {
          "name": "#%%\n"
        },
        "id": "d397aac1-a688-4929-ae2b-baeca2c67145"
      },
      "outputs": [],
      "source": [
        "with open('kmeans_sil.pkl','wb') as f:\n",
        "    pickle.dump(kmeans_sil,f)"
      ]
    },
    {
      "cell_type": "code",
      "execution_count": 17,
      "id": "f0a11c29-211e-411a-a9b4-72fc9f2d8688",
      "metadata": {
        "pycharm": {
          "name": "#%%\n"
        },
        "id": "f0a11c29-211e-411a-a9b4-72fc9f2d8688"
      },
      "outputs": [],
      "source": [
        "with open('kmeans_argmax.pkl','wb') as f:\n",
        "    pickle.dump(kmeans_argmax,f)"
      ]
    },
    {
      "cell_type": "code",
      "execution_count": 18,
      "id": "e8765f63-f067-4839-8126-b0227acdbc89",
      "metadata": {
        "pycharm": {
          "name": "#%%\n"
        },
        "id": "e8765f63-f067-4839-8126-b0227acdbc89"
      },
      "outputs": [],
      "source": [
        "with open('dist.pkl','wb') as f:\n",
        "    pickle.dump(dist,f)"
      ]
    },
    {
      "cell_type": "code",
      "execution_count": 19,
      "id": "6cd38261-5983-4f45-824e-79beda5b7b0e",
      "metadata": {
        "pycharm": {
          "name": "#%%\n"
        },
        "id": "6cd38261-5983-4f45-824e-79beda5b7b0e"
      },
      "outputs": [],
      "source": [
        "with open('dbscan_len.pkl','wb') as f:\n",
        "    pickle.dump(dbscan_len,f)"
      ]
    }
  ],
  "metadata": {
    "kernelspec": {
      "display_name": "Python 3 (ipykernel)",
      "language": "python",
      "name": "python3"
    },
    "language_info": {
      "codemirror_mode": {
        "name": "ipython",
        "version": 3
      },
      "file_extension": ".py",
      "mimetype": "text/x-python",
      "name": "python",
      "nbconvert_exporter": "python",
      "pygments_lexer": "ipython3",
      "version": "3.9.10"
    },
    "colab": {
      "provenance": []
    }
  },
  "nbformat": 4,
  "nbformat_minor": 5
}