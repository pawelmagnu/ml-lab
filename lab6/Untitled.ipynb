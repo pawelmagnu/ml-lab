{
 "cells": [
  {
   "cell_type": "code",
   "execution_count": 1,
   "id": "8630cc2e-9759-4ae1-9053-96bf8460b961",
   "metadata": {},
   "outputs": [],
   "source": [
    "import numpy as np\n",
    "import pandas as pd\n",
    "import pickle\n",
    "from sklearn import datasets\n",
    "from sklearn.metrics import accuracy_score\n",
    "from sklearn.model_selection import train_test_split\n",
    "from sklearn.linear_model import LogisticRegression\n",
    "from sklearn.tree import DecisionTreeClassifier\n",
    "from sklearn.neighbors import KNeighborsClassifier\n",
    "from sklearn.ensemble import VotingClassifier\n",
    "from sklearn.ensemble import BaggingClassifier\n",
    "from sklearn.ensemble import RandomForestClassifier\n",
    "from sklearn.ensemble import AdaBoostClassifier\n",
    "from sklearn.ensemble import GradientBoostingClassifier"
   ]
  },
  {
   "cell_type": "code",
   "execution_count": 2,
   "id": "dbb99aa6-5c69-4857-b352-0be2df0c54a0",
   "metadata": {},
   "outputs": [],
   "source": [
    "data_breast = datasets.load_breast_cancer(as_frame=True)"
   ]
  },
  {
   "cell_type": "code",
   "execution_count": 3,
   "id": "c8f54795-505b-41df-99a6-2438c3b935b6",
   "metadata": {},
   "outputs": [],
   "source": [
    "X_train, X_test, y_train, y_test = train_test_split(data_breast.data,data_breast.target,test_size=0.2,random_state=42)"
   ]
  },
  {
   "cell_type": "code",
   "execution_count": 4,
   "id": "37b3314f-9298-4219-b15d-b2b2bb6e4171",
   "metadata": {},
   "outputs": [],
   "source": [
    "X_train2 = X_train[['mean texture', 'mean symmetry']]\n",
    "X_test2 = X_test[['mean texture', 'mean symmetry']]"
   ]
  },
  {
   "cell_type": "code",
   "execution_count": 5,
   "id": "4642d21f-52ba-4d4b-827a-3a771f63b3e8",
   "metadata": {},
   "outputs": [],
   "source": [
    "log_clf = LogisticRegression()\n",
    "tree_clf = DecisionTreeClassifier()\n",
    "knn_clf = KNeighborsClassifier()\n",
    "\n",
    "hard_clf = VotingClassifier(\n",
    "    estimators=[('lr', log_clf),\n",
    "                ('tr', tree_clf),\n",
    "                ('knn', knn_clf)],\n",
    "    voting='hard')\n",
    "\n",
    "soft_clf = VotingClassifier(\n",
    "    estimators=[('lr', log_clf),\n",
    "                ('tr', tree_clf),\n",
    "                ('knn', knn_clf)],\n",
    "    voting='soft')"
   ]
  },
  {
   "cell_type": "code",
   "execution_count": 6,
   "id": "655ceb28-7d71-441a-8094-db16c64f35fa",
   "metadata": {},
   "outputs": [],
   "source": [
    "classifiers = [tree_clf,log_clf,knn_clf,hard_clf,soft_clf]\n",
    "acc = []\n",
    "for clf in classifiers:\n",
    "    clf.fit(X_train2, y_train)\n",
    "    first_val = accuracy_score(y_train, clf.predict(X_train2))\n",
    "    second_val = accuracy_score(y_test, clf.predict(X_test2))\n",
    "    acc.append((first_val,second_val))"
   ]
  },
  {
   "cell_type": "code",
   "execution_count": 7,
   "id": "960cae1b-f2df-4efd-81a9-001c702285be",
   "metadata": {},
   "outputs": [
    {
     "data": {
      "text/plain": [
       "[(1.0, 0.6228070175438597),\n",
       " (0.7230769230769231, 0.7017543859649122),\n",
       " (0.7714285714285715, 0.6403508771929824),\n",
       " (0.8351648351648352, 0.7017543859649122),\n",
       " (0.9648351648351648, 0.6754385964912281)]"
      ]
     },
     "execution_count": 7,
     "metadata": {},
     "output_type": "execute_result"
    }
   ],
   "source": [
    "acc"
   ]
  },
  {
   "cell_type": "code",
   "execution_count": 8,
   "id": "121ef793-c408-4ff2-842d-9edac11b917d",
   "metadata": {},
   "outputs": [],
   "source": [
    "with open('acc_vote.pkl','wb') as f:\n",
    "    pickle.dump(acc,f)"
   ]
  },
  {
   "cell_type": "code",
   "execution_count": 9,
   "id": "a76f6d23-5ee6-4ae5-ad29-f1b30274523e",
   "metadata": {},
   "outputs": [],
   "source": [
    "with open('vote.pkl','wb') as f:\n",
    "    pickle.dump(classifiers,f)"
   ]
  },
  {
   "cell_type": "code",
   "execution_count": 10,
   "id": "eed7ce2a-7a09-4923-b559-a65aaa744e2e",
   "metadata": {},
   "outputs": [],
   "source": [
    "bag_clf = BaggingClassifier(DecisionTreeClassifier(), n_estimators=30,\n",
    "                            bootstrap=True)\n",
    "bag50_clf = BaggingClassifier(DecisionTreeClassifier(), n_estimators=30,\n",
    "                              max_samples=0.5, bootstrap=True)\n",
    "pas_clf = BaggingClassifier(DecisionTreeClassifier(), n_estimators=30,\n",
    "                            bootstrap=False)\n",
    "pas50_clf = BaggingClassifier(DecisionTreeClassifier(), n_estimators=30,\n",
    "                              max_samples=0.5, bootstrap=False)\n",
    "rnd_clf = RandomForestClassifier(n_estimators=30)\n",
    "ada_clf = AdaBoostClassifier(n_estimators=30)\n",
    "gbc_clf = GradientBoostingClassifier(n_estimators=30)"
   ]
  },
  {
   "cell_type": "code",
   "execution_count": 11,
   "id": "684da680-855d-4c7f-82a6-82a89af3f925",
   "metadata": {},
   "outputs": [],
   "source": [
    "classif = [bag_clf,bag50_clf,pas_clf,pas50_clf,rnd_clf,ada_clf,gbc_clf]\n",
    "accurac = []\n",
    "for clf in classif:\n",
    "    clf.fit(X_train2, y_train)\n",
    "    first_val = accuracy_score(y_train, clf.predict(X_train2))\n",
    "    second_val = accuracy_score(y_test, clf.predict(X_test2))\n",
    "    accurac.append((first_val,second_val))"
   ]
  },
  {
   "cell_type": "code",
   "execution_count": 12,
   "id": "5fc79c0e-1b07-4417-9f85-ec2c55dcb2f8",
   "metadata": {},
   "outputs": [
    {
     "data": {
      "text/plain": [
       "[(0.9978021978021978, 0.6228070175438597),\n",
       " (0.9362637362637363, 0.6842105263157895),\n",
       " (1.0, 0.6228070175438597),\n",
       " (0.9604395604395605, 0.6666666666666666),\n",
       " (0.9956043956043956, 0.7017543859649122),\n",
       " (0.8, 0.7368421052631579),\n",
       " (0.8373626373626374, 0.7105263157894737)]"
      ]
     },
     "execution_count": 12,
     "metadata": {},
     "output_type": "execute_result"
    }
   ],
   "source": [
    "accurac"
   ]
  },
  {
   "cell_type": "code",
   "execution_count": 13,
   "id": "c50c2c5e-3cf7-4919-aa83-5ec6bb39ff54",
   "metadata": {},
   "outputs": [],
   "source": [
    "with open('acc_bag.pkl','wb') as f:\n",
    "    pickle.dump(accurac,f)"
   ]
  },
  {
   "cell_type": "code",
   "execution_count": 45,
   "id": "a0ce539a-145f-4628-9c8d-f7fd2834a109",
   "metadata": {},
   "outputs": [],
   "source": [
    "with open('bag.pkl','wb') as f:\n",
    "    pickle.dump(classif,f)"
   ]
  },
  {
   "cell_type": "code",
   "execution_count": 46,
   "id": "a548d7aa-9fd4-4f49-a913-f709294b303a",
   "metadata": {},
   "outputs": [],
   "source": [
    "bagrnd_clf = BaggingClassifier(DecisionTreeClassifier(), n_estimators=30, bootstrap=True, \n",
    "                               bootstrap_features=False, max_samples=0.5, max_features=2)\n",
    "bagrnd_clf.fit(X_train,y_train)\n",
    "fea_acc = [accuracy_score(y_train, bagrnd_clf.predict(X_train)),\n",
    "           accuracy_score(y_test, bagrnd_clf.predict(X_test))]"
   ]
  },
  {
   "cell_type": "code",
   "execution_count": 47,
   "id": "b619085c-9a01-4aef-ba05-a4a8674ccd30",
   "metadata": {},
   "outputs": [
    {
     "data": {
      "text/plain": [
       "[0.9846153846153847, 0.9736842105263158]"
      ]
     },
     "execution_count": 47,
     "metadata": {},
     "output_type": "execute_result"
    }
   ],
   "source": [
    "fea_acc"
   ]
  },
  {
   "cell_type": "code",
   "execution_count": 32,
   "id": "55550c65-f282-4800-96b8-36495c96635b",
   "metadata": {},
   "outputs": [],
   "source": [
    "with open('acc_fea.pkl','wb') as f:\n",
    "    pickle.dump(fea_acc,f)"
   ]
  },
  {
   "cell_type": "code",
   "execution_count": 33,
   "id": "7d394c7f-26ed-4538-ba98-9cc487fda32f",
   "metadata": {},
   "outputs": [],
   "source": [
    "with open('fea.pkl','wb') as f:\n",
    "    pickle.dump([bagrnd_clf],f)"
   ]
  },
  {
   "cell_type": "code",
   "execution_count": 26,
   "id": "5c75a980-9869-47c0-90f0-6d94a0feaaf7",
   "metadata": {},
   "outputs": [
    {
     "data": {
      "text/plain": [
       "[array([1, 3]),\n",
       " array([11,  4]),\n",
       " array([18,  9]),\n",
       " array([ 2, 25]),\n",
       " array([ 8, 27]),\n",
       " array([15,  6]),\n",
       " array([13,  9]),\n",
       " array([ 9, 27]),\n",
       " array([10,  9]),\n",
       " array([26, 28]),\n",
       " array([16, 20]),\n",
       " array([15, 25]),\n",
       " array([ 2, 13]),\n",
       " array([17,  5]),\n",
       " array([14,  6]),\n",
       " array([19, 15]),\n",
       " array([27,  7]),\n",
       " array([0, 8]),\n",
       " array([24, 20]),\n",
       " array([22,  2]),\n",
       " array([10,  5]),\n",
       " array([6, 9]),\n",
       " array([4, 0]),\n",
       " array([ 4, 29]),\n",
       " array([14, 17]),\n",
       " array([22, 16]),\n",
       " array([16, 12]),\n",
       " array([3, 6]),\n",
       " array([15, 14]),\n",
       " array([26, 29])]"
      ]
     },
     "execution_count": 26,
     "metadata": {},
     "output_type": "execute_result"
    }
   ],
   "source": [
    "bagrnd_clf.estimators_features_"
   ]
  },
  {
   "cell_type": "code",
   "execution_count": 25,
   "id": "ea03534b-a765-4904-9674-cbd10071c441",
   "metadata": {},
   "outputs": [
    {
     "data": {
      "text/plain": [
       "[DecisionTreeClassifier(random_state=2077105647),\n",
       " DecisionTreeClassifier(random_state=1025579058),\n",
       " DecisionTreeClassifier(random_state=1957417715),\n",
       " DecisionTreeClassifier(random_state=97947721),\n",
       " DecisionTreeClassifier(random_state=192557904),\n",
       " DecisionTreeClassifier(random_state=1539714998),\n",
       " DecisionTreeClassifier(random_state=1596220300),\n",
       " DecisionTreeClassifier(random_state=11838184),\n",
       " DecisionTreeClassifier(random_state=1724777228),\n",
       " DecisionTreeClassifier(random_state=552641819),\n",
       " DecisionTreeClassifier(random_state=1001666565),\n",
       " DecisionTreeClassifier(random_state=216921139),\n",
       " DecisionTreeClassifier(random_state=859582323),\n",
       " DecisionTreeClassifier(random_state=924612426),\n",
       " DecisionTreeClassifier(random_state=1342071699),\n",
       " DecisionTreeClassifier(random_state=829759867),\n",
       " DecisionTreeClassifier(random_state=442169386),\n",
       " DecisionTreeClassifier(random_state=1861291257),\n",
       " DecisionTreeClassifier(random_state=2134296100),\n",
       " DecisionTreeClassifier(random_state=803632456),\n",
       " DecisionTreeClassifier(random_state=892672905),\n",
       " DecisionTreeClassifier(random_state=1144299392),\n",
       " DecisionTreeClassifier(random_state=1989684983),\n",
       " DecisionTreeClassifier(random_state=2082744633),\n",
       " DecisionTreeClassifier(random_state=504175591),\n",
       " DecisionTreeClassifier(random_state=56369327),\n",
       " DecisionTreeClassifier(random_state=170259950),\n",
       " DecisionTreeClassifier(random_state=903688034),\n",
       " DecisionTreeClassifier(random_state=1979701308),\n",
       " DecisionTreeClassifier(random_state=1503706840)]"
      ]
     },
     "execution_count": 25,
     "metadata": {},
     "output_type": "execute_result"
    }
   ],
   "source": [
    "bagrnd_clf.estimators_"
   ]
  },
  {
   "cell_type": "code",
   "execution_count": 28,
   "id": "30e90704-4630-47e6-b80b-f2316d52e06d",
   "metadata": {},
   "outputs": [],
   "source": [
    "df = pd.DataFrame({'train_acc': pd.Series(dtype='float'),\n",
    "                   'test_acc':  pd.Series(dtype='float'),\n",
    "                   'feat_list': pd.Series(dtype='object')})"
   ]
  },
  {
   "cell_type": "code",
   "execution_count": 31,
   "id": "1aa86dc3-f794-4fcd-861b-0ba238221ed5",
   "metadata": {},
   "outputs": [
    {
     "data": {
      "text/html": [
       "<div>\n",
       "<style scoped>\n",
       "    .dataframe tbody tr th:only-of-type {\n",
       "        vertical-align: middle;\n",
       "    }\n",
       "\n",
       "    .dataframe tbody tr th {\n",
       "        vertical-align: top;\n",
       "    }\n",
       "\n",
       "    .dataframe thead th {\n",
       "        text-align: right;\n",
       "    }\n",
       "</style>\n",
       "<table border=\"1\" class=\"dataframe\">\n",
       "  <thead>\n",
       "    <tr style=\"text-align: right;\">\n",
       "      <th></th>\n",
       "      <th>train_acc</th>\n",
       "      <th>test_acc</th>\n",
       "      <th>feat_list</th>\n",
       "    </tr>\n",
       "  </thead>\n",
       "  <tbody>\n",
       "  </tbody>\n",
       "</table>\n",
       "</div>"
      ],
      "text/plain": [
       "Empty DataFrame\n",
       "Columns: [train_acc, test_acc, feat_list]\n",
       "Index: []"
      ]
     },
     "execution_count": 31,
     "metadata": {},
     "output_type": "execute_result"
    }
   ],
   "source": [
    "df.head()"
   ]
  },
  {
   "cell_type": "code",
   "execution_count": 48,
   "id": "0ce5e55a-3685-47ab-9558-9285d00437d6",
   "metadata": {},
   "outputs": [],
   "source": [
    "for index in range(len(bagrnd_clf.estimators_)):\n",
    "    x_train = X_train.iloc[bagrnd_clf.estimators_features_[index]]\n",
    "    clf = bagrnd_clf.estimators_[index]\n",
    "    clf."
   ]
  },
  {
   "cell_type": "code",
   "execution_count": null,
   "id": "c7c44931-691a-4eeb-befc-562c27bf949e",
   "metadata": {},
   "outputs": [],
   "source": []
  }
 ],
 "metadata": {
  "kernelspec": {
   "display_name": "Python 3 (ipykernel)",
   "language": "python",
   "name": "python3"
  },
  "language_info": {
   "codemirror_mode": {
    "name": "ipython",
    "version": 3
   },
   "file_extension": ".py",
   "mimetype": "text/x-python",
   "name": "python",
   "nbconvert_exporter": "python",
   "pygments_lexer": "ipython3",
   "version": "3.9.10"
  }
 },
 "nbformat": 4,
 "nbformat_minor": 5
}
