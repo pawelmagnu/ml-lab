{
  "cells": [
    {
      "cell_type": "code",
      "execution_count": 1,
      "id": "0481a5de-22ce-47af-8b80-428bd211b4fb",
      "metadata": {
        "pycharm": {
          "name": "#%%\n"
        },
        "id": "0481a5de-22ce-47af-8b80-428bd211b4fb"
      },
      "outputs": [],
      "source": [
        "from sklearn.datasets import load_iris\n",
        "from sklearn.model_selection import train_test_split\n",
        "from sklearn.linear_model import Perceptron\n",
        "from sklearn.metrics import accuracy_score\n",
        "import pandas as pd\n",
        "import numpy as np\n",
        "import pickle\n",
        "import os\n",
        "os.environ['TF_CPP_MIN_LOG_LEVEL'] = '3'\n",
        "import tensorflow as tf\n",
        "from tensorflow import keras\n",
        "iris = load_iris(as_frame=True)"
      ]
    },
    {
      "cell_type": "code",
      "execution_count": 2,
      "id": "eb7e57a8-26a4-4e82-b76d-98b5519001df",
      "metadata": {
        "pycharm": {
          "name": "#%%\n"
        },
        "id": "eb7e57a8-26a4-4e82-b76d-98b5519001df"
      },
      "outputs": [],
      "source": [
        "y_0 = (iris.target == 0).astype(int)\n",
        "y_1 = (iris.target == 1).astype(int)\n",
        "y_2 = (iris.target == 2).astype(int)"
      ]
    },
    {
      "cell_type": "code",
      "execution_count": 3,
      "id": "5e474a23-ee4e-4927-95a5-3900513418e8",
      "metadata": {
        "pycharm": {
          "name": "#%%\n"
        },
        "id": "5e474a23-ee4e-4927-95a5-3900513418e8"
      },
      "outputs": [],
      "source": [
        "perceptrons = []\n",
        "accuracy_train = []\n",
        "accuracy_test = []\n",
        "coefs = []\n",
        "for y in [y_0, y_1, y_2]:  \n",
        "    X_train, X_test, y_train, y_test = train_test_split(iris.data, y, test_size=0.2, random_state=42)\n",
        "    per_clf = Perceptron()\n",
        "    per_clf.fit(X_train,y_train)\n",
        "    accuracy_train.append(accuracy_score(y_train,per_clf.predict(X_train)))\n",
        "    accuracy_test.append(accuracy_score(y_test,per_clf.predict(X_test)))\n",
        "    perceptrons.append(per_clf)\n",
        "    coefs.append(per_clf.coef_)"
      ]
    },
    {
      "cell_type": "code",
      "execution_count": 4,
      "id": "225bcbbe-7006-474b-86e5-e311b11e6229",
      "metadata": {
        "pycharm": {
          "name": "#%%\n"
        },
        "id": "225bcbbe-7006-474b-86e5-e311b11e6229"
      },
      "outputs": [],
      "source": [
        "per_acc = []\n",
        "for z in zip(accuracy_train, accuracy_test):\n",
        "    per_acc.append(z)"
      ]
    },
    {
      "cell_type": "code",
      "execution_count": 5,
      "id": "040de644-1f9d-4f7a-9b9c-1ca4b3c8ba3c",
      "metadata": {
        "pycharm": {
          "name": "#%%\n"
        },
        "id": "040de644-1f9d-4f7a-9b9c-1ca4b3c8ba3c"
      },
      "outputs": [],
      "source": [
        "per_wght = [(coefs[0][0][i],coefs[1][0][i],coefs[2][0][i]) for i in range(len(coefs[0][0]))]"
      ]
    },
    {
      "cell_type": "code",
      "execution_count": 6,
      "id": "e51945a7-aa72-4297-abcb-a54b279c336b",
      "metadata": {
        "pycharm": {
          "name": "#%%\n"
        },
        "id": "e51945a7-aa72-4297-abcb-a54b279c336b"
      },
      "outputs": [],
      "source": [
        "X = np.array([[0, 0],[0, 1],[1, 0],[1, 1]])\n",
        "y = np.array([0,1,1,0])"
      ]
    },
    {
      "cell_type": "code",
      "execution_count": 7,
      "id": "212e227c-3927-4dc8-8063-34edd494d0b4",
      "metadata": {
        "pycharm": {
          "name": "#%%\n"
        },
        "colab": {
          "base_uri": "https://localhost:8080/"
        },
        "id": "212e227c-3927-4dc8-8063-34edd494d0b4",
        "outputId": "1669e9c7-fcf5-4bab-b6c7-14bf0d9e5c71"
      },
      "outputs": [
        {
          "output_type": "stream",
          "name": "stdout",
          "text": [
            "1/1 [==============================] - 0s 103ms/step\n"
          ]
        }
      ],
      "source": [
        "optimizer_adam = tf.keras.optimizers.Adam(learning_rate=0.1)\n",
        "mlp_xor_weights = []\n",
        "while True:\n",
        "    model = keras.models.Sequential()\n",
        "    model.add(keras.layers.Dense(2, input_dim=2, activation ='sigmoid'))\n",
        "    model.add(keras.layers.Dense(1, activation = 'sigmoid'))\n",
        "    model.compile(loss='mse',\n",
        "                  optimizer=optimizer_adam,\n",
        "                  metrics=['binary_accuracy'])\n",
        "    history = model.fit(X, y, epochs=1000, verbose=False)\n",
        "    y_pred = model.predict(X)\n",
        "    if y_pred[0] < 0.1 and y_pred[3] < 0.1 and y_pred[1] > 0.9 and y_pred[2] > 0.9:\n",
        "        mlp_xor_weights = model.get_weights()\n",
        "        break"
      ]
    },
    {
      "cell_type": "code",
      "execution_count": 8,
      "id": "203a085c-f33f-4641-b505-88b1d52b6cc7",
      "metadata": {
        "pycharm": {
          "name": "#%%\n"
        },
        "colab": {
          "base_uri": "https://localhost:8080/"
        },
        "id": "203a085c-f33f-4641-b505-88b1d52b6cc7",
        "outputId": "01624f23-0f3b-49d5-ba18-dd7fa23c76d2"
      },
      "outputs": [
        {
          "output_type": "execute_result",
          "data": {
            "text/plain": [
              "[(1.0, 1.0),\n",
              " (0.6583333333333333, 0.7),\n",
              " (0.8916666666666667, 0.8333333333333334)]"
            ]
          },
          "metadata": {},
          "execution_count": 8
        }
      ],
      "source": [
        "per_acc"
      ]
    },
    {
      "cell_type": "code",
      "execution_count": 9,
      "id": "8cc5c481-7930-4948-965a-f9188c691c1d",
      "metadata": {
        "pycharm": {
          "name": "#%%\n"
        },
        "id": "8cc5c481-7930-4948-965a-f9188c691c1d"
      },
      "outputs": [],
      "source": [
        "# per_wght"
      ]
    },
    {
      "cell_type": "code",
      "execution_count": 10,
      "id": "496a5265-1811-44b4-afca-aa8b93d16c02",
      "metadata": {
        "pycharm": {
          "name": "#%%\n"
        },
        "id": "496a5265-1811-44b4-afca-aa8b93d16c02"
      },
      "outputs": [],
      "source": [
        "# mlp_xor_weights"
      ]
    },
    {
      "cell_type": "code",
      "execution_count": 11,
      "id": "2516b529-d0d2-4836-b1e0-d2e1dde0c607",
      "metadata": {
        "pycharm": {
          "name": "#%%\n"
        },
        "id": "2516b529-d0d2-4836-b1e0-d2e1dde0c607"
      },
      "outputs": [],
      "source": [
        "with open('per_acc.pkl','wb') as f:\n",
        "    pickle.dump(per_acc,f)\n",
        "    \n",
        "with open('per_wght.pkl','wb') as f:\n",
        "    pickle.dump(per_wght,f)\n",
        "    \n",
        "with open('mlp_xor_weights.pkl','wb') as f:\n",
        "    pickle.dump(mlp_xor_weights,f)"
      ]
    }
  ],
  "metadata": {
    "kernelspec": {
      "display_name": "Python 3 (ipykernel)",
      "language": "python",
      "name": "python3"
    },
    "language_info": {
      "codemirror_mode": {
        "name": "ipython",
        "version": 3
      },
      "file_extension": ".py",
      "mimetype": "text/x-python",
      "name": "python",
      "nbconvert_exporter": "python",
      "pygments_lexer": "ipython3",
      "version": "3.9.4"
    },
    "colab": {
      "provenance": []
    }
  },
  "nbformat": 4,
  "nbformat_minor": 5
}